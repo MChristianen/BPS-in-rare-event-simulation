{
 "cells": [
  {
   "cell_type": "markdown",
   "metadata": {
    "heading_collapsed": true
   },
   "source": [
    "## Import packages"
   ]
  },
  {
   "cell_type": "code",
   "execution_count": 4,
   "metadata": {
    "hidden": true
   },
   "outputs": [],
   "source": [
    "import pandas as pd\n",
    "import math\n",
    "import random\n",
    "import numpy as np\n",
    "import pylab as pl\n",
    "import scipy.special as ss\n",
    "import matplotlib.pyplot as plt\n",
    "from scipy.stats import norm\n",
    "import scipy.stats as st\n",
    "\n",
    "np.random.seed(2035909)"
   ]
  },
  {
   "cell_type": "markdown",
   "metadata": {},
   "source": [
    "# Intersection vector and sphere"
   ]
  },
  {
   "cell_type": "markdown",
   "metadata": {},
   "source": [
    "The equation for a d-dimensional sphere, with center $(c_1,\\ldots,c_d)$ we have for all points $(x_1,\\ldots,x_d)$ $$\\sum_{i=1}^{d} (x_i-c_i)^2 = r^2$$ In vector notation we get $$|P-C|^2 = r^2$$ where $C = (c_1,\\ldots,c_d)$ is the center and $P = (x_1,\\ldots,x_d)$ is a vector that fulfils the equation above. One point that is in this set $P$ is the intersection of our vector and the sphere. Let $$P(t) = x+t\\cdot v$$ denote the equation of our vector. If we plug in this equation in the equation above and solve for $t$, we find the time until the vector intersects with the sphere (if the intersection exists). Thus, \n",
    "\n",
    "$$\n",
    "\\begin{align}\n",
    "0 & = |P-C|^2 - r^2 \\\\\n",
    "& = |x+t\\cdot v-C|^2 - r^2 \\\\\n",
    "& = (x+t\\cdot v-C)\\bullet (x+t\\cdot v-C) - r^2 \\\\\n",
    "& = t^2 v\\bullet v + t(2\\cdot x\\bullet v - 2\\cdot C\\bullet v) + x\\bullet x + C\\bullet C - 2\\cdot x\\bullet C - r^2 \\\\\n",
    "& = t^2\\big(v\\bullet v\\big) + t\\big(2\\cdot (v\\bullet(x-C))\\big) + (x-C)\\bullet(x-C) - r^2\n",
    "\\end{align}\n",
    "$$\n",
    "\n",
    "where $\\bullet$ denotes the standard inproduct. Now, this is a simple polynomial equation that we can solve for $t$. \n",
    "\n",
    "Define $D = \\big(2\\cdot (v\\bullet(x-C))\\big)^2 - 4\\cdot \\big(v\\bullet v\\big) \\cdot \\big((x-C)\\bullet(x-C) - r^2\\big)$. If $D<0$ there are no solutions and there will be no intersections between the vector and the sphere. If $D=0$ there is only one solution, namely $$t_{*} = -\\frac{v\\bullet(x-C)}{v\\bullet v}$$ and if $D>0$ there are two solutions. However, we are looking for the smallest. Hence, $$t_{*} = \\text{min}\\Big(\\frac{-2\\cdot (v\\bullet(x-C))+\\sqrt{D}}{2\\cdot v\\bullet v},\\frac{-2\\cdot (v\\bullet(x-C))-\\sqrt{D}}{2\\cdot v\\bullet v}\\Big)$$\n",
    "\n",
    "The normal at the intersecting point is exactly the vector $x+t_{*}\\cdot v - C$."
   ]
  },
  {
   "cell_type": "code",
   "execution_count": 302,
   "metadata": {},
   "outputs": [],
   "source": [
    "def tau_bounce_sphere(x,v,r,C):\n",
    "    D = (2*(np.dot(v,x-C)))**2 - 4*np.dot(v,v)*(np.dot(x-C,x-C)-r**2)\n",
    "    if (D<0):\n",
    "        tau = np.nan\n",
    "    elif (D==0):\n",
    "        tau = -(np.dot(v,x-C))/(np.dot(v,v))\n",
    "    else:\n",
    "        tau = min((-2*np.dot(v,x-C) + np.sqrt(D))/(2*np.dot(v,v)),(-2*np.dot(v,x-C) - np.sqrt(D))/(2*np.dot(v,v)))\n",
    "    return tau"
   ]
  },
  {
   "cell_type": "markdown",
   "metadata": {},
   "source": [
    "# Bouncy sampler"
   ]
  },
  {
   "cell_type": "markdown",
   "metadata": {
    "heading_collapsed": true
   },
   "source": [
    "### Class BPS"
   ]
  },
  {
   "cell_type": "code",
   "execution_count": 34,
   "metadata": {
    "hidden": true
   },
   "outputs": [],
   "source": [
    "def random_time(a,b,y):\n",
    "    if b == 0:\n",
    "        if a > 0:\n",
    "            return np.log(y)/(-float(a))\n",
    "        else:\n",
    "            return -1\n",
    "    elif b > 0:\n",
    "        if a >= 0:\n",
    "            return -a/float(b) + np.sqrt(a**2/float(b**2) - 2*np.log(y)/float(b))\n",
    "        else:\n",
    "            return -a/float(b) + random_time(0,b,y)\n",
    "    else:\n",
    "        if a > 0:\n",
    "            if np.log(y) >= a**2/float(2*b):\n",
    "                return -a/float(b) - np.sqrt(a**2/float(b**2) - 2*np.log(y)/float(b))\n",
    "            else:\n",
    "                return -1\n",
    "        else:\n",
    "            return -1"
   ]
  },
  {
   "cell_type": "code",
   "execution_count": 35,
   "metadata": {
    "hidden": true
   },
   "outputs": [],
   "source": [
    "def resample_velocity(dim):\n",
    "    mean = [0]*dim\n",
    "    cov = np.eye(dim)\n",
    "    return np.random.multivariate_normal(mean,cov)"
   ]
  },
  {
   "cell_type": "code",
   "execution_count": 36,
   "metadata": {
    "hidden": true
   },
   "outputs": [],
   "source": [
    "def flip_BPS(x,v,mu,V):\n",
    "    gradient = np.dot(V,(x-mu))\n",
    "    return v-2*((np.dot(v,gradient))/float((np.dot(gradient,gradient))))*gradient"
   ]
  },
  {
   "cell_type": "code",
   "execution_count": 37,
   "metadata": {
    "hidden": true
   },
   "outputs": [],
   "source": [
    "def reflection(v,n):\n",
    "    \"\"\"Return specular reflection\"\"\"\n",
    "    return v-2*(np.dot(v,n)/float((np.dot(n,n))))*n"
   ]
  },
  {
   "cell_type": "code",
   "execution_count": 38,
   "metadata": {
    "hidden": true
   },
   "outputs": [],
   "source": [
    "def normal_sphere(x_hit,C):\n",
    "    \"\"\"Return normal for incoming vector on sphere\"\"\"\n",
    "    return x_hit-C"
   ]
  },
  {
   "cell_type": "code",
   "execution_count": 39,
   "metadata": {
    "code_folding": [],
    "hidden": true
   },
   "outputs": [],
   "source": [
    "class BPS:\n",
    "    def __init__(self,x0,dim,mu,V,final_time,boundary = np.array([[0,0],1])):\n",
    "        self.dim = dim\n",
    "        self.x0 = x0\n",
    "        self.mu = mu\n",
    "        self.V = V\n",
    "        self.final_time = final_time\n",
    "        self.boundary = boundary\n",
    "        self.simulation = self._simulation()\n",
    "\n",
    "    def description(self):\n",
    "        print \"We are trying to sample from a normal distribution in\", self.dim, \"-d, with mean\", self.mu, \"and variance\", self.V\n",
    "        \n",
    "    def _simulation(self): \n",
    "    \n",
    "        # Control the total time\n",
    "        current_time = 0\n",
    "\n",
    "        # Initialize dataframes\n",
    "        T = pd.DataFrame(columns = ['T'])\n",
    "        X = pd.DataFrame(columns = range(self.dim))\n",
    "        theta = pd.DataFrame(columns = range(self.dim))\n",
    "\n",
    "        # Initial values\n",
    "        T.loc[1] = 0\n",
    "        X.loc[1,] = self.x0#[0]*self.dim\n",
    "        theta.loc[1,] = resample_velocity(self.dim)\n",
    "\n",
    "        # Define the refresh rate\n",
    "        refresh_rate = 1\n",
    "        bounce = -1\n",
    "        k = 1\n",
    "        bound = np.nan\n",
    "\n",
    "        while (current_time < self.final_time):\n",
    "\n",
    "            # Draw uniform r.v. for switching time, refresh time and acceptance of new switching time\n",
    "            R = np.random.uniform(0,1,[1,2])\n",
    "            a = np.dot(theta.loc[k,:].values,np.dot(self.V,X.loc[k,:].values-self.mu))\n",
    "            b = np.dot(theta.loc[k,:].values,np.dot(self.V,theta.loc[k,:].values))\n",
    "            bounce = random_time(a,b,R[0,0])\n",
    "            #print('bounce',bounce)\n",
    "            \n",
    "            if self.boundary is not None:\n",
    "                #print('x',X.loc[k,:])\n",
    "                #print('v',theta.loc[k,:])\n",
    "                bound = tau_bounce_sphere(X.loc[k,:],theta.loc[k,:],self.boundary[1],self.boundary[0])\n",
    "                if bound<0:\n",
    "                    bound = np.nan\n",
    "                    \n",
    "            if (refresh_rate <= 0):\n",
    "                refresh = -1\n",
    "                print('Infinity')\n",
    "                tau = bounce\n",
    "            else:\n",
    "                refresh = -np.log(R[0,1])/float(refresh_rate)\n",
    "                #print('refresh',refresh)\n",
    "                tau = np.nanmin([bounce,refresh,bound])\n",
    "            \n",
    "            #print(tau)\n",
    "            # Update time and path\n",
    "            T.loc[k+1] = T.loc[k] + tau\n",
    "            X.loc[k+1,:] = X.loc[k,:] + theta.loc[k,:]*tau\n",
    "            #theta.loc[k+1,:] = theta.loc[k,:]\n",
    "            #print(X.loc[k+1,:])\n",
    "            \n",
    "            #print('Old v',theta.loc[k,:])\n",
    "            if tau == refresh: # refresh\n",
    "                theta.loc[k+1,:] = resample_velocity(self.dim)\n",
    "            elif tau == bound: # bound\n",
    "                n = normal_sphere(X.loc[k+1,:],self.boundary[0])\n",
    "                #print('n',n)\n",
    "                theta.loc[k+1,:] = reflection(theta.loc[k,:],n)\n",
    "                #print('New v',theta.loc[k+1,:])\n",
    "            else: # bounce\n",
    "                theta.loc[k+1,:] = flip_BPS(X.loc[k+1,:].values,theta.loc[k,:].values,self.mu,self.V)\n",
    "            \n",
    "            k = k+1\n",
    "            current_time = T.loc[k].item()\n",
    "\n",
    "        return T,X,theta\n",
    "    \n",
    "    def mean_and_covariance(self):\n",
    "        T,X,theta = self.simulation\n",
    "        d = X.shape[1]\n",
    "        n_points = T.shape[0]\n",
    "\n",
    "        k = 2\n",
    "        means = np.zeros(d)\n",
    "        covariance = np.zeros((d,d))\n",
    "        T_max = T.loc[n_points,'T']\n",
    "\n",
    "        t_prev= T.loc[k-1,'T']\n",
    "        x_prev= X.loc[k-1,:].values\n",
    "\n",
    "        while k <= n_points:\n",
    "            t_now = T.loc[k,'T']\n",
    "            x_now = X.loc[k,:].values\n",
    "\n",
    "            means = means + (t_now-t_prev)*(x_prev+x_now)/(float(2)*T_max)\n",
    "            covariance = covariance + (t_now-t_prev)*((1/(float(6)*T_max))*(2*np.multiply.outer(x_now,x_now) + np.multiply.outer(x_now,x_prev) + np.multiply.outer(x_prev,x_now) + 2*np.multiply.outer(x_prev,x_prev)))\n",
    "            t_prev = t_now\n",
    "            x_prev = x_now\n",
    "            k = k+1\n",
    "\n",
    "        covariance = covariance - np.multiply.outer(means,means)\n",
    "\n",
    "        return means, covariance\n",
    "    \n",
    "    def plot_path(self):\n",
    "        fig, ax = plt.subplots()\n",
    "        T,X,theta = self.simulation\n",
    "        if self.dim == 1:\n",
    "            plt.xlabel('t')\n",
    "            plt.ylabel('X')\n",
    "            plt.plot(T,X)\n",
    "        elif self.dim == 2:\n",
    "            plt.xlabel('X1(t)')\n",
    "            plt.ylabel('X2(t)')\n",
    "            plt.plot(X.loc[:,0], X.loc[:,1])\n",
    "            \n",
    "        circ=plt.Circle(self.boundary[0], radius=self.boundary[1],fill=False)\n",
    "        ax.add_patch(circ)\n",
    "        plt.axis('equal')\n",
    "        \n",
    "        plt.grid(True)\n",
    "        plt.show()\n",
    "        \n",
    "    def sample_traj(self,m):\n",
    "        T,X,theta = self.simulation\n",
    "        n_points = T.shape[0]-1\n",
    "        tau = T.loc[n_points,'T']\n",
    "        dim = X.shape[1]\n",
    "        sample = pd.DataFrame(columns = range(dim))\n",
    "\n",
    "        for i in range(1,m):\n",
    "            t = i*tau/m\n",
    "            index = np.argmax(T.loc[:,'T']>t)-1\n",
    "            traj = X.iloc[index,:].values+(t-(T.loc[index,'T']))*np.int64(theta.iloc[index,:].values)\n",
    "            sample.loc[i,:] = traj\n",
    "        return sample"
   ]
  },
  {
   "cell_type": "markdown",
   "metadata": {
    "heading_collapsed": true
   },
   "source": [
    "### Examples"
   ]
  },
  {
   "cell_type": "code",
   "execution_count": 158,
   "metadata": {
    "hidden": true
   },
   "outputs": [
    {
     "data": {
      "image/png": "[encoded data removed]",
      "text/plain": [
       "<Figure size 432x288 with 1 Axes>"
      ]
     },
     "metadata": {
      "needs_background": "light"
     },
     "output_type": "display_data"
    }
   ],
   "source": [
    "np.random.seed(134304)\n",
    "%matplotlib inline\n",
    "bps = BPS([2,2],2,np.array([1,0]),np.array([[3,1],[1,3]]),100,boundary = np.array([[2,0],1]))\n",
    "bps.plot_path()"
   ]
  },
  {
   "cell_type": "code",
   "execution_count": 279,
   "metadata": {
    "hidden": true
   },
   "outputs": [],
   "source": [
    "np.random.seed(23050)\n",
    "bps = BPS([2,2,2],3,np.array([0,0,0]),np.array([[1,0,0],[0,1,0],[0,0,1]]),100,boundary = np.array([[0,0,0],0.01]))\n",
    "_,X,_ = bps.simulation"
   ]
  },
  {
   "cell_type": "code",
   "execution_count": 280,
   "metadata": {
    "hidden": true
   },
   "outputs": [
    {
     "data": {
      "application/javascript": [
       "/* Put everything inside the global mpl namespace */\n",
       "window.mpl = {};\n",
       "\n",
       "\n",
       "mpl.get_websocket_type = function() {\n",
       "    if (typeof(WebSocket) !== 'undefined') {\n",
       "        return WebSocket;\n",
       "    } else if (typeof(MozWebSocket) !== 'undefined') {\n",
       "        return MozWebSocket;\n",
       "    } else {\n",
       "        alert('Your browser does not have WebSocket support.' +\n",
       "              'Please try Chrome, Safari or Firefox ≥ 6. ' +\n",
       "              'Firefox 4 and 5 are also supported but you ' +\n",
       "              'have to enable WebSockets in about:config.');\n",
       "    };\n",
       "}\n",
       "\n",
       "mpl.figure = function(figure_id, websocket, ondownload, parent_element) {\n",
       "    this.id = figure_id;\n",
       "\n",
       "    this.ws = websocket;\n",
       "\n",
       "    this.supports_binary = (this.ws.binaryType != undefined);\n",
       "\n",
       "    if (!this.supports_binary) {\n",
       "        var warnings = document.getElementById(\"mpl-warnings\");\n",
       "        if (warnings) {\n",
       "            warnings.style.display = 'block';\n",
       "            warnings.textContent = (\n",
       "                \"This browser does not support binary websocket messages. \" +\n",
       "                    \"Performance may be slow.\");\n",
       "        }\n",
       "    }\n",
       "\n",
       "    this.imageObj = new Image();\n",
       "\n",
       "    this.context = undefined;\n",
       "    this.message = undefined;\n",
       "    this.canvas = undefined;\n",
       "    this.rubberband_canvas = undefined;\n",
       "    this.rubberband_context = undefined;\n",
       "    this.format_dropdown = undefined;\n",
       "\n",
       "    this.image_mode = 'full';\n",
       "\n",
       "    this.root = $('<div/>');\n",
       "    this._root_extra_style(this.root)\n",
       "    this.root.attr('style', 'display: inline-block');\n",
       "\n",
       "    $(parent_element).append(this.root);\n",
       "\n",
       "    this._init_header(this);\n",
       "    this._init_canvas(this);\n",
       "    this._init_toolbar(this);\n",
       "\n",
       "    var fig = this;\n",
       "\n",
       "    this.waiting = false;\n",
       "\n",
       "    this.ws.onopen =  function () {\n",
       "            fig.send_message(\"supports_binary\", {value: fig.supports_binary});\n",
       "            fig.send_message(\"send_image_mode\", {});\n",
       "            if (mpl.ratio != 1) {\n",
       "                fig.send_message(\"set_dpi_ratio\", {'dpi_ratio': mpl.ratio});\n",
       "            }\n",
       "            fig.send_message(\"refresh\", {});\n",
       "        }\n",
       "\n",
       "    this.imageObj.onload = function() {\n",
       "            if (fig.image_mode == 'full') {\n",
       "                // Full images could contain transparency (where diff images\n",
       "                // almost always do), so we need to clear the canvas so that\n",
       "                // there is no ghosting.\n",
       "                fig.context.clearRect(0, 0, fig.canvas.width, fig.canvas.height);\n",
       "            }\n",
       "            fig.context.drawImage(fig.imageObj, 0, 0);\n",
       "        };\n",
       "\n",
       "    this.imageObj.onunload = function() {\n",
       "        fig.ws.close();\n",
       "    }\n",
       "\n",
       "    this.ws.onmessage = this._make_on_message_function(this);\n",
       "\n",
       "    this.ondownload = ondownload;\n",
       "}\n",
       "\n",
       "mpl.figure.prototype._init_header = function() {\n",
       "    var titlebar = $(\n",
       "        '<div class=\"ui-dialog-titlebar ui-widget-header ui-corner-all ' +\n",
       "        'ui-helper-clearfix\"/>');\n",
       "    var titletext = $(\n",
       "        '<div class=\"ui-dialog-title\" style=\"width: 100%; ' +\n",
       "        'text-align: center; padding: 3px;\"/>');\n",
       "    titlebar.append(titletext)\n",
       "    this.root.append(titlebar);\n",
       "    this.header = titletext[0];\n",
       "}\n",
       "\n",
       "\n",
       "\n",
       "mpl.figure.prototype._canvas_extra_style = function(canvas_div) {\n",
       "\n",
       "}\n",
       "\n",
       "\n",
       "mpl.figure.prototype._root_extra_style = function(canvas_div) {\n",
       "\n",
       "}\n",
       "\n",
       "mpl.figure.prototype._init_canvas = function() {\n",
       "    var fig = this;\n",
       "\n",
       "    var canvas_div = $('<div/>');\n",
       "\n",
       "    canvas_div.attr('style', 'position: relative; clear: both; outline: 0');\n",
       "\n",
       "    function canvas_keyboard_event(event) {\n",
       "        return fig.key_event(event, event['data']);\n",
       "    }\n",
       "\n",
       "    canvas_div.keydown('key_press', canvas_keyboard_event);\n",
       "    canvas_div.keyup('key_release', canvas_keyboard_event);\n",
       "    this.canvas_div = canvas_div\n",
       "    this._canvas_extra_style(canvas_div)\n",
       "    this.root.append(canvas_div);\n",
       "\n",
       "    var canvas = $('<canvas/>');\n",
       "    canvas.addClass('mpl-canvas');\n",
       "    canvas.attr('style', \"left: 0; top: 0; z-index: 0; outline: 0\")\n",
       "\n",
       "    this.canvas = canvas[0];\n",
       "    this.context = canvas[0].getContext(\"2d\");\n",
       "\n",
       "    var backingStore = this.context.backingStorePixelRatio ||\n",
       "\tthis.context.webkitBackingStorePixelRatio ||\n",
       "\tthis.context.mozBackingStorePixelRatio ||\n",
       "\tthis.context.msBackingStorePixelRatio ||\n",
       "\tthis.context.oBackingStorePixelRatio ||\n",
       "\tthis.context.backingStorePixelRatio || 1;\n",
       "\n",
       "    mpl.ratio = (window.devicePixelRatio || 1) / backingStore;\n",
       "\n",
       "    var rubberband = $('<canvas/>');\n",
       "    rubberband.attr('style', \"position: absolute; left: 0; top: 0; z-index: 1;\")\n",
       "\n",
       "    var pass_mouse_events = true;\n",
       "\n",
       "    canvas_div.resizable({\n",
       "        start: function(event, ui) {\n",
       "            pass_mouse_events = false;\n",
       "        },\n",
       "        resize: function(event, ui) {\n",
       "            fig.request_resize(ui.size.width, ui.size.height);\n",
       "        },\n",
       "        stop: function(event, ui) {\n",
       "            pass_mouse_events = true;\n",
       "            fig.request_resize(ui.size.width, ui.size.height);\n",
       "        },\n",
       "    });\n",
       "\n",
       "    function mouse_event_fn(event) {\n",
       "        if (pass_mouse_events)\n",
       "            return fig.mouse_event(event, event['data']);\n",
       "    }\n",
       "\n",
       "    rubberband.mousedown('button_press', mouse_event_fn);\n",
       "    rubberband.mouseup('button_release', mouse_event_fn);\n",
       "    // Throttle sequential mouse events to 1 every 20ms.\n",
       "    rubberband.mousemove('motion_notify', mouse_event_fn);\n",
       "\n",
       "    rubberband.mouseenter('figure_enter', mouse_event_fn);\n",
       "    rubberband.mouseleave('figure_leave', mouse_event_fn);\n",
       "\n",
       "    canvas_div.on(\"wheel\", function (event) {\n",
       "        event = event.originalEvent;\n",
       "        event['data'] = 'scroll'\n",
       "        if (event.deltaY < 0) {\n",
       "            event.step = 1;\n",
       "        } else {\n",
       "            event.step = -1;\n",
       "        }\n",
       "        mouse_event_fn(event);\n",
       "    });\n",
       "\n",
       "    canvas_div.append(canvas);\n",
       "    canvas_div.append(rubberband);\n",
       "\n",
       "    this.rubberband = rubberband;\n",
       "    this.rubberband_canvas = rubberband[0];\n",
       "    this.rubberband_context = rubberband[0].getContext(\"2d\");\n",
       "    this.rubberband_context.strokeStyle = \"#000000\";\n",
       "\n",
       "    this._resize_canvas = function(width, height) {\n",
       "        // Keep the size of the canvas, canvas container, and rubber band\n",
       "        // canvas in synch.\n",
       "        canvas_div.css('width', width)\n",
       "        canvas_div.css('height', height)\n",
       "\n",
       "        canvas.attr('width', width * mpl.ratio);\n",
       "        canvas.attr('height', height * mpl.ratio);\n",
       "        canvas.attr('style', 'width: ' + width + 'px; height: ' + height + 'px;');\n",
       "\n",
       "        rubberband.attr('width', width);\n",
       "        rubberband.attr('height', height);\n",
       "    }\n",
       "\n",
       "    // Set the figure to an initial 600x600px, this will subsequently be updated\n",
       "    // upon first draw.\n",
       "    this._resize_canvas(600, 600);\n",
       "\n",
       "    // Disable right mouse context menu.\n",
       "    $(this.rubberband_canvas).bind(\"contextmenu\",function(e){\n",
       "        return false;\n",
       "    });\n",
       "\n",
       "    function set_focus () {\n",
       "        canvas.focus();\n",
       "        canvas_div.focus();\n",
       "    }\n",
       "\n",
       "    window.setTimeout(set_focus, 100);\n",
       "}\n",
       "\n",
       "mpl.figure.prototype._init_toolbar = function() {\n",
       "    var fig = this;\n",
       "\n",
       "    var nav_element = $('<div/>')\n",
       "    nav_element.attr('style', 'width: 100%');\n",
       "    this.root.append(nav_element);\n",
       "\n",
       "    // Define a callback function for later on.\n",
       "    function toolbar_event(event) {\n",
       "        return fig.toolbar_button_onclick(event['data']);\n",
       "    }\n",
       "    function toolbar_mouse_event(event) {\n",
       "        return fig.toolbar_button_onmouseover(event['data']);\n",
       "    }\n",
       "\n",
       "    for(var toolbar_ind in mpl.toolbar_items) {\n",
       "        var name = mpl.toolbar_items[toolbar_ind][0];\n",
       "        var tooltip = mpl.toolbar_items[toolbar_ind][1];\n",
       "        var image = mpl.toolbar_items[toolbar_ind][2];\n",
       "        var method_name = mpl.toolbar_items[toolbar_ind][3];\n",
       "\n",
       "        if (!name) {\n",
       "            // put a spacer in here.\n",
       "            continue;\n",
       "        }\n",
       "        var button = $('<button/>');\n",
       "        button.addClass('ui-button ui-widget ui-state-default ui-corner-all ' +\n",
       "                        'ui-button-icon-only');\n",
       "        button.attr('role', 'button');\n",
       "        button.attr('aria-disabled', 'false');\n",
       "        button.click(method_name, toolbar_event);\n",
       "        button.mouseover(tooltip, toolbar_mouse_event);\n",
       "\n",
       "        var icon_img = $('<span/>');\n",
       "        icon_img.addClass('ui-button-icon-primary ui-icon');\n",
       "        icon_img.addClass(image);\n",
       "        icon_img.addClass('ui-corner-all');\n",
       "\n",
       "        var tooltip_span = $('<span/>');\n",
       "        tooltip_span.addClass('ui-button-text');\n",
       "        tooltip_span.html(tooltip);\n",
       "\n",
       "        button.append(icon_img);\n",
       "        button.append(tooltip_span);\n",
       "\n",
       "        nav_element.append(button);\n",
       "    }\n",
       "\n",
       "    var fmt_picker_span = $('<span/>');\n",
       "\n",
       "    var fmt_picker = $('<select/>');\n",
       "    fmt_picker.addClass('mpl-toolbar-option ui-widget ui-widget-content');\n",
       "    fmt_picker_span.append(fmt_picker);\n",
       "    nav_element.append(fmt_picker_span);\n",
       "    this.format_dropdown = fmt_picker[0];\n",
       "\n",
       "    for (var ind in mpl.extensions) {\n",
       "        var fmt = mpl.extensions[ind];\n",
       "        var option = $(\n",
       "            '<option/>', {selected: fmt === mpl.default_extension}).html(fmt);\n",
       "        fmt_picker.append(option)\n",
       "    }\n",
       "\n",
       "    // Add hover states to the ui-buttons\n",
       "    $( \".ui-button\" ).hover(\n",
       "        function() { $(this).addClass(\"ui-state-hover\");},\n",
       "        function() { $(this).removeClass(\"ui-state-hover\");}\n",
       "    );\n",
       "\n",
       "    var status_bar = $('<span class=\"mpl-message\"/>');\n",
       "    nav_element.append(status_bar);\n",
       "    this.message = status_bar[0];\n",
       "}\n",
       "\n",
       "mpl.figure.prototype.request_resize = function(x_pixels, y_pixels) {\n",
       "    // Request matplotlib to resize the figure. Matplotlib will then trigger a resize in the client,\n",
       "    // which will in turn request a refresh of the image.\n",
       "    this.send_message('resize', {'width': x_pixels, 'height': y_pixels});\n",
       "}\n",
       "\n",
       "mpl.figure.prototype.send_message = function(type, properties) {\n",
       "    properties['type'] = type;\n",
       "    properties['figure_id'] = this.id;\n",
       "    this.ws.send(JSON.stringify(properties));\n",
       "}\n",
       "\n",
       "mpl.figure.prototype.send_draw_message = function() {\n",
       "    if (!this.waiting) {\n",
       "        this.waiting = true;\n",
       "        this.ws.send(JSON.stringify({type: \"draw\", figure_id: this.id}));\n",
       "    }\n",
       "}\n",
       "\n",
       "\n",
       "mpl.figure.prototype.handle_save = function(fig, msg) {\n",
       "    var format_dropdown = fig.format_dropdown;\n",
       "    var format = format_dropdown.options[format_dropdown.selectedIndex].value;\n",
       "    fig.ondownload(fig, format);\n",
       "}\n",
       "\n",
       "\n",
       "mpl.figure.prototype.handle_resize = function(fig, msg) {\n",
       "    var size = msg['size'];\n",
       "    if (size[0] != fig.canvas.width || size[1] != fig.canvas.height) {\n",
       "        fig._resize_canvas(size[0], size[1]);\n",
       "        fig.send_message(\"refresh\", {});\n",
       "    };\n",
       "}\n",
       "\n",
       "mpl.figure.prototype.handle_rubberband = function(fig, msg) {\n",
       "    var x0 = msg['x0'] / mpl.ratio;\n",
       "    var y0 = (fig.canvas.height - msg['y0']) / mpl.ratio;\n",
       "    var x1 = msg['x1'] / mpl.ratio;\n",
       "    var y1 = (fig.canvas.height - msg['y1']) / mpl.ratio;\n",
       "    x0 = Math.floor(x0) + 0.5;\n",
       "    y0 = Math.floor(y0) + 0.5;\n",
       "    x1 = Math.floor(x1) + 0.5;\n",
       "    y1 = Math.floor(y1) + 0.5;\n",
       "    var min_x = Math.min(x0, x1);\n",
       "    var min_y = Math.min(y0, y1);\n",
       "    var width = Math.abs(x1 - x0);\n",
       "    var height = Math.abs(y1 - y0);\n",
       "\n",
       "    fig.rubberband_context.clearRect(\n",
       "        0, 0, fig.canvas.width, fig.canvas.height);\n",
       "\n",
       "    fig.rubberband_context.strokeRect(min_x, min_y, width, height);\n",
       "}\n",
       "\n",
       "mpl.figure.prototype.handle_figure_label = function(fig, msg) {\n",
       "    // Updates the figure title.\n",
       "    fig.header.textContent = msg['label'];\n",
       "}\n",
       "\n",
       "mpl.figure.prototype.handle_cursor = function(fig, msg) {\n",
       "    var cursor = msg['cursor'];\n",
       "    switch(cursor)\n",
       "    {\n",
       "    case 0:\n",
       "        cursor = 'pointer';\n",
       "        break;\n",
       "    case 1:\n",
       "        cursor = 'default';\n",
       "        break;\n",
       "    case 2:\n",
       "        cursor = 'crosshair';\n",
       "        break;\n",
       "    case 3:\n",
       "        cursor = 'move';\n",
       "        break;\n",
       "    }\n",
       "    fig.rubberband_canvas.style.cursor = cursor;\n",
       "}\n",
       "\n",
       "mpl.figure.prototype.handle_message = function(fig, msg) {\n",
       "    fig.message.textContent = msg['message'];\n",
       "}\n",
       "\n",
       "mpl.figure.prototype.handle_draw = function(fig, msg) {\n",
       "    // Request the server to send over a new figure.\n",
       "    fig.send_draw_message();\n",
       "}\n",
       "\n",
       "mpl.figure.prototype.handle_image_mode = function(fig, msg) {\n",
       "    fig.image_mode = msg['mode'];\n",
       "}\n",
       "\n",
       "mpl.figure.prototype.updated_canvas_event = function() {\n",
       "    // Called whenever the canvas gets updated.\n",
       "    this.send_message(\"ack\", {});\n",
       "}\n",
       "\n",
       "// A function to construct a web socket function for onmessage handling.\n",
       "// Called in the figure constructor.\n",
       "mpl.figure.prototype._make_on_message_function = function(fig) {\n",
       "    return function socket_on_message(evt) {\n",
       "        if (evt.data instanceof Blob) {\n",
       "            /* FIXME: We get \"Resource interpreted as Image but\n",
       "             * transferred with MIME type text/plain:\" errors on\n",
       "             * Chrome.  But how to set the MIME type?  It doesn't seem\n",
       "             * to be part of the websocket stream */\n",
       "            evt.data.type = \"image/png\";\n",
       "\n",
       "            /* Free the memory for the previous frames */\n",
       "            if (fig.imageObj.src) {\n",
       "                (window.URL || window.webkitURL).revokeObjectURL(\n",
       "                    fig.imageObj.src);\n",
       "            }\n",
       "\n",
       "            fig.imageObj.src = (window.URL || window.webkitURL).createObjectURL(\n",
       "                evt.data);\n",
       "            fig.updated_canvas_event();\n",
       "            fig.waiting = false;\n",
       "            return;\n",
       "        }\n",
       "        else if (typeof evt.data === 'string' && evt.data.slice(0, 21) == \"data:image/png;base64\") {\n",
       "            fig.imageObj.src = evt.data;\n",
       "            fig.updated_canvas_event();\n",
       "            fig.waiting = false;\n",
       "            return;\n",
       "        }\n",
       "\n",
       "        var msg = JSON.parse(evt.data);\n",
       "        var msg_type = msg['type'];\n",
       "\n",
       "        // Call the  \"handle_{type}\" callback, which takes\n",
       "        // the figure and JSON message as its only arguments.\n",
       "        try {\n",
       "            var callback = fig[\"handle_\" + msg_type];\n",
       "        } catch (e) {\n",
       "            console.log(\"No handler for the '\" + msg_type + \"' message type: \", msg);\n",
       "            return;\n",
       "        }\n",
       "\n",
       "        if (callback) {\n",
       "            try {\n",
       "                // console.log(\"Handling '\" + msg_type + \"' message: \", msg);\n",
       "                callback(fig, msg);\n",
       "            } catch (e) {\n",
       "                console.log(\"Exception inside the 'handler_\" + msg_type + \"' callback:\", e, e.stack, msg);\n",
       "            }\n",
       "        }\n",
       "    };\n",
       "}\n",
       "\n",
       "// from http://stackoverflow.com/questions/1114465/getting-mouse-location-in-canvas\n",
       "mpl.findpos = function(e) {\n",
       "    //this section is from http://www.quirksmode.org/js/events_properties.html\n",
       "    var targ;\n",
       "    if (!e)\n",
       "        e = window.event;\n",
       "    if (e.target)\n",
       "        targ = e.target;\n",
       "    else if (e.srcElement)\n",
       "        targ = e.srcElement;\n",
       "    if (targ.nodeType == 3) // defeat Safari bug\n",
       "        targ = targ.parentNode;\n",
       "\n",
       "    // jQuery normalizes the pageX and pageY\n",
       "    // pageX,Y are the mouse positions relative to the document\n",
       "    // offset() returns the position of the element relative to the document\n",
       "    var x = e.pageX - $(targ).offset().left;\n",
       "    var y = e.pageY - $(targ).offset().top;\n",
       "\n",
       "    return {\"x\": x, \"y\": y};\n",
       "};\n",
       "\n",
       "/*\n",
       " * return a copy of an object with only non-object keys\n",
       " * we need this to avoid circular references\n",
       " * http://stackoverflow.com/a/24161582/3208463\n",
       " */\n",
       "function simpleKeys (original) {\n",
       "  return Object.keys(original).reduce(function (obj, key) {\n",
       "    if (typeof original[key] !== 'object')\n",
       "        obj[key] = original[key]\n",
       "    return obj;\n",
       "  }, {});\n",
       "}\n",
       "\n",
       "mpl.figure.prototype.mouse_event = function(event, name) {\n",
       "    var canvas_pos = mpl.findpos(event)\n",
       "\n",
       "    if (name === 'button_press')\n",
       "    {\n",
       "        this.canvas.focus();\n",
       "        this.canvas_div.focus();\n",
       "    }\n",
       "\n",
       "    var x = canvas_pos.x * mpl.ratio;\n",
       "    var y = canvas_pos.y * mpl.ratio;\n",
       "\n",
       "    this.send_message(name, {x: x, y: y, button: event.button,\n",
       "                             step: event.step,\n",
       "                             guiEvent: simpleKeys(event)});\n",
       "\n",
       "    /* This prevents the web browser from automatically changing to\n",
       "     * the text insertion cursor when the button is pressed.  We want\n",
       "     * to control all of the cursor setting manually through the\n",
       "     * 'cursor' event from matplotlib */\n",
       "    event.preventDefault();\n",
       "    return false;\n",
       "}\n",
       "\n",
       "mpl.figure.prototype._key_event_extra = function(event, name) {\n",
       "    // Handle any extra behaviour associated with a key event\n",
       "}\n",
       "\n",
       "mpl.figure.prototype.key_event = function(event, name) {\n",
       "\n",
       "    // Prevent repeat events\n",
       "    if (name == 'key_press')\n",
       "    {\n",
       "        if (event.which === this._key)\n",
       "            return;\n",
       "        else\n",
       "            this._key = event.which;\n",
       "    }\n",
       "    if (name == 'key_release')\n",
       "        this._key = null;\n",
       "\n",
       "    var value = '';\n",
       "    if (event.ctrlKey && event.which != 17)\n",
       "        value += \"ctrl+\";\n",
       "    if (event.altKey && event.which != 18)\n",
       "        value += \"alt+\";\n",
       "    if (event.shiftKey && event.which != 16)\n",
       "        value += \"shift+\";\n",
       "\n",
       "    value += 'k';\n",
       "    value += event.which.toString();\n",
       "\n",
       "    this._key_event_extra(event, name);\n",
       "\n",
       "    this.send_message(name, {key: value,\n",
       "                             guiEvent: simpleKeys(event)});\n",
       "    return false;\n",
       "}\n",
       "\n",
       "mpl.figure.prototype.toolbar_button_onclick = function(name) {\n",
       "    if (name == 'download') {\n",
       "        this.handle_save(this, null);\n",
       "    } else {\n",
       "        this.send_message(\"toolbar_button\", {name: name});\n",
       "    }\n",
       "};\n",
       "\n",
       "mpl.figure.prototype.toolbar_button_onmouseover = function(tooltip) {\n",
       "    this.message.textContent = tooltip;\n",
       "};\n",
       "mpl.toolbar_items = [[\"Home\", \"Reset original view\", \"fa fa-home icon-home\", \"home\"], [\"Back\", \"Back to  previous view\", \"fa fa-arrow-left icon-arrow-left\", \"back\"], [\"Forward\", \"Forward to next view\", \"fa fa-arrow-right icon-arrow-right\", \"forward\"], [\"\", \"\", \"\", \"\"], [\"Pan\", \"Pan axes with left mouse, zoom with right\", \"fa fa-arrows icon-move\", \"pan\"], [\"Zoom\", \"Zoom to rectangle\", \"fa fa-square-o icon-check-empty\", \"zoom\"], [\"\", \"\", \"\", \"\"], [\"Download\", \"Download plot\", \"fa fa-floppy-o icon-save\", \"download\"]];\n",
       "\n",
       "mpl.extensions = [\"eps\", \"pdf\", \"png\", \"ps\", \"raw\", \"svg\"];\n",
       "\n",
       "mpl.default_extension = \"png\";var comm_websocket_adapter = function(comm) {\n",
       "    // Create a \"websocket\"-like object which calls the given IPython comm\n",
       "    // object with the appropriate methods. Currently this is a non binary\n",
       "    // socket, so there is still some room for performance tuning.\n",
       "    var ws = {};\n",
       "\n",
       "    ws.close = function() {\n",
       "        comm.close()\n",
       "    };\n",
       "    ws.send = function(m) {\n",
       "        //console.log('sending', m);\n",
       "        comm.send(m);\n",
       "    };\n",
       "    // Register the callback with on_msg.\n",
       "    comm.on_msg(function(msg) {\n",
       "        //console.log('receiving', msg['content']['data'], msg);\n",
       "        // Pass the mpl event to the overridden (by mpl) onmessage function.\n",
       "        ws.onmessage(msg['content']['data'])\n",
       "    });\n",
       "    return ws;\n",
       "}\n",
       "\n",
       "mpl.mpl_figure_comm = function(comm, msg) {\n",
       "    // This is the function which gets called when the mpl process\n",
       "    // starts-up an IPython Comm through the \"matplotlib\" channel.\n",
       "\n",
       "    var id = msg.content.data.id;\n",
       "    // Get hold of the div created by the display call when the Comm\n",
       "    // socket was opened in Python.\n",
       "    var element = $(\"#\" + id);\n",
       "    var ws_proxy = comm_websocket_adapter(comm)\n",
       "\n",
       "    function ondownload(figure, format) {\n",
       "        window.open(figure.imageObj.src);\n",
       "    }\n",
       "\n",
       "    var fig = new mpl.figure(id, ws_proxy,\n",
       "                           ondownload,\n",
       "                           element.get(0));\n",
       "\n",
       "    // Call onopen now - mpl needs it, as it is assuming we've passed it a real\n",
       "    // web socket which is closed, not our websocket->open comm proxy.\n",
       "    ws_proxy.onopen();\n",
       "\n",
       "    fig.parent_element = element.get(0);\n",
       "    fig.cell_info = mpl.find_output_cell(\"<div id='\" + id + \"'></div>\");\n",
       "    if (!fig.cell_info) {\n",
       "        console.error(\"Failed to find cell for figure\", id, fig);\n",
       "        return;\n",
       "    }\n",
       "\n",
       "    var output_index = fig.cell_info[2]\n",
       "    var cell = fig.cell_info[0];\n",
       "\n",
       "};\n",
       "\n",
       "mpl.figure.prototype.handle_close = function(fig, msg) {\n",
       "    var width = fig.canvas.width/mpl.ratio\n",
       "    fig.root.unbind('remove')\n",
       "\n",
       "    // Update the output cell to use the data from the current canvas.\n",
       "    fig.push_to_output();\n",
       "    var dataURL = fig.canvas.toDataURL();\n",
       "    // Re-enable the keyboard manager in IPython - without this line, in FF,\n",
       "    // the notebook keyboard shortcuts fail.\n",
       "    IPython.keyboard_manager.enable()\n",
       "    $(fig.parent_element).html('<img src=\"' + dataURL + '\" width=\"' + width + '\">');\n",
       "    fig.close_ws(fig, msg);\n",
       "}\n",
       "\n",
       "mpl.figure.prototype.close_ws = function(fig, msg){\n",
       "    fig.send_message('closing', msg);\n",
       "    // fig.ws.close()\n",
       "}\n",
       "\n",
       "mpl.figure.prototype.push_to_output = function(remove_interactive) {\n",
       "    // Turn the data on the canvas into data in the output cell.\n",
       "    var width = this.canvas.width/mpl.ratio\n",
       "    var dataURL = this.canvas.toDataURL();\n",
       "    this.cell_info[1]['text/html'] = '<img src=\"' + dataURL + '\" width=\"' + width + '\">';\n",
       "}\n",
       "\n",
       "mpl.figure.prototype.updated_canvas_event = function() {\n",
       "    // Tell IPython that the notebook contents must change.\n",
       "    IPython.notebook.set_dirty(true);\n",
       "    this.send_message(\"ack\", {});\n",
       "    var fig = this;\n",
       "    // Wait a second, then push the new image to the DOM so\n",
       "    // that it is saved nicely (might be nice to debounce this).\n",
       "    setTimeout(function () { fig.push_to_output() }, 1000);\n",
       "}\n",
       "\n",
       "mpl.figure.prototype._init_toolbar = function() {\n",
       "    var fig = this;\n",
       "\n",
       "    var nav_element = $('<div/>')\n",
       "    nav_element.attr('style', 'width: 100%');\n",
       "    this.root.append(nav_element);\n",
       "\n",
       "    // Define a callback function for later on.\n",
       "    function toolbar_event(event) {\n",
       "        return fig.toolbar_button_onclick(event['data']);\n",
       "    }\n",
       "    function toolbar_mouse_event(event) {\n",
       "        return fig.toolbar_button_onmouseover(event['data']);\n",
       "    }\n",
       "\n",
       "    for(var toolbar_ind in mpl.toolbar_items){\n",
       "        var name = mpl.toolbar_items[toolbar_ind][0];\n",
       "        var tooltip = mpl.toolbar_items[toolbar_ind][1];\n",
       "        var image = mpl.toolbar_items[toolbar_ind][2];\n",
       "        var method_name = mpl.toolbar_items[toolbar_ind][3];\n",
       "\n",
       "        if (!name) { continue; };\n",
       "\n",
       "        var button = $('<button class=\"btn btn-default\" href=\"#\" title=\"' + name + '\"><i class=\"fa ' + image + ' fa-lg\"></i></button>');\n",
       "        button.click(method_name, toolbar_event);\n",
       "        button.mouseover(tooltip, toolbar_mouse_event);\n",
       "        nav_element.append(button);\n",
       "    }\n",
       "\n",
       "    // Add the status bar.\n",
       "    var status_bar = $('<span class=\"mpl-message\" style=\"text-align:right; float: right;\"/>');\n",
       "    nav_element.append(status_bar);\n",
       "    this.message = status_bar[0];\n",
       "\n",
       "    // Add the close button to the window.\n",
       "    var buttongrp = $('<div class=\"btn-group inline pull-right\"></div>');\n",
       "    var button = $('<button class=\"btn btn-mini btn-primary\" href=\"#\" title=\"Stop Interaction\"><i class=\"fa fa-power-off icon-remove icon-large\"></i></button>');\n",
       "    button.click(function (evt) { fig.handle_close(fig, {}); } );\n",
       "    button.mouseover('Stop Interaction', toolbar_mouse_event);\n",
       "    buttongrp.append(button);\n",
       "    var titlebar = this.root.find($('.ui-dialog-titlebar'));\n",
       "    titlebar.prepend(buttongrp);\n",
       "}\n",
       "\n",
       "mpl.figure.prototype._root_extra_style = function(el){\n",
       "    var fig = this\n",
       "    el.on(\"remove\", function(){\n",
       "\tfig.close_ws(fig, {});\n",
       "    });\n",
       "}\n",
       "\n",
       "mpl.figure.prototype._canvas_extra_style = function(el){\n",
       "    // this is important to make the div 'focusable\n",
       "    el.attr('tabindex', 0)\n",
       "    // reach out to IPython and tell the keyboard manager to turn it's self\n",
       "    // off when our div gets focus\n",
       "\n",
       "    // location in version 3\n",
       "    if (IPython.notebook.keyboard_manager) {\n",
       "        IPython.notebook.keyboard_manager.register_events(el);\n",
       "    }\n",
       "    else {\n",
       "        // location in version 2\n",
       "        IPython.keyboard_manager.register_events(el);\n",
       "    }\n",
       "\n",
       "}\n",
       "\n",
       "mpl.figure.prototype._key_event_extra = function(event, name) {\n",
       "    var manager = IPython.notebook.keyboard_manager;\n",
       "    if (!manager)\n",
       "        manager = IPython.keyboard_manager;\n",
       "\n",
       "    // Check for shift+enter\n",
       "    if (event.shiftKey && event.which == 13) {\n",
       "        this.canvas_div.blur();\n",
       "        event.shiftKey = false;\n",
       "        // Send a \"J\" for go to next cell\n",
       "        event.which = 74;\n",
       "        event.keyCode = 74;\n",
       "        manager.command_mode();\n",
       "        manager.handle_keydown(event);\n",
       "    }\n",
       "}\n",
       "\n",
       "mpl.figure.prototype.handle_save = function(fig, msg) {\n",
       "    fig.ondownload(fig, null);\n",
       "}\n",
       "\n",
       "\n",
       "mpl.find_output_cell = function(html_output) {\n",
       "    // Return the cell and output element which can be found *uniquely* in the notebook.\n",
       "    // Note - this is a bit hacky, but it is done because the \"notebook_saving.Notebook\"\n",
       "    // IPython event is triggered only after the cells have been serialised, which for\n",
       "    // our purposes (turning an active figure into a static one), is too late.\n",
       "    var cells = IPython.notebook.get_cells();\n",
       "    var ncells = cells.length;\n",
       "    for (var i=0; i<ncells; i++) {\n",
       "        var cell = cells[i];\n",
       "        if (cell.cell_type === 'code'){\n",
       "            for (var j=0; j<cell.output_area.outputs.length; j++) {\n",
       "                var data = cell.output_area.outputs[j];\n",
       "                if (data.data) {\n",
       "                    // IPython >= 3 moved mimebundle to data attribute of output\n",
       "                    data = data.data;\n",
       "                }\n",
       "                if (data['text/html'] == html_output) {\n",
       "                    return [cell, data, j];\n",
       "                }\n",
       "            }\n",
       "        }\n",
       "    }\n",
       "}\n",
       "\n",
       "// Register the function which deals with the matplotlib target/channel.\n",
       "// The kernel may be null if the page has been refreshed.\n",
       "if (IPython.notebook.kernel != null) {\n",
       "    IPython.notebook.kernel.comm_manager.register_target('matplotlib', mpl.mpl_figure_comm);\n",
       "}\n"
      ],
      "text/plain": [
       "<IPython.core.display.Javascript object>"
      ]
     },
     "metadata": {},
     "output_type": "display_data"
    },
    {
     "data": {
      "text/html": [
       "<img src=\"data:image/png;base64,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\" width=\"554.4\">"
      ],
      "text/plain": [
       "<IPython.core.display.HTML object>"
      ]
     },
     "metadata": {},
     "output_type": "display_data"
    }
   ],
   "source": [
    "%matplotlib notebook\n",
    "from mpl_toolkits import mplot3d\n",
    "ax = plt.axes(projection='3d')\n",
    "\n",
    "ax.plot3D(X[0], X[1], X[2], 'gray')\n",
    "\n",
    "# Data for three-dimensional sphere\n",
    "u = np.linspace(0, 2 * np.pi, 80)\n",
    "v = np.linspace(0, np.pi, 80)\n",
    "\n",
    "# create the sphere surface\n",
    "x = 1 * np.outer(np.cos(u), np.sin(v)) - 0\n",
    "y = 1 *np.outer(np.sin(u), np.sin(v)) - 0 \n",
    "z = 1 * np.outer(np.ones(np.size(u)),np.cos(v)) - 0\n",
    "\n",
    "ax.plot_surface(x, y, z, cstride=1, rstride=1)\n",
    "\n",
    "plt.show()"
   ]
  },
  {
   "cell_type": "markdown",
   "metadata": {},
   "source": [
    "# Estimation probabilities outside n-ball"
   ]
  },
  {
   "cell_type": "markdown",
   "metadata": {},
   "source": [
    "## Bouncy"
   ]
  },
  {
   "cell_type": "markdown",
   "metadata": {
    "heading_collapsed": true
   },
   "source": [
    "### Algorithm"
   ]
  },
  {
   "cell_type": "code",
   "execution_count": 28,
   "metadata": {
    "hidden": true
   },
   "outputs": [],
   "source": [
    "def p_estimation_mnorm(N,T,q,mean,cov,Phi):\n",
    "    \n",
    "    st = time.time()\n",
    "    dim = mean.size\n",
    "\n",
    "    m=1\n",
    "    X=np.random.multivariate_normal(mean,cov,N)\n",
    "    phi=Phi(X)\n",
    "    s = np.argsort(phi)\n",
    "    phi,X = phi[s], X[s]\n",
    "    X = np.array(X)\n",
    "    L=phi[0]\n",
    "    L_max = phi[0]\n",
    "    #print(phi)\n",
    "    ed = time.time()\n",
    "    #print(ed-st)\n",
    "\n",
    "    while L < q:   # as long as there are particles below q\n",
    "        x0 = X[np.random.randint(2,N)]\n",
    "\n",
    "        # Run a Markov chain on the lowermost sample\n",
    "        st = time.time()\n",
    "        bps = BPS(x0,dim,mean,cov,T,boundary = np.array([[0]*dim,L]))\n",
    "        _,process,_ = bps.simulation\n",
    "        ed = time.time()\n",
    "        #print('Markov chain takes',ed-st)\n",
    "        \n",
    "        x_star = [item for sublist in process.tail(1).values for item in sublist]\n",
    "\n",
    "        # Update X\n",
    "        X[0] = np.array(x_star)\n",
    "        phi=Phi(X)\n",
    "        s = np.argsort(phi)\n",
    "        phi,X = phi[s], X[s]\n",
    "        X = np.array(X)\n",
    "        \n",
    "        # Set adaptive boundary\n",
    "        L = phi[0]\n",
    "        m = m + 1\n",
    "        L_max = max(L,L_max)\n",
    "        #print(L)\n",
    "\n",
    "    phat = (1.0-1.0/N)**(m-1)\n",
    "    return phat,m"
   ]
  },
  {
   "cell_type": "markdown",
   "metadata": {
    "heading_collapsed": true
   },
   "source": [
    "### Example -- distance from origin"
   ]
  },
  {
   "cell_type": "code",
   "execution_count": 84,
   "metadata": {
    "hidden": true
   },
   "outputs": [],
   "source": [
    "def Phi_norm(x):\n",
    "    \"\"\" Phi(x): R^d -> R\"\"\"\n",
    "    return np.array([(np.dot(v,v)) for v in x])"
   ]
  },
  {
   "cell_type": "code",
   "execution_count": 526,
   "metadata": {
    "hidden": true
   },
   "outputs": [],
   "source": [
    "N=100  # number of particles \n",
    "T=20   # number of MCMC steps\n",
    "q=4   # quantile"
   ]
  },
  {
   "cell_type": "code",
   "execution_count": 409,
   "metadata": {
    "hidden": true
   },
   "outputs": [],
   "source": [
    "# Targeting normal distribution with mean 0 and variance 1\n",
    "mean = np.array([0])\n",
    "cov = np.array([[1]])\n",
    "\n",
    "p1 = p_estimation_mnorm(N,T,q,mean,cov,Phi_norm)"
   ]
  },
  {
   "cell_type": "code",
   "execution_count": 337,
   "metadata": {
    "hidden": true
   },
   "outputs": [],
   "source": [
    "# Targeting multivariate normal distribution with mean [0,0] and variance [[1,0],[0,1]]\n",
    "mean = np.array([0,0])\n",
    "cov = np.array([[1,0],[0,1]])\n",
    "\n",
    "p2 = p_estimation_mnorm(N,T,q,mean,cov,Phi_norm)"
   ]
  },
  {
   "cell_type": "code",
   "execution_count": 432,
   "metadata": {
    "hidden": true
   },
   "outputs": [],
   "source": [
    "# Targeting multivariate normal distribution with mean M and covariance matrix cov\n",
    "mean = np.array([0,0,0])\n",
    "cov = np.array([[1,0,0],[0,1,0],[0,0,1]])\n",
    "\n",
    "p3 = p_estimation_mnorm(N,T,q,mean,cov,Phi_norm)"
   ]
  },
  {
   "cell_type": "code",
   "execution_count": 528,
   "metadata": {
    "hidden": true
   },
   "outputs": [
    {
     "name": "stdout",
     "output_type": "stream",
     "text": [
      "In 1 dimension: 6.71809336629e-05\n",
      "In 2 dimensions: 0.000406018855156\n",
      "In 3 dimensions: 0.00276836936186\n"
     ]
    }
   ],
   "source": [
    "print 'In 1 dimension:',p1\n",
    "print 'In 2 dimensions:',p2\n",
    "print 'In 3 dimensions:',p3"
   ]
  },
  {
   "cell_type": "code",
   "execution_count": 24,
   "metadata": {
    "hidden": true
   },
   "outputs": [
    {
     "name": "stdout",
     "output_type": "stream",
     "text": [
      " In 1 dimension: 6.33424836662e-05\n",
      "In 2 dimensions: 0.000335462627903\n",
      "In 3 dimensions: 0.00113398428979\n"
     ]
    }
   ],
   "source": [
    "from scipy.stats import chi\n",
    "print 'In 1 dimension:',chi.sf(q,df=1)\n",
    "print 'In 2 dimensions:',chi.sf(q,df=2)\n",
    "print 'In 3 dimensions:',chi.sf(q,df=3)"
   ]
  },
  {
   "cell_type": "code",
   "execution_count": 341,
   "metadata": {
    "hidden": true
   },
   "outputs": [],
   "source": [
    "mean = np.array([0]*5)\n",
    "cov = np.array([[5,1,1,1,1],\n",
    "                [1,5,1,1,1],\n",
    "                [1,1,5,1,1],\n",
    "                [1,1,1,5,1],\n",
    "                [1,1,1,1,5]])\n",
    "\n",
    "p4 = p_estimation_mnorm(N,T,q,mean,cov,Phi_norm)"
   ]
  },
  {
   "cell_type": "code",
   "execution_count": 342,
   "metadata": {
    "hidden": true
   },
   "outputs": [
    {
     "data": {
      "text/plain": [
       "0.019453434285172516"
      ]
     },
     "execution_count": 342,
     "metadata": {},
     "output_type": "execute_result"
    }
   ],
   "source": [
    "p4"
   ]
  },
  {
   "cell_type": "markdown",
   "metadata": {
    "heading_collapsed": true
   },
   "source": [
    "### Example -- normalized correlation"
   ]
  },
  {
   "cell_type": "code",
   "execution_count": 329,
   "metadata": {
    "hidden": true
   },
   "outputs": [],
   "source": [
    "def tau_bounce_cone(x,v,A,C):\n",
    "    a = np.matmul(np.matmul(D.T,A),D)\n",
    "    b = np.matmul(np.matmul(D.T,A),x-C)+np.matmul(x.T-C.T,np.matmul(A,v))\n",
    "    c = np.matmul(np.matmul(x.T-C.T,A),O)+np.matmul(np.matmul(C.T-x.T,A),C)-1\n",
    "    D = b**2 - 4*a*c\n",
    "    if (D<0):\n",
    "        tau = np.nan\n",
    "    elif (D==0):\n",
    "        tau = -(b)/(2*a)\n",
    "    else:\n",
    "        tau = min((-b+np.sqrt(D))/(2*a),(-b-np.sqrt(D))/(2*a))\n",
    "    return tau"
   ]
  },
  {
   "cell_type": "code",
   "execution_count": 314,
   "metadata": {
    "hidden": true
   },
   "outputs": [],
   "source": [
    "from random import gauss\n",
    "\n",
    "def make_rand_vector(dims):\n",
    "    vec = [np.random.normal(0,1) for i in range(dims)]\n",
    "    mag = np.linalg.norm(vec)\n",
    "    return vec/mag"
   ]
  },
  {
   "cell_type": "code",
   "execution_count": 519,
   "metadata": {
    "hidden": true
   },
   "outputs": [],
   "source": [
    "np.random.seed(234089)\n",
    "u = make_rand_vector(5)"
   ]
  },
  {
   "cell_type": "code",
   "execution_count": 500,
   "metadata": {
    "hidden": true
   },
   "outputs": [],
   "source": [
    "def Phi_corr(x):\n",
    "    return np.array([np.abs(np.dot(v,u))/(np.sqrt(np.dot(v,v))) for v in x])"
   ]
  },
  {
   "cell_type": "code",
   "execution_count": 520,
   "metadata": {
    "hidden": true
   },
   "outputs": [],
   "source": [
    "N=100  # number of particles \n",
    "T=20   # number of MCMC steps\n",
    "q=0.9   # quantile"
   ]
  },
  {
   "cell_type": "code",
   "execution_count": 522,
   "metadata": {
    "hidden": true
   },
   "outputs": [],
   "source": [
    "# Targeting multivariate normal distribution with mean M and covariance matrix cov\n",
    "dim = 5\n",
    "mean = np.array([0]*dim)\n",
    "cov = np.eye(dim)\n",
    "\n",
    "#p_hat = p_estimation_mnorm(N,T,q,mean,cov,Phi_corr)"
   ]
  },
  {
   "cell_type": "code",
   "execution_count": 523,
   "metadata": {
    "hidden": true
   },
   "outputs": [
    {
     "data": {
      "text/plain": [
       "5.1869627196641576e-36"
      ]
     },
     "execution_count": 523,
     "metadata": {},
     "output_type": "execute_result"
    }
   ],
   "source": [
    "p_hat"
   ]
  },
  {
   "cell_type": "markdown",
   "metadata": {},
   "source": [
    "## MH"
   ]
  },
  {
   "cell_type": "markdown",
   "metadata": {},
   "source": [
    "### MH-algorithm"
   ]
  },
  {
   "cell_type": "code",
   "execution_count": 464,
   "metadata": {},
   "outputs": [],
   "source": [
    "def mh_sampler(x0,target_fn,prop_fn,Phi,L,iterations = 100,target_fn_kwargs={},prop_fn_kwargs = {}):\n",
    "    \"\"\"Simple metropolis hastings.\n",
    "    \n",
    "    Arguments:\n",
    "    x0: starting point of the chain\n",
    "    target_fn: target p.d.f.\n",
    "    prop_fn: proposal p.d.f.\n",
    "    target_fn_kwargs: extra arguments for target function\n",
    "    prop_fn_kwargs: extra arguments for proposal function\n",
    "    L: bound to cross \n",
    "    iterations: number of mcmc iterations\n",
    "    \n",
    "    Returns:\n",
    "    A Markov chain on the lowermost sample\n",
    "    \n",
    "    \"\"\"\n",
    "    dim = x0.size\n",
    "    \n",
    "    # Initialize chain, acceptance rate\n",
    "    chain = np.zeros((iterations,dim))\n",
    "    accept_rate = np.zeros(iterations)\n",
    "    target = np.zeros((iterations,dim))\n",
    "    \n",
    "    random_uniform = np.random.uniform(0,1,iterations)\n",
    "    \n",
    "    # First samples\n",
    "    chain[0,:] = x0\n",
    "    target0 = target_fn(x0,**target_fn_kwargs)\n",
    "    target[0,:] = target0\n",
    "    \n",
    "    naccept = 0\n",
    "    for i in range(1,iterations):\n",
    "        \n",
    "        # propose\n",
    "        x_star, factor = prop_fn(x0,**prop_fn_kwargs)\n",
    "        \n",
    "        # hastings-ratio\n",
    "        target_star = target_fn(x_star,**target_fn_kwargs)\n",
    "        H = (target_star/float(target0)) * factor\n",
    "\n",
    "        # accept/reject step\n",
    "        if (random_uniform[i] < H) & (Phi([x_star]) > L):\n",
    "            x0 = x_star\n",
    "            target0 = target_star\n",
    "            naccept += 1\n",
    "            #print(Phi([x_star]),L)\n",
    "        \n",
    "        # update chain\n",
    "        chain[i,:] = x0\n",
    "        target[i,:] = target0\n",
    "        accept_rate[i] = naccept/float(i)\n",
    "    \n",
    "    return chain, accept_rate, target"
   ]
  },
  {
   "cell_type": "code",
   "execution_count": 44,
   "metadata": {},
   "outputs": [],
   "source": [
    "def gaussian_proposal(x,cov):\n",
    "    # Draw x_star\n",
    "    x_star = np.random.multivariate_normal(x, cov)\n",
    "    # x_star = x + np.random.randn()*sigma\n",
    "    \n",
    "    # proposal ratio factor\n",
    "    factor = 1\n",
    "    return x_star, factor"
   ]
  },
  {
   "cell_type": "code",
   "execution_count": 45,
   "metadata": {},
   "outputs": [],
   "source": [
    "def normal(x,mu,cov):\n",
    "    return np.exp(-0.5*(np.matmul(np.matmul((x-mu).T,cov),x-mu)))"
   ]
  },
  {
   "cell_type": "markdown",
   "metadata": {},
   "source": [
    "### Algorithm"
   ]
  },
  {
   "cell_type": "code",
   "execution_count": 465,
   "metadata": {},
   "outputs": [],
   "source": [
    "def p_estimation(N,T,q,target_fn,prop_fn,Phi,target_fn_kwargs,prop_fn_kwargs):\n",
    "\n",
    "    m=1\n",
    "    mean = target_fn_kwargs['mu']\n",
    "    cov = target_fn_kwargs['cov']\n",
    "    dim = mean.size\n",
    "    X=np.random.multivariate_normal(mean,cov,N)\n",
    "    phi=Phi(X)\n",
    "    s = np.argsort(phi)\n",
    "    phi,X = phi[s], X[s]\n",
    "    X = np.array(X)\n",
    "    L=phi[0]\n",
    "    L_max = phi[0]\n",
    "    #print(phi)\n",
    "\n",
    "    while L < q:   # as long as there are particles below q\n",
    "        x0 = X[np.random.randint(2,N)]\n",
    "        \n",
    "        # Run a Markov chain on the lowermost sample\n",
    "        process,_,_ = mh_sampler(x0 = x0,\n",
    "               target_fn = target_fn,\n",
    "               prop_fn = prop_fn,\n",
    "               Phi = Phi,\n",
    "               L = L,\n",
    "               iterations = T,\n",
    "               target_fn_kwargs = target_fn_kwargs,\n",
    "               prop_fn_kwargs = prop_fn_kwargs)\n",
    "        \n",
    "        #print(process)\n",
    "        x_star = process[-1]\n",
    "\n",
    "        # Update X\n",
    "        X[0] = np.array(x_star)\n",
    "        phi=Phi(X)\n",
    "        s = np.argsort(phi)\n",
    "        phi,X = phi[s], X[s]\n",
    "        X = np.array(X)\n",
    "        #phi = np.array(phi)\n",
    "        \n",
    "        # Set adaptive boundary\n",
    "        L = phi[0]\n",
    "        m = m + 1\n",
    "        #L_max = max(L,L_max)\n",
    "        #print(L)\n",
    "\n",
    "    phat = (1.0-1.0/N)**(m-1)\n",
    "    return phat,m"
   ]
  },
  {
   "cell_type": "markdown",
   "metadata": {
    "heading_collapsed": true
   },
   "source": [
    "### Example -- distance from origin"
   ]
  },
  {
   "cell_type": "code",
   "execution_count": 16,
   "metadata": {
    "hidden": true
   },
   "outputs": [],
   "source": [
    "N = 100\n",
    "T = 20\n",
    "q = 4"
   ]
  },
  {
   "cell_type": "code",
   "execution_count": 52,
   "metadata": {
    "hidden": true
   },
   "outputs": [],
   "source": [
    "# Targeting normal distribution with mean 0 and variance 1\n",
    "cov_prop = np.array([[2]])\n",
    "mu_target = np.array([0])\n",
    "cov_target = np.array([[1]])\n",
    "\n",
    "p_1 = p_estimation(N,T,q,normal,gaussian_proposal,Phi = Phi_norm, target_fn_kwargs = {'mu':mu_target,'cov':cov_target},prop_fn_kwargs = {'cov':cov_prop})"
   ]
  },
  {
   "cell_type": "code",
   "execution_count": 55,
   "metadata": {
    "hidden": true
   },
   "outputs": [],
   "source": [
    "# Targeting normal distribution with mean [0,0] and variance [[1,0],[0,1]]\n",
    "cov_prop = 2*np.eye(2)\n",
    "mu_target = np.array([0]*2)\n",
    "cov_target = np.eye(2)\n",
    "\n",
    "p_2 = p_estimation(N,T,q,normal,gaussian_proposal,Phi = Phi_norm, target_fn_kwargs = {'mu':mu_target,'cov':cov_target},prop_fn_kwargs = {'cov':cov_prop})"
   ]
  },
  {
   "cell_type": "code",
   "execution_count": 57,
   "metadata": {
    "hidden": true
   },
   "outputs": [],
   "source": [
    "cov_prop = 2*np.eye(3)\n",
    "mu_target = np.array([0]*3)\n",
    "cov_target = np.eye(3)\n",
    "\n",
    "p_3 = p_estimation(N,T,q,normal,gaussian_proposal,Phi = Phi_norm, target_fn_kwargs = {'mu':mu_target,'cov':cov_target},prop_fn_kwargs = {'cov':cov_prop})"
   ]
  },
  {
   "cell_type": "code",
   "execution_count": 58,
   "metadata": {
    "hidden": true
   },
   "outputs": [
    {
     "name": "stdout",
     "output_type": "stream",
     "text": [
      "In 1 dimension: (0.0071925112092996, 492)\n",
      "In 2 dimensions: (0.006124119562845145, 508)\n",
      "In 3 dimensions: (0.0071925112092996, 492)\n"
     ]
    }
   ],
   "source": [
    "print 'In 1 dimension:',p_1\n",
    "print 'In 2 dimensions:',p_2\n",
    "print 'In 3 dimensions:',p_3"
   ]
  },
  {
   "cell_type": "code",
   "execution_count": 25,
   "metadata": {
    "hidden": true
   },
   "outputs": [
    {
     "name": "stdout",
     "output_type": "stream",
     "text": [
      "In 1 dimension: 6.33424836662e-05\n",
      "In 2 dimensions: 0.000335462627903\n",
      "In 3 dimensions: 0.00113398428979\n"
     ]
    }
   ],
   "source": [
    "print 'In 1 dimension:',chi.sf(q,df=1)\n",
    "print 'In 2 dimensions:',chi.sf(q,df=2)\n",
    "print 'In 3 dimensions:',chi.sf(q,df=3)"
   ]
  },
  {
   "cell_type": "markdown",
   "metadata": {
    "heading_collapsed": true
   },
   "source": [
    "### Example -- normalized correlation"
   ]
  },
  {
   "cell_type": "code",
   "execution_count": 515,
   "metadata": {
    "hidden": true
   },
   "outputs": [],
   "source": [
    "N = 100\n",
    "T = 20\n",
    "q = 0.95\n",
    "np.random.seed(234089)\n",
    "u = make_rand_vector(10)\n",
    "\n",
    "cov_prop = 4*np.eye(10)\n",
    "mu_target = np.array([0]*10)\n",
    "cov_target = np.eye(10)\n",
    "\n",
    "p_4 = p_estimation(N,T,q,normal,gaussian_proposal,Phi = Phi_corr, target_fn_kwargs = {'mu':mu_target,'cov':cov_target},prop_fn_kwargs = {'cov':cov_prop})"
   ]
  },
  {
   "cell_type": "code",
   "execution_count": 517,
   "metadata": {
    "hidden": true
   },
   "outputs": [
    {
     "data": {
      "text/plain": [
       "9.734028306796821e-80"
      ]
     },
     "execution_count": 517,
     "metadata": {},
     "output_type": "execute_result"
    }
   ],
   "source": [
    "p_4"
   ]
  },
  {
   "cell_type": "markdown",
   "metadata": {},
   "source": [
    "## Compare methods"
   ]
  },
  {
   "cell_type": "markdown",
   "metadata": {},
   "source": [
    "### Complexity\n",
    "\n",
    "In the paper by Guyader they established that the expected computational complexity of the algorithm is $\\mathcal{O}(N\\ \\text{log}\\ N\\ \\text{log}\\ p^{-1})$. The algorithm does not suffer from an increase in dimensionality since the $T$ proposed kernel transitions via the Metropolis-Hastings algorithm have lower complexity, namely $\\mathcal{O}(1)$, than the dichotomic search and the insertion of the new particle at the right place in the ordered sample, whose cost in in $\\mathcal{O}(\\text{log}\\ N)$ via a min-heap algorithm. This changes when we don't use Metropolis-Hastings, but the Bouncy Particle Sampler. \n",
    "\n",
    "The expected computational complexity of creating a path for the BPS is $\\mathcal{O}(d)$, where $d$ denotes the dimension of the probability density function where we try to sample from. This can be seen in the following figure. As the dimension increases, the time complexity increases linearly for the Bouncy Particle Sampler and stays the same for Metropolis Hastings, independent of the dimension of the problem. For the figure below, we used 100 particles ($N=100$), 20 as the timespan for BPS and 20 iterations for MH. If it wasn't for the boundary- and refresh times, we would have on average 20 iterations for BPS. With these times we will produce more iterations than MH, but it is in the same order of magnitude."
   ]
  },
  {
   "cell_type": "code",
   "execution_count": 32,
   "metadata": {
    "hide_input": false
   },
   "outputs": [],
   "source": [
    "import time"
   ]
  },
  {
   "cell_type": "markdown",
   "metadata": {},
   "source": [
    "#### Time complexity BPS and MH"
   ]
  },
  {
   "cell_type": "code",
   "execution_count": 186,
   "metadata": {
    "code_folding": [],
    "hide_input": false
   },
   "outputs": [],
   "source": [
    "columns = ['time_bs','time_mh']\n",
    "dimension = range(1,31)\n",
    "\n",
    "df_tc = pd.DataFrame(index = dimension, columns = columns)\n",
    "df_tc = df_tc.fillna(0)\n",
    "\n",
    "N = 100\n",
    "T = 20\n",
    "L = 1\n",
    "\n",
    "for i in range(0,len(dimension)):\n",
    "    dim = dimension[i]\n",
    "    x0 = np.array([2]*dim)\n",
    "    mean = np.array([0]*dim)\n",
    "    cov = np.eye(dim)\n",
    "    cov_prop = 2*np.eye(dim)\n",
    "    \n",
    "    # Time complexity bouncy sampler\n",
    "    start_bs = time.time()\n",
    "    bps = BPS(x0,dim,mean,cov,T,boundary = np.array([[0]*dim,L]))\n",
    "    _,process_bs,_ = bps.simulation\n",
    "    end_bs = time.time()\n",
    "\n",
    "    # Time complexity mh sampler\n",
    "    start_mh = time.time()\n",
    "    process_mh,_,_ = mh_sampler(x0 = x0, target_fn = normal,\n",
    "               prop_fn = gaussian_proposal, Phi = Phi_norm, L = L, iterations = T,\n",
    "               target_fn_kwargs = {'mu':mean,'cov':cov},\n",
    "               prop_fn_kwargs = {'cov':cov_prop})\n",
    "    end_mh = time.time()\n",
    "    \n",
    "    # Update results\n",
    "    df_tc.iloc[i,0] = end_bs-start_bs\n",
    "    df_tc.iloc[i,1] = end_mh-start_mh\n",
    "    "
   ]
  },
  {
   "cell_type": "code",
   "execution_count": 187,
   "metadata": {
    "hide_input": true
   },
   "outputs": [
    {
     "data": {
      "image/png": "[encoded data removed]",
      "text/plain": [
       "<Figure size 432x288 with 1 Axes>"
      ]
     },
     "metadata": {
      "needs_background": "light"
     },
     "output_type": "display_data"
    }
   ],
   "source": [
    "plt.grid(True, which=\"both\")\n",
    "\n",
    "plt.plot(dimension,df_tc['time_bs'],'o',label = 'Bouncy sampler')\n",
    "plt.plot(dimension,df_tc['time_mh'],'o',label = 'MH-sampler')\n",
    "plt.title('Time complexity in [s] per dimension')\n",
    "plt.xlabel('Dimension')\n",
    "plt.ylabel('Time complexity [s]')\n",
    "plt.legend(loc='best')\n",
    "\n",
    "plt.show()"
   ]
  },
  {
   "cell_type": "markdown",
   "metadata": {},
   "source": [
    "This difference in complexity for a simple run of both algorithm causes a large difference in computation time if we want to estimate rare event probabilities. For a fixed $N$, say $N=100$, we are interested in a rare event probability $ p = 10^{-5}$. In that case we need approximately \n",
    "$$m = \\frac{\\text{log}(p)}{\\text{log}(1-\\frac{1}{N})} \\approx 1000$$ iterations. This is regardless of the choice for BPS or MH. \n",
    "\n",
    "The algorithm for the estimation of the rare event probability is the same for both methods, except for the way we find our next point and here we find our difference in time.\n",
    "\n",
    "Suppose we work in 1 dimension, the cheapest case for BPS, it takes on average 0.3 seconds to get a new event. For MH it takes on average 0.004 seconds. As long as we need as many iterations for BPS as MH, MH is always faster. In this case the behaviour will change if we need 75 iterations in MH for   Thus, in total we need over 5 minutes to produce an estimate for the BPS. Now, for MH, we only need 3 seconds. \n",
    "\n",
    "The difference in time is demonstrated in the table below."
   ]
  },
  {
   "cell_type": "code",
   "execution_count": 190,
   "metadata": {
    "hide_input": true
   },
   "outputs": [],
   "source": [
    "np.random.seed(205090)\n",
    "\n",
    "N = 100\n",
    "T = 20\n",
    "q = 4\n",
    "target_fn = normal\n",
    "prop_fn = gaussian_proposal\n",
    "\n",
    "columns = ['p','p_est_bs','time_bs','n_bs','p_est_mh','time_mh','n_mh']\n",
    "dimension = range(1,6)\n",
    "\n",
    "df = pd.DataFrame(index = dimension, columns = columns)\n",
    "df = df.fillna(0)\n",
    "\n",
    "for i in range(0,len(dimension)):\n",
    "    cov_prop = 2*np.eye(dimension[i])\n",
    "    mu_target = np.array([0]*dimension[i])\n",
    "    cov_target = np.eye(dimension[i])\n",
    "    \n",
    "    \n",
    "    # Time complexity mh-sampler\n",
    "    start_mh = time.time()\n",
    "    p_mh,m_mh = p_estimation(N,T,q,normal,gaussian_proposal,Phi = Phi_norm, \n",
    "                                target_fn_kwargs = {'mu':mu_target,'cov':cov_target},\n",
    "                                prop_fn_kwargs = {'cov':cov_prop})\n",
    "    end_mh = time.time()\n",
    "    \n",
    "    # Time complexity bouncy-sampler\n",
    "    start_bs = time.time()\n",
    "    p_bs,m_bs = p_estimation_mnorm(N,T,q,mu_target,cov_target,Phi_norm)\n",
    "    end_bs = time.time()\n",
    "    \n",
    "    df.iloc[i,0] = chi.sf(q,df = dimension[i])\n",
    "    \n",
    "    df.iloc[i,1] = p_bs\n",
    "    df.iloc[i,2] = end_bs - start_bs\n",
    "    df.iloc[i,3] = m_bs\n",
    "    \n",
    "    df.iloc[i,4] = p_mh\n",
    "    df.iloc[i,5] = end_mh - start_mh\n",
    "    df.iloc[i,6] = m_mh"
   ]
  },
  {
   "cell_type": "code",
   "execution_count": 191,
   "metadata": {
    "hide_input": true
   },
   "outputs": [
    {
     "data": {
      "text/html": [
       "<div>\n",
       "<style scoped>\n",
       "    .dataframe tbody tr th:only-of-type {\n",
       "        vertical-align: middle;\n",
       "    }\n",
       "\n",
       "    .dataframe tbody tr th {\n",
       "        vertical-align: top;\n",
       "    }\n",
       "\n",
       "    .dataframe thead th {\n",
       "        text-align: right;\n",
       "    }\n",
       "</style>\n",
       "<table border=\"1\" class=\"dataframe\">\n",
       "  <thead>\n",
       "    <tr style=\"text-align: right;\">\n",
       "      <th></th>\n",
       "      <th>p</th>\n",
       "      <th>p_est_bs</th>\n",
       "      <th>time_bs</th>\n",
       "      <th>n_bs</th>\n",
       "      <th>p_est_mh</th>\n",
       "      <th>time_mh</th>\n",
       "      <th>n_mh</th>\n",
       "    </tr>\n",
       "  </thead>\n",
       "  <tbody>\n",
       "    <tr>\n",
       "      <th>1</th>\n",
       "      <td>0.000063</td>\n",
       "      <td>0.000044</td>\n",
       "      <td>334.254</td>\n",
       "      <td>999</td>\n",
       "      <td>0.000044</td>\n",
       "      <td>2.315</td>\n",
       "      <td>1000</td>\n",
       "    </tr>\n",
       "    <tr>\n",
       "      <th>2</th>\n",
       "      <td>0.000335</td>\n",
       "      <td>0.000638</td>\n",
       "      <td>271.569</td>\n",
       "      <td>733</td>\n",
       "      <td>0.000692</td>\n",
       "      <td>1.887</td>\n",
       "      <td>725</td>\n",
       "    </tr>\n",
       "    <tr>\n",
       "      <th>3</th>\n",
       "      <td>0.001134</td>\n",
       "      <td>0.001440</td>\n",
       "      <td>242.549</td>\n",
       "      <td>652</td>\n",
       "      <td>0.000983</td>\n",
       "      <td>1.782</td>\n",
       "      <td>690</td>\n",
       "    </tr>\n",
       "    <tr>\n",
       "      <th>4</th>\n",
       "      <td>0.003019</td>\n",
       "      <td>0.005009</td>\n",
       "      <td>186.918</td>\n",
       "      <td>528</td>\n",
       "      <td>0.002659</td>\n",
       "      <td>1.539</td>\n",
       "      <td>591</td>\n",
       "    </tr>\n",
       "    <tr>\n",
       "      <th>5</th>\n",
       "      <td>0.006844</td>\n",
       "      <td>0.009626</td>\n",
       "      <td>171.720</td>\n",
       "      <td>463</td>\n",
       "      <td>0.006312</td>\n",
       "      <td>1.301</td>\n",
       "      <td>505</td>\n",
       "    </tr>\n",
       "  </tbody>\n",
       "</table>\n",
       "</div>"
      ],
      "text/plain": [
       "          p  p_est_bs  time_bs  n_bs  p_est_mh  time_mh  n_mh\n",
       "1  0.000063  0.000044  334.254   999  0.000044    2.315  1000\n",
       "2  0.000335  0.000638  271.569   733  0.000692    1.887   725\n",
       "3  0.001134  0.001440  242.549   652  0.000983    1.782   690\n",
       "4  0.003019  0.005009  186.918   528  0.002659    1.539   591\n",
       "5  0.006844  0.009626  171.720   463  0.006312    1.301   505"
      ]
     },
     "execution_count": 191,
     "metadata": {},
     "output_type": "execute_result"
    }
   ],
   "source": [
    "df"
   ]
  },
  {
   "cell_type": "markdown",
   "metadata": {},
   "source": [
    "The difference in performance, i.e. estimating the probability of a rare event, is also in favor of the MH-sampler."
   ]
  },
  {
   "cell_type": "code",
   "execution_count": 207,
   "metadata": {
    "hide_input": true
   },
   "outputs": [
    {
     "data": {
      "image/png": "[encoded data removed]",
      "text/plain": [
       "<Figure size 432x288 with 1 Axes>"
      ]
     },
     "metadata": {
      "needs_background": "light"
     },
     "output_type": "display_data"
    }
   ],
   "source": [
    "dimension = range(1,6)\n",
    "plt.plot(dimension,df['p_est_bs'],'o',label = 'Bouncy sampler')\n",
    "plt.plot(dimension,df['p_est_mh'],'o',label = 'MH-sampler')\n",
    "plt.plot(dimension,df['p'],'x',label = 'True value')\n",
    "plt.legend(loc='best')\n",
    "plt.yscale('log')\n",
    "\n",
    "plt.xlabel('Dimension')\n",
    "plt.ylabel('p')\n",
    "\n",
    "plt.show()"
   ]
  },
  {
   "cell_type": "markdown",
   "metadata": {},
   "source": [
    "We can visualize the acceptance rate of the MH-algorithm. As the dimension increases, the probability of being outside the sphere increases. Remember that we choose $\\Phi(X) = \\lVert{X}\\rVert$, to work with the distance from the origin to any $d$-sphere. However, it might be beneficial to switch to $\\Phi(X) = \\lVert{X}\\rVert^2 = \\sum_{i=1}^d x_i^2$. As long as $x_i, i=1,\\ldots,d$ are uncorrelated we know that $Y_d = \\Phi(X)$ follows a chi-squared distribution with $d$ degrees of freedom, i.e. $Y_d \\sim \\chi_d^2$. This is a more common probability density function with convenient properties. We can approximate this distribution $Y_d$ by a normal distribution, due to the Central Limit Theorem (independent random variables). To do this we need the expectation and variance of $Y_d$, so $$\\mathbb{E}(Y_d) = \\sum_{i=1}^d \\mathbb{E}({X_i^2}) = d \\cdot 1 = d$$ and \n",
    "\n",
    "$$\n",
    "\\begin{align}\n",
    "\\text{Var}(Y_d) & = \\text{Var}\\big(\\sum_{i=1}^{d} X_i^2 \\big) = d \\cdot \\text{Var}(X_1^2) \\\\\n",
    "& = d\\cdot (\\mathbb{E}(X^4) - (\\mathbb{E}(X^2))^2) = d\\cdot (3-1) = 2d\n",
    "\\end{align}\n",
    "$$ Then\n",
    "\n",
    "$$\\mathbb{P}(Y_d > L) = \\mathbb{P}\\Big(\\frac{Y_d-d}{\\sqrt{2d}} > \\frac{L-d}{\\sqrt{2d}}\\Big) = \\mathbb{P}\\Big(Z>\\frac{L-d}{\\sqrt{2d}}\\Big) (*)$$\n",
    "\n",
    "So for fixed $L$ this probability is indeed increasing for increasing dimension, since $d$ grows faster than $\\sqrt{2d}$.\n"
   ]
  },
  {
   "cell_type": "markdown",
   "metadata": {},
   "source": [
    "Nevertheless, the acceptance rate for MH decreases. This means for high dimensions we need a lot of simulations to reach a new point, which may be beneficial for the BPS, since it requires only one run to find a new point. Suppose we start in a point $x_0$, then our proposal is of the form $x_1 = x_0 + \\sigma Z_d$, where $Z_d$ denotes the $d$-dimensional multivariate normal distribution. If we have a look at the expected distance beween consecutive points $\\mathbb{E}\\lVert x_1-x_0 \\rVert^2$, we observe the same behaviour as in $(*)$, namely\n",
    "\n",
    "$$\n",
    "\\begin{align}\n",
    "\\mathbb{E}\\lVert x_1-x_0 \\rVert^2 & = \\mathbb{E}\\Vert \\sigma Z_d\\rVert^2 \\\\\n",
    "& = \\sigma^2\\mathbb{E}\\lVert Z_d \\rVert^2 \\\\\n",
    "& = \\sigma^2\\sum_{i=1}^{d}\\text{Var}(Z_1) = \\sigma^2 d\n",
    "\\end{align}\n",
    "$$\n",
    "\n",
    "an increasing expected difference in consecutive point by an increasing dimension. This makes it more likely to reject new proposals, because it could happen that this new proposal lies in the tail of the distribution of interest."
   ]
  },
  {
   "cell_type": "code",
   "execution_count": 181,
   "metadata": {
    "hide_input": true
   },
   "outputs": [],
   "source": [
    "columns = ['acc_rate']\n",
    "dimension = range(1,31)\n",
    "\n",
    "df_acc = pd.DataFrame(index = dimension, columns = columns)\n",
    "df_acc = df_acc.fillna(0)\n",
    "\n",
    "N = 100\n",
    "T = 20\n",
    "L = 1\n",
    "\n",
    "for i in range(0,len(dimension)):\n",
    "    dim = dimension[i]\n",
    "    x0 = np.array([2]*dim)\n",
    "    mean = np.array([0]*dim)\n",
    "    cov = np.eye(dim)\n",
    "    cov_prop = 2*np.eye(dim)\n",
    "\n",
    "    # Acceptance rate mh sampler\n",
    "    _,accept_rate,_ = mh_sampler(x0 = x0, target_fn = normal,\n",
    "               prop_fn = gaussian_proposal, Phi = Phi_norm, L = L, iterations = T,\n",
    "               target_fn_kwargs = {'mu':mean,'cov':cov},\n",
    "               prop_fn_kwargs = {'cov':cov_prop})\n",
    "    \n",
    "    # Update results\n",
    "    df_acc.iloc[i,0] = accept_rate[-1]\n",
    "    "
   ]
  },
  {
   "cell_type": "code",
   "execution_count": 208,
   "metadata": {
    "hide_input": true
   },
   "outputs": [
    {
     "data": {
      "image/png": "[encoded data removed]",
      "text/plain": [
       "<Figure size 432x288 with 1 Axes>"
      ]
     },
     "metadata": {
      "needs_background": "light"
     },
     "output_type": "display_data"
    }
   ],
   "source": [
    "dimension = range(1,31)\n",
    "\n",
    "plt.grid(True, which=\"both\")\n",
    "\n",
    "plt.plot(dimension,df_acc['acc_rate'],'o')\n",
    "plt.title('Acceptance rate')\n",
    "plt.xlabel('Dimension')\n",
    "plt.ylabel('Acceptance rate')\n",
    "\n",
    "plt.show()"
   ]
  },
  {
   "cell_type": "markdown",
   "metadata": {},
   "source": [
    "We are interested in real rare events and with the choice of $Y_d$ right now, this probability increases by higher dimension. Let $\\Phi(X) = \\frac{\\lVert X \\rVert^2 - d}{\\sqrt{2d}}$ If we define $\\tilde{Y} = \\frac{Y_d-d}{\\sqrt{2d}}$ where $d$ still denotes the dimension (of $X$). Then $$\\mathbb{P}(\\tilde{Y} > L) = \\mathbb{P}(Z > L)$$ where $Z$ denotes the standard normal distribution and remark that this probability is independent of the dimension. This solves the problem of increasing probability by increasing dimension, because for every dimension we are looking at rare event probabilities. Define a new score function $\\Phi(X)$:"
   ]
  },
  {
   "cell_type": "code",
   "execution_count": 266,
   "metadata": {},
   "outputs": [],
   "source": [
    "def Phi_2(x):\n",
    "    \"\"\" Phi(x): R^d -> R\"\"\"\n",
    "    return np.array([(np.dot(v,v)-len(v))/float(np.sqrt(2*(len(v)))) for v in x])"
   ]
  },
  {
   "cell_type": "markdown",
   "metadata": {},
   "source": [
    "Another score function could be $\\Phi(X) = c \\lVert X \\rVert^2$, but this wouldn't solve the problem of increasing probability by increasing dimension. On the other hand we know that $c \\lVert X \\rVert^2$ follows a gamma distribution, i.e., if $ X\\sim \\chi ^{2}(\\nu )$ and $c>0$, then $cX\\sim \\Gamma(k = \\nu/2, \\theta = 2c)$. If I test this method for MH this still gives good estimates for the rare event probability. However, we still have the same problem as with the chi-squared distribution.\n",
    "\n",
    "from scipy.stats import gamma\n",
    "gamma.sf(4,a = 10./2,loc = 0,scale = 2*0.1)"
   ]
  },
  {
   "cell_type": "code",
   "execution_count": 330,
   "metadata": {},
   "outputs": [],
   "source": [
    "def Phi_3(x):\n",
    "    \"\"\" Phi(x): R^d -> R\"\"\"\n",
    "    return np.array([0.1*(np.dot(v,v)) for v in x])"
   ]
  },
  {
   "cell_type": "markdown",
   "metadata": {},
   "source": [
    "Suppose $\\Phi(X) = \\frac{\\lVert X \\rVert^2 - d}{\\sqrt{2d}}$. We are again interested in the values for which $\\Phi(X) = r$, because we need to bounce here. We use the same derivation as above, then\n",
    "\n",
    "$$\n",
    "\\begin{align}\n",
    "\\Phi(X) & = \\frac{\\lVert X \\rVert^2 - d}{\\sqrt{2d}} = r\\\\\n",
    "& \\Leftrightarrow \\Vert X \\rVert^2 = \\sqrt{2d}\\cdot r+d \\\\\n",
    "& \\Leftrightarrow t^2(v\\bullet v) + 2\\cdot t\\cdot (v\\bullet x) + x\\bullet x - \\sqrt{2d}r+d = 0\n",
    "\\end{align}\n",
    "$$\n",
    "\n",
    "The only thing changed in the analysis is the value for the radius. We need to use this new radius in the computation time of the hitting time of the boundary."
   ]
  },
  {
   "cell_type": "code",
   "execution_count": 461,
   "metadata": {},
   "outputs": [],
   "source": [
    "def tau_bounce_sphere(x,v,r,C):\n",
    "    d = len(x)\n",
    "    #(np.sqrt(2*d)*r+d)**2 bps simulates correct value\n",
    "    D = (2*(np.dot(v,x-C)))**2 - 4*np.dot(v,v)*(np.dot(x-C,x-C)-(np.sqrt(2*d)*r+d))\n",
    "    if (D<0):\n",
    "        tau = np.nan\n",
    "    elif (D==0):\n",
    "        tau = -(np.dot(v,x-C))/(np.dot(v,v))\n",
    "    else:\n",
    "        tau = min((-2*np.dot(v,x-C) + np.sqrt(D))/(2*np.dot(v,v)),(-2*np.dot(v,x-C) - np.sqrt(D))/(2*np.dot(v,v)))\n",
    "    return tau"
   ]
  },
  {
   "cell_type": "code",
   "execution_count": 462,
   "metadata": {
    "hide_input": true
   },
   "outputs": [],
   "source": [
    "# Targeting multivariate normal distribution with mean [0,0] and variance [[1,0],[0,1]]\n",
    "N = 100\n",
    "T = 20\n",
    "q = 4\n",
    "\n",
    "mean = np.array([0,0])\n",
    "cov = np.array([[1,0],[0,1]])\n",
    "\n",
    "p2 = p_estimation_mnorm(N,T,q,mean,cov,Phi_2)"
   ]
  },
  {
   "cell_type": "code",
   "execution_count": 466,
   "metadata": {
    "hide_input": true
   },
   "outputs": [],
   "source": [
    "# Targeting normal distribution with mean 0 and variance 1\n",
    "cov_prop = 2*np.eye(2)\n",
    "mu_target = np.array(2*[0])\n",
    "cov_target = np.eye(2)\n",
    "\n",
    "p_1 = p_estimation(N,T,q,normal,gaussian_proposal,Phi = Phi_norm, target_fn_kwargs = {'mu':mu_target,'cov':cov_target},prop_fn_kwargs = {'cov':cov_prop})"
   ]
  },
  {
   "cell_type": "code",
   "execution_count": 468,
   "metadata": {
    "hide_input": true
   },
   "outputs": [],
   "source": [
    "from scipy.stats import norm\n",
    "from scipy.stats import chi2"
   ]
  },
  {
   "cell_type": "markdown",
   "metadata": {},
   "source": [
    "Compute the rare event probabilities for dimensions 1 to 5."
   ]
  },
  {
   "cell_type": "code",
   "execution_count": 821,
   "metadata": {
    "hide_input": false
   },
   "outputs": [
    {
     "ename": "TypeError",
     "evalue": "_parse_args() takes at least 2 arguments (1 given)",
     "output_type": "error",
     "traceback": [
      "\u001b[1;31m---------------------------------------------------------------------------\u001b[0m",
      "\u001b[1;31mTypeError\u001b[0m                                 Traceback (most recent call last)",
      "\u001b[1;32m<ipython-input-821-41b2b545b94a>\u001b[0m in \u001b[0;36m<module>\u001b[1;34m()\u001b[0m\n\u001b[0;32m     30\u001b[0m     \u001b[0mend_bs\u001b[0m \u001b[1;33m=\u001b[0m \u001b[0mtime\u001b[0m\u001b[1;33m.\u001b[0m\u001b[0mtime\u001b[0m\u001b[1;33m(\u001b[0m\u001b[1;33m)\u001b[0m\u001b[1;33m\u001b[0m\u001b[0m\n\u001b[0;32m     31\u001b[0m \u001b[1;33m\u001b[0m\u001b[0m\n\u001b[1;32m---> 32\u001b[1;33m     \u001b[0mdf_2\u001b[0m\u001b[1;33m.\u001b[0m\u001b[0miloc\u001b[0m\u001b[1;33m[\u001b[0m\u001b[0mi\u001b[0m\u001b[1;33m,\u001b[0m\u001b[1;36m0\u001b[0m\u001b[1;33m]\u001b[0m \u001b[1;33m=\u001b[0m \u001b[0mchi2\u001b[0m\u001b[1;33m.\u001b[0m\u001b[0msf\u001b[0m\u001b[1;33m(\u001b[0m\u001b[0mi\u001b[0m\u001b[1;33m+\u001b[0m\u001b[0mnp\u001b[0m\u001b[1;33m.\u001b[0m\u001b[0msqrt\u001b[0m\u001b[1;33m(\u001b[0m\u001b[1;36m2\u001b[0m\u001b[1;33m*\u001b[0m\u001b[0mi\u001b[0m\u001b[1;33m)\u001b[0m\u001b[1;33m*\u001b[0m\u001b[0mq\u001b[0m\u001b[1;33m)\u001b[0m\u001b[1;33m\u001b[0m\u001b[0m\n\u001b[0m\u001b[0;32m     33\u001b[0m \u001b[1;33m\u001b[0m\u001b[0m\n\u001b[0;32m     34\u001b[0m     \u001b[0mdf_2\u001b[0m\u001b[1;33m.\u001b[0m\u001b[0miloc\u001b[0m\u001b[1;33m[\u001b[0m\u001b[0mi\u001b[0m\u001b[1;33m,\u001b[0m\u001b[1;36m1\u001b[0m\u001b[1;33m]\u001b[0m \u001b[1;33m=\u001b[0m \u001b[0mp_bs\u001b[0m\u001b[1;33m\u001b[0m\u001b[0m\n",
      "\u001b[1;32mC:\\Users\\mark\\Anaconda3\\envs\\master_thesis\\lib\\site-packages\\scipy\\stats\\_distn_infrastructure.pyc\u001b[0m in \u001b[0;36msf\u001b[1;34m(self, x, *args, **kwds)\u001b[0m\n\u001b[0;32m   1822\u001b[0m \u001b[1;33m\u001b[0m\u001b[0m\n\u001b[0;32m   1823\u001b[0m         \"\"\"\n\u001b[1;32m-> 1824\u001b[1;33m         \u001b[0margs\u001b[0m\u001b[1;33m,\u001b[0m \u001b[0mloc\u001b[0m\u001b[1;33m,\u001b[0m \u001b[0mscale\u001b[0m \u001b[1;33m=\u001b[0m \u001b[0mself\u001b[0m\u001b[1;33m.\u001b[0m\u001b[0m_parse_args\u001b[0m\u001b[1;33m(\u001b[0m\u001b[1;33m*\u001b[0m\u001b[0margs\u001b[0m\u001b[1;33m,\u001b[0m \u001b[1;33m**\u001b[0m\u001b[0mkwds\u001b[0m\u001b[1;33m)\u001b[0m\u001b[1;33m\u001b[0m\u001b[0m\n\u001b[0m\u001b[0;32m   1825\u001b[0m         \u001b[0mx\u001b[0m\u001b[1;33m,\u001b[0m \u001b[0mloc\u001b[0m\u001b[1;33m,\u001b[0m \u001b[0mscale\u001b[0m \u001b[1;33m=\u001b[0m \u001b[0mmap\u001b[0m\u001b[1;33m(\u001b[0m\u001b[0masarray\u001b[0m\u001b[1;33m,\u001b[0m \u001b[1;33m(\u001b[0m\u001b[0mx\u001b[0m\u001b[1;33m,\u001b[0m \u001b[0mloc\u001b[0m\u001b[1;33m,\u001b[0m \u001b[0mscale\u001b[0m\u001b[1;33m)\u001b[0m\u001b[1;33m)\u001b[0m\u001b[1;33m\u001b[0m\u001b[0m\n\u001b[0;32m   1826\u001b[0m         \u001b[0margs\u001b[0m \u001b[1;33m=\u001b[0m \u001b[0mtuple\u001b[0m\u001b[1;33m(\u001b[0m\u001b[0mmap\u001b[0m\u001b[1;33m(\u001b[0m\u001b[0masarray\u001b[0m\u001b[1;33m,\u001b[0m \u001b[0margs\u001b[0m\u001b[1;33m)\u001b[0m\u001b[1;33m)\u001b[0m\u001b[1;33m\u001b[0m\u001b[0m\n",
      "\u001b[1;31mTypeError\u001b[0m: _parse_args() takes at least 2 arguments (1 given)"
     ]
    }
   ],
   "source": [
    "np.random.seed(205090)\n",
    "\n",
    "N = 100\n",
    "T = 20\n",
    "q = 4\n",
    "target_fn = normal\n",
    "prop_fn = gaussian_proposal\n",
    "\n",
    "columns = ['p','p_est_bs','time_bs','n_bs','p_est_mh','time_mh','n_mh']\n",
    "dimension = range(1,6)\n",
    "\n",
    "df_2 = pd.DataFrame(index = dimension, columns = columns)\n",
    "df_2 = df_2.fillna(0)\n",
    "\n",
    "for i in range(0,len(dimension)):\n",
    "    cov_prop = 2*np.eye(dimension[i])\n",
    "    mu_target = np.array([0]*dimension[i])\n",
    "    cov_target = np.eye(dimension[i])\n",
    "    \n",
    "    # Time complexity mh-sampler\n",
    "    start_mh = time.time()\n",
    "    p_mh,m_mh = p_estimation(N,T,q,normal,gaussian_proposal,Phi = Phi_2, \n",
    "                                target_fn_kwargs = {'mu':mu_target,'cov':cov_target},\n",
    "                                prop_fn_kwargs = {'cov':cov_prop})\n",
    "    end_mh = time.time()\n",
    "    \n",
    "    # Time complexity bouncy-sampler\n",
    "    start_bs = time.time()\n",
    "    p_bs,m_bs = p_estimation_mnorm(N,T,q,mu_target,cov_target,Phi_2)\n",
    "    end_bs = time.time()\n",
    "    \n",
    "    df_2.iloc[i,0] = chi2.sf(i+np.sqrt(2*i)*q)\n",
    "    \n",
    "    df_2.iloc[i,1] = p_bs\n",
    "    df_2.iloc[i,2] = end_bs - start_bs\n",
    "    df_2.iloc[i,3] = m_bs\n",
    "    \n",
    "    df_2.iloc[i,4] = p_mh\n",
    "    df_2.iloc[i,5] = end_mh - start_mh\n",
    "    df_2.iloc[i,6] = m_mh"
   ]
  },
  {
   "cell_type": "code",
   "execution_count": 820,
   "metadata": {},
   "outputs": [
    {
     "data": {
      "text/plain": [
       "3.4765792129073676e-05"
      ]
     },
     "execution_count": 820,
     "metadata": {},
     "output_type": "execute_result"
    }
   ],
   "source": [
    "chi2.sf(100000+np.sqrt(2*100000)*4,df=100000)"
   ]
  },
  {
   "cell_type": "code",
   "execution_count": null,
   "metadata": {},
   "outputs": [],
   "source": [
    "df_2"
   ]
  },
  {
   "cell_type": "markdown",
   "metadata": {},
   "source": [
    "As can be seen in the table above, the estimates for BPS and MH are the same, but they do not seem to target the real rare event probability. Let's go a step back for a moment. We realized that $\\Phi(X) = \\lVert X \\rVert^2$ (Phi_norm) follows a chi-squared distribution, so we compared the estimate with this true value. This worked pretty well. By using the CLT we found a distribution $\\tilde{Y}$ that follows a standard normal distribution, so we have again a true value for the estimates."
   ]
  },
  {
   "cell_type": "code",
   "execution_count": 408,
   "metadata": {},
   "outputs": [
    {
     "data": {
      "image/png": "[encoded data removed]",
      "text/plain": [
       "<Figure size 432x288 with 1 Axes>"
      ]
     },
     "metadata": {
      "needs_background": "light"
     },
     "output_type": "display_data"
    }
   ],
   "source": [
    "d = 5\n",
    "\n",
    "x = np.arange(-10, 20, .05)\n",
    "plt.plot(x, chi2.pdf(x, df=d), color='r', lw=2)\n",
    "plt.plot(x, norm.pdf(x,loc=d,scale=np.sqrt(2*d)),color='b',lw=2)\n",
    "plt.show()"
   ]
  },
  {
   "cell_type": "markdown",
   "metadata": {},
   "source": [
    "It turns out that everything was just fine, the approximation of a chi-squared distribution by a normal distribution for lower dimension is bad."
   ]
  },
  {
   "cell_type": "markdown",
   "metadata": {},
   "source": [
    "#### Effective sample size"
   ]
  },
  {
   "cell_type": "markdown",
   "metadata": {},
   "source": [
    "Our goal is to estimate $p = \\mathbb{P}(\\Phi(X)>L)$. Suppose there is a way to get i.i.d. sample from $X$. Denote $Y = \\Phi(X)$, with mean $p$ and standard deviation $\\sigma$. Then the mean of this distribution is estimated by the mean of the sample:\n",
    "\n",
    "$$\\hat{p} = \\frac{1}{n}\\sum_{i=1}^{n} 1_{y_i>L}$$\n",
    "\n",
    "In the case, where all the $y_i$ are independent, the variance of $\\hat{p}$ is given by\n",
    "\n",
    "$$\\text{Var}(\\hat{p}) = \\frac{1}{n}\\text{Var}(1_{y_i>L})$$ However, if the observations in the sample are correlated, then $\\text{Var}(\\hat{p})$ is probably higher, which is the case in MCMC. The samples (processes) we create are not independent. Now, the effective sample size (ESS), $\\hat{T}^S$, is the unique value such that\n",
    "\n",
    "$$\\text{Var}(\\hat{p}) = \\frac{\\sigma^2}{\\hat{T}^S}$$ and gives the size of an idd sample with the same variance as the current sample and thus indicates the loss in efficiency due to the use of a Markov chain (Robert and Casella, 2004). This value is computed as $$\\hat{T}^S = T/\\kappa(h)$$ where $\\kappa(h)$ is the autocorrelation time associated with the sequence $h(\\theta^{(t)})$, $$\\kappa(h) = 1 + 2 \\sum_{t=1}^{\\infty} \\text{corr}(h(\\theta^{(0)}),h(\\theta^{(t)}))$$"
   ]
  },
  {
   "cell_type": "code",
   "execution_count": 519,
   "metadata": {},
   "outputs": [],
   "source": [
    "x0 = np.array([4.5])\n",
    "dim = x0.size\n",
    "mean = np.array([0]*dim)\n",
    "cov = np.eye(dim)\n",
    "cov_prop = 0.25*np.eye(dim)\n",
    "\n",
    "target_fn_kwargs = {'mu':mean,'cov':cov}\n",
    "prop_fn_kwargs = {'cov':cov_prop}\n",
    "\n",
    "T = 1000\n",
    "\n",
    "process,_,_ = mh_sampler(x0 = x0,target_fn = normal,prop_fn = gaussian_proposal,\n",
    "               Phi = Phi_2,L = 4,iterations = T,target_fn_kwargs = target_fn_kwargs,\n",
    "               prop_fn_kwargs = prop_fn_kwargs)"
   ]
  },
  {
   "cell_type": "code",
   "execution_count": 520,
   "metadata": {},
   "outputs": [
    {
     "data": {
      "text/plain": [
       "[<matplotlib.lines.Line2D at 0xf88da20>]"
      ]
     },
     "execution_count": 520,
     "metadata": {},
     "output_type": "execute_result"
    },
    {
     "data": {
      "image/png": "[encoded data removed]",
      "text/plain": [
       "<Figure size 432x288 with 1 Axes>"
      ]
     },
     "metadata": {
      "needs_background": "light"
     },
     "output_type": "display_data"
    }
   ],
   "source": [
    "plt.plot(process)"
   ]
  },
  {
   "cell_type": "code",
   "execution_count": 548,
   "metadata": {},
   "outputs": [],
   "source": [
    "flat_list = [item for sublist in process for item in sublist]"
   ]
  },
  {
   "cell_type": "code",
   "execution_count": 549,
   "metadata": {},
   "outputs": [
    {
     "data": {
      "text/plain": [
       "<matplotlib.axes._subplots.AxesSubplot at 0x11f72400>"
      ]
     },
     "execution_count": 549,
     "metadata": {},
     "output_type": "execute_result"
    },
    {
     "data": {
      "image/png": "[encoded data removed]",
      "text/plain": [
       "<Figure size 432x288 with 1 Axes>"
      ]
     },
     "metadata": {
      "needs_background": "light"
     },
     "output_type": "display_data"
    }
   ],
   "source": [
    "from pandas.plotting import autocorrelation_plot\n",
    "\n",
    "plt.figure()\n",
    "\n",
    "autocorrelation_plot(flat_list)\n"
   ]
  },
  {
   "cell_type": "code",
   "execution_count": 565,
   "metadata": {},
   "outputs": [],
   "source": [
    "x0 = np.array([4.5])\n",
    "dim = x0.size\n",
    "mean = np.array([0]*dim)\n",
    "cov = np.eye(dim)\n",
    "\n",
    "T = 400\n",
    "\n",
    "bps = BPS(x0,dim,mean,cov,T,boundary = np.array([[0]*dim,2]))\n",
    "_,process_bs,_ = bps.simulation"
   ]
  },
  {
   "cell_type": "code",
   "execution_count": 566,
   "metadata": {},
   "outputs": [
    {
     "data": {
      "text/plain": [
       "[<matplotlib.lines.Line2D at 0x1407f048>]"
      ]
     },
     "execution_count": 566,
     "metadata": {},
     "output_type": "execute_result"
    },
    {
     "data": {
      "image/png": "[encoded data removed]",
      "text/plain": [
       "<Figure size 432x288 with 1 Axes>"
      ]
     },
     "metadata": {
      "needs_background": "light"
     },
     "output_type": "display_data"
    }
   ],
   "source": [
    "plt.plot(process_bs)"
   ]
  },
  {
   "cell_type": "code",
   "execution_count": 564,
   "metadata": {},
   "outputs": [
    {
     "data": {
      "text/plain": [
       "2.1213203435596424"
      ]
     },
     "execution_count": 564,
     "metadata": {},
     "output_type": "execute_result"
    }
   ],
   "source": []
  },
  {
   "cell_type": "code",
   "execution_count": 567,
   "metadata": {},
   "outputs": [
    {
     "data": {
      "text/plain": [
       "<matplotlib.axes._subplots.AxesSubplot at 0x140f3b38>"
      ]
     },
     "execution_count": 567,
     "metadata": {},
     "output_type": "execute_result"
    },
    {
     "data": {
      "image/png": "[encoded data removed]",
      "text/plain": [
       "<Figure size 432x288 with 1 Axes>"
      ]
     },
     "metadata": {
      "needs_background": "light"
     },
     "output_type": "display_data"
    }
   ],
   "source": [
    "autocorrelation_plot(process_bs)"
   ]
  },
  {
   "cell_type": "code",
   "execution_count": 563,
   "metadata": {},
   "outputs": [
    {
     "ename": "TypeError",
     "evalue": "'AxesSubplot' object is not iterable",
     "output_type": "error",
     "traceback": [
      "\u001b[1;31m---------------------------------------------------------------------------\u001b[0m",
      "\u001b[1;31mTypeError\u001b[0m                                 Traceback (most recent call last)",
      "\u001b[1;32m<ipython-input-563-eae22e656286>\u001b[0m in \u001b[0;36m<module>\u001b[1;34m()\u001b[0m\n\u001b[1;32m----> 1\u001b[1;33m \u001b[0mlist\u001b[0m\u001b[1;33m(\u001b[0m\u001b[0mautocorrelation_plot\u001b[0m\u001b[1;33m(\u001b[0m\u001b[0mprocess_bs\u001b[0m\u001b[1;33m)\u001b[0m\u001b[1;33m)\u001b[0m\u001b[1;33m\u001b[0m\u001b[0m\n\u001b[0m",
      "\u001b[1;31mTypeError\u001b[0m: 'AxesSubplot' object is not iterable"
     ]
    },
    {
     "data": {
      "image/png": "[encoded data removed]",
      "text/plain": [
       "<Figure size 432x288 with 1 Axes>"
      ]
     },
     "metadata": {
      "needs_background": "light"
     },
     "output_type": "display_data"
    }
   ],
   "source": [
    "list(autocorrelation_plot(process_bs))"
   ]
  },
  {
   "cell_type": "code",
   "execution_count": 615,
   "metadata": {},
   "outputs": [],
   "source": [
    "def acf(series,h):\n",
    "    n = len(series)\n",
    "    data = np.asarray(h(series))\n",
    "    mean = np.mean(data)\n",
    "    c0 = np.sum((data - mean) ** 2) / float(n)\n",
    "\n",
    "    def r(h):\n",
    "        acf_lag = ((data[:n - h] - mean) * (data[h:] - mean)).sum() / float(n) / c0\n",
    "        return acf_lag\n",
    "    x = np.arange(n) # Avoiding lag 0 calculation\n",
    "    acf_coeffs = map(r, x)\n",
    "    return acf_coeffs"
   ]
  },
  {
   "cell_type": "code",
   "execution_count": 616,
   "metadata": {},
   "outputs": [],
   "source": [
    "def h(x):\n",
    "    return x"
   ]
  },
  {
   "cell_type": "code",
   "execution_count": 617,
   "metadata": {},
   "outputs": [],
   "source": [
    "def ESS(series):\n",
    "    acf_coeffs = acf(series,h)\n",
    "    n = len(process_bs)\n",
    "    return n/float((1+2*sum(acf_coeffs[1:])))"
   ]
  },
  {
   "cell_type": "markdown",
   "metadata": {},
   "source": [
    "Construct 10 chains of fixed length."
   ]
  },
  {
   "cell_type": "code",
   "execution_count": 807,
   "metadata": {
    "hide_input": false
   },
   "outputs": [],
   "source": [
    "np.random.seed(239423849)\n",
    "\n",
    "x0 = np.array([4.5])\n",
    "dim = x0.size\n",
    "mean = np.array([0]*dim)\n",
    "cov = np.eye(dim)\n",
    "\n",
    "T = 500\n",
    "\n",
    "columns = range(1,1000)\n",
    "index = range(1,11)\n",
    "\n",
    "bps_chains = pd.DataFrame(index = index, columns = columns)\n",
    "\n",
    "for i in range(1,11):\n",
    "    bps = BPS(x0,dim,mean,cov,T,boundary = np.array([[0]*dim,2]))\n",
    "    _,process_bs,_ = bps.simulation\n",
    "    bps_chains.iloc[i-1,:] = process_bs.T.iloc[0,:]"
   ]
  },
  {
   "cell_type": "code",
   "execution_count": 803,
   "metadata": {},
   "outputs": [],
   "source": [
    "mh_chains = pd.DataFrame(index = index, columns = columns)\n",
    "T = 1000\n",
    "\n",
    "for i in range(1,11):\n",
    "    process,_,_ = mh_sampler(x0 = x0,target_fn = normal,prop_fn = gaussian_proposal,\n",
    "               Phi = Phi_2,L = 2,iterations = T,target_fn_kwargs = target_fn_kwargs,\n",
    "               prop_fn_kwargs = prop_fn_kwargs)\n",
    "    \n",
    "    x_star = process[-1]\n",
    "    p_est = Phi_2([x_star])\n",
    "    #print(pd.DataFrame(process))\n",
    "    mh_chains.iloc[i-1,:] = pd.DataFrame(process).T.iloc[0,:]"
   ]
  },
  {
   "cell_type": "code",
   "execution_count": 804,
   "metadata": {},
   "outputs": [
    {
     "data": {
      "text/html": [
       "<div>\n",
       "<style scoped>\n",
       "    .dataframe tbody tr th:only-of-type {\n",
       "        vertical-align: middle;\n",
       "    }\n",
       "\n",
       "    .dataframe tbody tr th {\n",
       "        vertical-align: top;\n",
       "    }\n",
       "\n",
       "    .dataframe thead th {\n",
       "        text-align: right;\n",
       "    }\n",
       "</style>\n",
       "<table border=\"1\" class=\"dataframe\">\n",
       "  <thead>\n",
       "    <tr style=\"text-align: right;\">\n",
       "      <th></th>\n",
       "      <th>1</th>\n",
       "      <th>2</th>\n",
       "      <th>3</th>\n",
       "      <th>4</th>\n",
       "      <th>5</th>\n",
       "      <th>6</th>\n",
       "      <th>7</th>\n",
       "      <th>8</th>\n",
       "      <th>9</th>\n",
       "      <th>10</th>\n",
       "      <th>...</th>\n",
       "      <th>990</th>\n",
       "      <th>991</th>\n",
       "      <th>992</th>\n",
       "      <th>993</th>\n",
       "      <th>994</th>\n",
       "      <th>995</th>\n",
       "      <th>996</th>\n",
       "      <th>997</th>\n",
       "      <th>998</th>\n",
       "      <th>999</th>\n",
       "    </tr>\n",
       "  </thead>\n",
       "  <tbody>\n",
       "    <tr>\n",
       "      <th>1</th>\n",
       "      <td>4.04841</td>\n",
       "      <td>4.03013</td>\n",
       "      <td>3.79457</td>\n",
       "      <td>3.79457</td>\n",
       "      <td>3.45227</td>\n",
       "      <td>3.5035</td>\n",
       "      <td>3.5035</td>\n",
       "      <td>2.75166</td>\n",
       "      <td>2.26352</td>\n",
       "      <td>2.08671</td>\n",
       "      <td>...</td>\n",
       "      <td>2.04013</td>\n",
       "      <td>2.04013</td>\n",
       "      <td>1.97873</td>\n",
       "      <td>1.97873</td>\n",
       "      <td>1.97873</td>\n",
       "      <td>1.97873</td>\n",
       "      <td>1.97873</td>\n",
       "      <td>2.19854</td>\n",
       "      <td>2.3218</td>\n",
       "      <td>2.3218</td>\n",
       "    </tr>\n",
       "    <tr>\n",
       "      <th>2</th>\n",
       "      <td>4.5</td>\n",
       "      <td>4.06225</td>\n",
       "      <td>3.09537</td>\n",
       "      <td>2.82915</td>\n",
       "      <td>2.82915</td>\n",
       "      <td>2.87323</td>\n",
       "      <td>2.87323</td>\n",
       "      <td>2.42368</td>\n",
       "      <td>2.21848</td>\n",
       "      <td>2.35057</td>\n",
       "      <td>...</td>\n",
       "      <td>2.04921</td>\n",
       "      <td>2.42627</td>\n",
       "      <td>2.42627</td>\n",
       "      <td>2.95321</td>\n",
       "      <td>2.85145</td>\n",
       "      <td>2.85145</td>\n",
       "      <td>3.17713</td>\n",
       "      <td>3.17713</td>\n",
       "      <td>2.19816</td>\n",
       "      <td>2.19816</td>\n",
       "    </tr>\n",
       "    <tr>\n",
       "      <th>3</th>\n",
       "      <td>3.88919</td>\n",
       "      <td>3.8855</td>\n",
       "      <td>3.03382</td>\n",
       "      <td>2.67566</td>\n",
       "      <td>2.67566</td>\n",
       "      <td>2.17227</td>\n",
       "      <td>2.79554</td>\n",
       "      <td>2.39591</td>\n",
       "      <td>2.39591</td>\n",
       "      <td>2.22354</td>\n",
       "      <td>...</td>\n",
       "      <td>2.01467</td>\n",
       "      <td>2.01467</td>\n",
       "      <td>2.62531</td>\n",
       "      <td>2.8299</td>\n",
       "      <td>2.56218</td>\n",
       "      <td>2.43897</td>\n",
       "      <td>2.45863</td>\n",
       "      <td>2.32615</td>\n",
       "      <td>2.38396</td>\n",
       "      <td>2.38396</td>\n",
       "    </tr>\n",
       "    <tr>\n",
       "      <th>4</th>\n",
       "      <td>4.5</td>\n",
       "      <td>4.5</td>\n",
       "      <td>4.64183</td>\n",
       "      <td>4.40807</td>\n",
       "      <td>4.40807</td>\n",
       "      <td>3.84707</td>\n",
       "      <td>3.37911</td>\n",
       "      <td>3.37911</td>\n",
       "      <td>3.37911</td>\n",
       "      <td>2.96328</td>\n",
       "      <td>...</td>\n",
       "      <td>2.62245</td>\n",
       "      <td>1.98084</td>\n",
       "      <td>2.31017</td>\n",
       "      <td>2.31017</td>\n",
       "      <td>2.14705</td>\n",
       "      <td>2.39782</td>\n",
       "      <td>2.39782</td>\n",
       "      <td>2.30582</td>\n",
       "      <td>2.30582</td>\n",
       "      <td>2.30582</td>\n",
       "    </tr>\n",
       "    <tr>\n",
       "      <th>5</th>\n",
       "      <td>4.53196</td>\n",
       "      <td>4.23861</td>\n",
       "      <td>4.1965</td>\n",
       "      <td>3.28054</td>\n",
       "      <td>3.14593</td>\n",
       "      <td>3.14593</td>\n",
       "      <td>3.14593</td>\n",
       "      <td>3.17204</td>\n",
       "      <td>3.21401</td>\n",
       "      <td>3.21401</td>\n",
       "      <td>...</td>\n",
       "      <td>2.10813</td>\n",
       "      <td>2.10813</td>\n",
       "      <td>2.10813</td>\n",
       "      <td>2.10813</td>\n",
       "      <td>2.22142</td>\n",
       "      <td>2.22142</td>\n",
       "      <td>2.48591</td>\n",
       "      <td>2.48591</td>\n",
       "      <td>2.48591</td>\n",
       "      <td>2.48591</td>\n",
       "    </tr>\n",
       "    <tr>\n",
       "      <th>6</th>\n",
       "      <td>4.43044</td>\n",
       "      <td>4.37182</td>\n",
       "      <td>4.34561</td>\n",
       "      <td>4.38517</td>\n",
       "      <td>4.46905</td>\n",
       "      <td>3.96584</td>\n",
       "      <td>4.72222</td>\n",
       "      <td>4.72222</td>\n",
       "      <td>4.61314</td>\n",
       "      <td>3.8265</td>\n",
       "      <td>...</td>\n",
       "      <td>2.32429</td>\n",
       "      <td>2.53361</td>\n",
       "      <td>2.38599</td>\n",
       "      <td>2.52986</td>\n",
       "      <td>2.31129</td>\n",
       "      <td>1.97653</td>\n",
       "      <td>1.97653</td>\n",
       "      <td>2.01145</td>\n",
       "      <td>2.01145</td>\n",
       "      <td>2.01145</td>\n",
       "    </tr>\n",
       "    <tr>\n",
       "      <th>7</th>\n",
       "      <td>4.37679</td>\n",
       "      <td>4.20958</td>\n",
       "      <td>4.20958</td>\n",
       "      <td>4.46487</td>\n",
       "      <td>4.42282</td>\n",
       "      <td>4.13101</td>\n",
       "      <td>4.17346</td>\n",
       "      <td>4.0814</td>\n",
       "      <td>3.61813</td>\n",
       "      <td>3.21296</td>\n",
       "      <td>...</td>\n",
       "      <td>2.19294</td>\n",
       "      <td>2.19294</td>\n",
       "      <td>2.1181</td>\n",
       "      <td>2.43905</td>\n",
       "      <td>2.08219</td>\n",
       "      <td>2.08138</td>\n",
       "      <td>2.08138</td>\n",
       "      <td>2.64753</td>\n",
       "      <td>2.59705</td>\n",
       "      <td>2.04037</td>\n",
       "    </tr>\n",
       "    <tr>\n",
       "      <th>8</th>\n",
       "      <td>4.46878</td>\n",
       "      <td>4.06903</td>\n",
       "      <td>4.06903</td>\n",
       "      <td>4.06903</td>\n",
       "      <td>3.43166</td>\n",
       "      <td>3.44972</td>\n",
       "      <td>3.61393</td>\n",
       "      <td>3.08523</td>\n",
       "      <td>2.93488</td>\n",
       "      <td>2.93488</td>\n",
       "      <td>...</td>\n",
       "      <td>2.25677</td>\n",
       "      <td>2.28272</td>\n",
       "      <td>2.4255</td>\n",
       "      <td>2.69828</td>\n",
       "      <td>2.67656</td>\n",
       "      <td>2.67656</td>\n",
       "      <td>2.57667</td>\n",
       "      <td>2.03218</td>\n",
       "      <td>2.00066</td>\n",
       "      <td>2.27029</td>\n",
       "    </tr>\n",
       "    <tr>\n",
       "      <th>9</th>\n",
       "      <td>3.89442</td>\n",
       "      <td>4.06468</td>\n",
       "      <td>3.8159</td>\n",
       "      <td>3.71793</td>\n",
       "      <td>3.71793</td>\n",
       "      <td>3.71793</td>\n",
       "      <td>3.76604</td>\n",
       "      <td>3.76604</td>\n",
       "      <td>3.22384</td>\n",
       "      <td>3.22384</td>\n",
       "      <td>...</td>\n",
       "      <td>2.73025</td>\n",
       "      <td>2.73025</td>\n",
       "      <td>2.73025</td>\n",
       "      <td>2.25013</td>\n",
       "      <td>2.54864</td>\n",
       "      <td>2.59214</td>\n",
       "      <td>2.12825</td>\n",
       "      <td>2.2332</td>\n",
       "      <td>2.2332</td>\n",
       "      <td>2.2332</td>\n",
       "    </tr>\n",
       "    <tr>\n",
       "      <th>10</th>\n",
       "      <td>4.5</td>\n",
       "      <td>4.5</td>\n",
       "      <td>4.5</td>\n",
       "      <td>4.27819</td>\n",
       "      <td>3.41055</td>\n",
       "      <td>3.56983</td>\n",
       "      <td>3.59309</td>\n",
       "      <td>3.59309</td>\n",
       "      <td>3.59309</td>\n",
       "      <td>3.59309</td>\n",
       "      <td>...</td>\n",
       "      <td>3.63742</td>\n",
       "      <td>3.63742</td>\n",
       "      <td>3.63742</td>\n",
       "      <td>3.33535</td>\n",
       "      <td>2.66944</td>\n",
       "      <td>3.01717</td>\n",
       "      <td>3.01717</td>\n",
       "      <td>2.52251</td>\n",
       "      <td>2.18621</td>\n",
       "      <td>2.18621</td>\n",
       "    </tr>\n",
       "  </tbody>\n",
       "</table>\n",
       "<p>10 rows × 999 columns</p>\n",
       "</div>"
      ],
      "text/plain": [
       "        1        2        3        4        5        6        7        8    \\\n",
       "1   4.04841  4.03013  3.79457  3.79457  3.45227   3.5035   3.5035  2.75166   \n",
       "2       4.5  4.06225  3.09537  2.82915  2.82915  2.87323  2.87323  2.42368   \n",
       "3   3.88919   3.8855  3.03382  2.67566  2.67566  2.17227  2.79554  2.39591   \n",
       "4       4.5      4.5  4.64183  4.40807  4.40807  3.84707  3.37911  3.37911   \n",
       "5   4.53196  4.23861   4.1965  3.28054  3.14593  3.14593  3.14593  3.17204   \n",
       "6   4.43044  4.37182  4.34561  4.38517  4.46905  3.96584  4.72222  4.72222   \n",
       "7   4.37679  4.20958  4.20958  4.46487  4.42282  4.13101  4.17346   4.0814   \n",
       "8   4.46878  4.06903  4.06903  4.06903  3.43166  3.44972  3.61393  3.08523   \n",
       "9   3.89442  4.06468   3.8159  3.71793  3.71793  3.71793  3.76604  3.76604   \n",
       "10      4.5      4.5      4.5  4.27819  3.41055  3.56983  3.59309  3.59309   \n",
       "\n",
       "        9        10    ...         990      991      992      993      994  \\\n",
       "1   2.26352  2.08671   ...     2.04013  2.04013  1.97873  1.97873  1.97873   \n",
       "2   2.21848  2.35057   ...     2.04921  2.42627  2.42627  2.95321  2.85145   \n",
       "3   2.39591  2.22354   ...     2.01467  2.01467  2.62531   2.8299  2.56218   \n",
       "4   3.37911  2.96328   ...     2.62245  1.98084  2.31017  2.31017  2.14705   \n",
       "5   3.21401  3.21401   ...     2.10813  2.10813  2.10813  2.10813  2.22142   \n",
       "6   4.61314   3.8265   ...     2.32429  2.53361  2.38599  2.52986  2.31129   \n",
       "7   3.61813  3.21296   ...     2.19294  2.19294   2.1181  2.43905  2.08219   \n",
       "8   2.93488  2.93488   ...     2.25677  2.28272   2.4255  2.69828  2.67656   \n",
       "9   3.22384  3.22384   ...     2.73025  2.73025  2.73025  2.25013  2.54864   \n",
       "10  3.59309  3.59309   ...     3.63742  3.63742  3.63742  3.33535  2.66944   \n",
       "\n",
       "        995      996      997      998      999  \n",
       "1   1.97873  1.97873  2.19854   2.3218   2.3218  \n",
       "2   2.85145  3.17713  3.17713  2.19816  2.19816  \n",
       "3   2.43897  2.45863  2.32615  2.38396  2.38396  \n",
       "4   2.39782  2.39782  2.30582  2.30582  2.30582  \n",
       "5   2.22142  2.48591  2.48591  2.48591  2.48591  \n",
       "6   1.97653  1.97653  2.01145  2.01145  2.01145  \n",
       "7   2.08138  2.08138  2.64753  2.59705  2.04037  \n",
       "8   2.67656  2.57667  2.03218  2.00066  2.27029  \n",
       "9   2.59214  2.12825   2.2332   2.2332   2.2332  \n",
       "10  3.01717  3.01717  2.52251  2.18621  2.18621  \n",
       "\n",
       "[10 rows x 999 columns]"
      ]
     },
     "execution_count": 804,
     "metadata": {},
     "output_type": "execute_result"
    }
   ],
   "source": [
    "mh_chains"
   ]
  },
  {
   "cell_type": "code",
   "execution_count": 778,
   "metadata": {
    "hide_input": true
   },
   "outputs": [
    {
     "data": {
      "text/html": [
       "<div>\n",
       "<style scoped>\n",
       "    .dataframe tbody tr th:only-of-type {\n",
       "        vertical-align: middle;\n",
       "    }\n",
       "\n",
       "    .dataframe tbody tr th {\n",
       "        vertical-align: top;\n",
       "    }\n",
       "\n",
       "    .dataframe thead th {\n",
       "        text-align: right;\n",
       "    }\n",
       "</style>\n",
       "<table border=\"1\" class=\"dataframe\">\n",
       "  <thead>\n",
       "    <tr style=\"text-align: right;\">\n",
       "      <th></th>\n",
       "      <th>1</th>\n",
       "      <th>2</th>\n",
       "      <th>3</th>\n",
       "      <th>4</th>\n",
       "      <th>5</th>\n",
       "      <th>6</th>\n",
       "      <th>7</th>\n",
       "      <th>8</th>\n",
       "      <th>9</th>\n",
       "      <th>10</th>\n",
       "      <th>...</th>\n",
       "      <th>990</th>\n",
       "      <th>991</th>\n",
       "      <th>992</th>\n",
       "      <th>993</th>\n",
       "      <th>994</th>\n",
       "      <th>995</th>\n",
       "      <th>996</th>\n",
       "      <th>997</th>\n",
       "      <th>998</th>\n",
       "      <th>999</th>\n",
       "    </tr>\n",
       "  </thead>\n",
       "  <tbody>\n",
       "    <tr>\n",
       "      <th>1</th>\n",
       "      <td>4.5</td>\n",
       "      <td>4.18732</td>\n",
       "      <td>4.18649</td>\n",
       "      <td>4.16534</td>\n",
       "      <td>3.70911</td>\n",
       "      <td>2.63262</td>\n",
       "      <td>2.92905</td>\n",
       "      <td>2.89584</td>\n",
       "      <td>2.89046</td>\n",
       "      <td>1.95664</td>\n",
       "      <td>...</td>\n",
       "      <td>2.1994</td>\n",
       "      <td>1.95664</td>\n",
       "      <td>2.33352</td>\n",
       "      <td>1.95664</td>\n",
       "      <td>1.96357</td>\n",
       "      <td>1.95664</td>\n",
       "      <td>3.68552</td>\n",
       "      <td>3.53403</td>\n",
       "      <td>3.28532</td>\n",
       "      <td>3.21765</td>\n",
       "    </tr>\n",
       "    <tr>\n",
       "      <th>2</th>\n",
       "      <td>4.5</td>\n",
       "      <td>4.79534</td>\n",
       "      <td>4.65253</td>\n",
       "      <td>4.64585</td>\n",
       "      <td>3.52285</td>\n",
       "      <td>3.61807</td>\n",
       "      <td>3.61226</td>\n",
       "      <td>3.66177</td>\n",
       "      <td>3.63228</td>\n",
       "      <td>3.41604</td>\n",
       "      <td>...</td>\n",
       "      <td>2.38045</td>\n",
       "      <td>1.95664</td>\n",
       "      <td>1.96541</td>\n",
       "      <td>1.95664</td>\n",
       "      <td>2.24411</td>\n",
       "      <td>2.23556</td>\n",
       "      <td>2.31013</td>\n",
       "      <td>1.95664</td>\n",
       "      <td>2.50281</td>\n",
       "      <td>1.95664</td>\n",
       "    </tr>\n",
       "    <tr>\n",
       "      <th>3</th>\n",
       "      <td>4.5</td>\n",
       "      <td>4.48129</td>\n",
       "      <td>1.95664</td>\n",
       "      <td>1.97414</td>\n",
       "      <td>1.95664</td>\n",
       "      <td>2.69499</td>\n",
       "      <td>2.26488</td>\n",
       "      <td>1.95664</td>\n",
       "      <td>2.84417</td>\n",
       "      <td>1.95664</td>\n",
       "      <td>...</td>\n",
       "      <td>1.95664</td>\n",
       "      <td>2.47876</td>\n",
       "      <td>1.95664</td>\n",
       "      <td>2.04346</td>\n",
       "      <td>1.95664</td>\n",
       "      <td>2.17196</td>\n",
       "      <td>1.95664</td>\n",
       "      <td>2.4938</td>\n",
       "      <td>1.95664</td>\n",
       "      <td>2.26342</td>\n",
       "    </tr>\n",
       "    <tr>\n",
       "      <th>4</th>\n",
       "      <td>4.5</td>\n",
       "      <td>4.51825</td>\n",
       "      <td>4.09895</td>\n",
       "      <td>4.1892</td>\n",
       "      <td>4.17739</td>\n",
       "      <td>4.03916</td>\n",
       "      <td>4.0543</td>\n",
       "      <td>2.58327</td>\n",
       "      <td>2.54426</td>\n",
       "      <td>2.87058</td>\n",
       "      <td>...</td>\n",
       "      <td>2.89611</td>\n",
       "      <td>1.95664</td>\n",
       "      <td>2.1429</td>\n",
       "      <td>1.95664</td>\n",
       "      <td>2.06579</td>\n",
       "      <td>1.95664</td>\n",
       "      <td>2.22885</td>\n",
       "      <td>1.95664</td>\n",
       "      <td>2.24664</td>\n",
       "      <td>2.43713</td>\n",
       "    </tr>\n",
       "    <tr>\n",
       "      <th>5</th>\n",
       "      <td>4.5</td>\n",
       "      <td>4.40118</td>\n",
       "      <td>2.56392</td>\n",
       "      <td>2.59893</td>\n",
       "      <td>1.95664</td>\n",
       "      <td>2.11633</td>\n",
       "      <td>1.95664</td>\n",
       "      <td>2.15927</td>\n",
       "      <td>2.03412</td>\n",
       "      <td>2.46944</td>\n",
       "      <td>...</td>\n",
       "      <td>1.95664</td>\n",
       "      <td>2.35781</td>\n",
       "      <td>1.95664</td>\n",
       "      <td>2.6648</td>\n",
       "      <td>1.95664</td>\n",
       "      <td>2.05057</td>\n",
       "      <td>1.95664</td>\n",
       "      <td>2.16225</td>\n",
       "      <td>1.95664</td>\n",
       "      <td>2.09218</td>\n",
       "    </tr>\n",
       "    <tr>\n",
       "      <th>6</th>\n",
       "      <td>4.5</td>\n",
       "      <td>4.47621</td>\n",
       "      <td>3.52876</td>\n",
       "      <td>2.94126</td>\n",
       "      <td>2.75231</td>\n",
       "      <td>2.71977</td>\n",
       "      <td>2.3274</td>\n",
       "      <td>2.88035</td>\n",
       "      <td>3.26969</td>\n",
       "      <td>2.70787</td>\n",
       "      <td>...</td>\n",
       "      <td>1.95664</td>\n",
       "      <td>2.11479</td>\n",
       "      <td>2.31337</td>\n",
       "      <td>1.95664</td>\n",
       "      <td>2.02286</td>\n",
       "      <td>1.95664</td>\n",
       "      <td>2.45792</td>\n",
       "      <td>1.95664</td>\n",
       "      <td>2.15074</td>\n",
       "      <td>1.95664</td>\n",
       "    </tr>\n",
       "    <tr>\n",
       "      <th>7</th>\n",
       "      <td>4.5</td>\n",
       "      <td>4.11043</td>\n",
       "      <td>4.19656</td>\n",
       "      <td>4.22211</td>\n",
       "      <td>4.33689</td>\n",
       "      <td>3.9226</td>\n",
       "      <td>4.22581</td>\n",
       "      <td>3.60328</td>\n",
       "      <td>3.66591</td>\n",
       "      <td>3.68033</td>\n",
       "      <td>...</td>\n",
       "      <td>1.95664</td>\n",
       "      <td>2.07553</td>\n",
       "      <td>2.13958</td>\n",
       "      <td>2.48785</td>\n",
       "      <td>2.48195</td>\n",
       "      <td>1.95664</td>\n",
       "      <td>2.18555</td>\n",
       "      <td>1.95664</td>\n",
       "      <td>2.51879</td>\n",
       "      <td>1.95664</td>\n",
       "    </tr>\n",
       "    <tr>\n",
       "      <th>8</th>\n",
       "      <td>4.5</td>\n",
       "      <td>4.35111</td>\n",
       "      <td>3.77428</td>\n",
       "      <td>3.80792</td>\n",
       "      <td>2.38711</td>\n",
       "      <td>2.08179</td>\n",
       "      <td>1.95664</td>\n",
       "      <td>1.98282</td>\n",
       "      <td>1.95664</td>\n",
       "      <td>2.0166</td>\n",
       "      <td>...</td>\n",
       "      <td>2.32938</td>\n",
       "      <td>1.95664</td>\n",
       "      <td>2.18841</td>\n",
       "      <td>2.08434</td>\n",
       "      <td>2.21658</td>\n",
       "      <td>1.95664</td>\n",
       "      <td>2.74757</td>\n",
       "      <td>2.59953</td>\n",
       "      <td>2.45258</td>\n",
       "      <td>2.36861</td>\n",
       "    </tr>\n",
       "    <tr>\n",
       "      <th>9</th>\n",
       "      <td>4.5</td>\n",
       "      <td>4.48611</td>\n",
       "      <td>4.58098</td>\n",
       "      <td>3.97444</td>\n",
       "      <td>3.9775</td>\n",
       "      <td>3.93062</td>\n",
       "      <td>2.98909</td>\n",
       "      <td>2.97805</td>\n",
       "      <td>1.95664</td>\n",
       "      <td>2.03498</td>\n",
       "      <td>...</td>\n",
       "      <td>2.15258</td>\n",
       "      <td>1.95664</td>\n",
       "      <td>2.04671</td>\n",
       "      <td>2.31882</td>\n",
       "      <td>1.95664</td>\n",
       "      <td>2.15486</td>\n",
       "      <td>2.29735</td>\n",
       "      <td>2.18897</td>\n",
       "      <td>2.22246</td>\n",
       "      <td>1.95664</td>\n",
       "    </tr>\n",
       "    <tr>\n",
       "      <th>10</th>\n",
       "      <td>4.5</td>\n",
       "      <td>4.36287</td>\n",
       "      <td>1.95664</td>\n",
       "      <td>2.37355</td>\n",
       "      <td>1.96225</td>\n",
       "      <td>2.20476</td>\n",
       "      <td>2.67852</td>\n",
       "      <td>2.84891</td>\n",
       "      <td>2.34723</td>\n",
       "      <td>1.95664</td>\n",
       "      <td>...</td>\n",
       "      <td>2.29738</td>\n",
       "      <td>1.95664</td>\n",
       "      <td>2.10275</td>\n",
       "      <td>2.05359</td>\n",
       "      <td>1.96411</td>\n",
       "      <td>2.17772</td>\n",
       "      <td>2.0212</td>\n",
       "      <td>2.52056</td>\n",
       "      <td>2.47696</td>\n",
       "      <td>1.95664</td>\n",
       "    </tr>\n",
       "  </tbody>\n",
       "</table>\n",
       "<p>10 rows × 999 columns</p>\n",
       "</div>"
      ],
      "text/plain": [
       "    1        2        3        4        5        6        7        8    \\\n",
       "1   4.5  4.18732  4.18649  4.16534  3.70911  2.63262  2.92905  2.89584   \n",
       "2   4.5  4.79534  4.65253  4.64585  3.52285  3.61807  3.61226  3.66177   \n",
       "3   4.5  4.48129  1.95664  1.97414  1.95664  2.69499  2.26488  1.95664   \n",
       "4   4.5  4.51825  4.09895   4.1892  4.17739  4.03916   4.0543  2.58327   \n",
       "5   4.5  4.40118  2.56392  2.59893  1.95664  2.11633  1.95664  2.15927   \n",
       "6   4.5  4.47621  3.52876  2.94126  2.75231  2.71977   2.3274  2.88035   \n",
       "7   4.5  4.11043  4.19656  4.22211  4.33689   3.9226  4.22581  3.60328   \n",
       "8   4.5  4.35111  3.77428  3.80792  2.38711  2.08179  1.95664  1.98282   \n",
       "9   4.5  4.48611  4.58098  3.97444   3.9775  3.93062  2.98909  2.97805   \n",
       "10  4.5  4.36287  1.95664  2.37355  1.96225  2.20476  2.67852  2.84891   \n",
       "\n",
       "        9        10    ...         990      991      992      993      994  \\\n",
       "1   2.89046  1.95664   ...      2.1994  1.95664  2.33352  1.95664  1.96357   \n",
       "2   3.63228  3.41604   ...     2.38045  1.95664  1.96541  1.95664  2.24411   \n",
       "3   2.84417  1.95664   ...     1.95664  2.47876  1.95664  2.04346  1.95664   \n",
       "4   2.54426  2.87058   ...     2.89611  1.95664   2.1429  1.95664  2.06579   \n",
       "5   2.03412  2.46944   ...     1.95664  2.35781  1.95664   2.6648  1.95664   \n",
       "6   3.26969  2.70787   ...     1.95664  2.11479  2.31337  1.95664  2.02286   \n",
       "7   3.66591  3.68033   ...     1.95664  2.07553  2.13958  2.48785  2.48195   \n",
       "8   1.95664   2.0166   ...     2.32938  1.95664  2.18841  2.08434  2.21658   \n",
       "9   1.95664  2.03498   ...     2.15258  1.95664  2.04671  2.31882  1.95664   \n",
       "10  2.34723  1.95664   ...     2.29738  1.95664  2.10275  2.05359  1.96411   \n",
       "\n",
       "        995      996      997      998      999  \n",
       "1   1.95664  3.68552  3.53403  3.28532  3.21765  \n",
       "2   2.23556  2.31013  1.95664  2.50281  1.95664  \n",
       "3   2.17196  1.95664   2.4938  1.95664  2.26342  \n",
       "4   1.95664  2.22885  1.95664  2.24664  2.43713  \n",
       "5   2.05057  1.95664  2.16225  1.95664  2.09218  \n",
       "6   1.95664  2.45792  1.95664  2.15074  1.95664  \n",
       "7   1.95664  2.18555  1.95664  2.51879  1.95664  \n",
       "8   1.95664  2.74757  2.59953  2.45258  2.36861  \n",
       "9   2.15486  2.29735  2.18897  2.22246  1.95664  \n",
       "10  2.17772   2.0212  2.52056  2.47696  1.95664  \n",
       "\n",
       "[10 rows x 999 columns]"
      ]
     },
     "execution_count": 778,
     "metadata": {},
     "output_type": "execute_result"
    }
   ],
   "source": [
    "bps_chains"
   ]
  },
  {
   "cell_type": "code",
   "execution_count": 779,
   "metadata": {},
   "outputs": [],
   "source": [
    "def my_gelman_rubin(x):\n",
    "    \"\"\" Estimate the marginal posterior variance. Vectorised implementation. \"\"\"\n",
    "    m_chains, n_iters = x.shape\n",
    "\n",
    "    # Calculate between-chain variance\n",
    "    B_over_n = ((np.mean(x, axis=1) - np.nanmean(x))**2).sum() / (m_chains - 1)\n",
    "\n",
    "    # Calculate within-chain variances\n",
    "    W = ((x.sub(np.mean(x, axis=1), axis=0))**2).values.sum() / (m_chains*(n_iters - 1))\n",
    "\n",
    "    # (over) estimate of variance\n",
    "    s2 = W * (n_iters - 1) / n_iters + B_over_n\n",
    "\n",
    "    return s2"
   ]
  },
  {
   "cell_type": "code",
   "execution_count": 780,
   "metadata": {},
   "outputs": [],
   "source": [
    "def my_ESS(x):\n",
    "    \"\"\" Compute the effective sample size of estimand of interest. Vectorised implementation. \"\"\"\n",
    "    m_chains, n_iters = x.shape\n",
    "\n",
    "    variogram = lambda t: ((x.iloc[:, t:].values - x.iloc[:, :(n_iters - t)].values)**2).sum() / (m_chains * (n_iters - t))\n",
    "    \n",
    "    post_var = my_gelman_rubin(x)\n",
    "\n",
    "    t = 1\n",
    "    rho = np.ones(n_iters)\n",
    "    negative_autocorr = False\n",
    "\n",
    "    # Iterate until the sum of consecutive estimates of autocorrelation is negative\n",
    "    while not negative_autocorr and (t < n_iters):\n",
    "        rho[t] = 1 - variogram(t) / (2 * post_var)\n",
    "\n",
    "        if not t % 2:\n",
    "            negative_autocorr = sum(rho[t-1:t+1]) < 0\n",
    "\n",
    "        t += 1\n",
    "\n",
    "    return int(m_chains*n_iters / (1 + 2*rho[1:t].sum()))"
   ]
  },
  {
   "cell_type": "code",
   "execution_count": 781,
   "metadata": {},
   "outputs": [
    {
     "data": {
      "text/plain": [
       "214"
      ]
     },
     "execution_count": 781,
     "metadata": {},
     "output_type": "execute_result"
    }
   ],
   "source": [
    "my_ESS(bps_chains)"
   ]
  },
  {
   "cell_type": "code",
   "execution_count": 805,
   "metadata": {},
   "outputs": [
    {
     "data": {
      "text/plain": [
       "334"
      ]
     },
     "execution_count": 805,
     "metadata": {},
     "output_type": "execute_result"
    }
   ],
   "source": [
    "my_ESS(mh_chains)"
   ]
  }
 ],
 "metadata": {
  "kernelspec": {
   "display_name": "Python 2",
   "language": "python",
   "name": "python2"
  },
  "language_info": {
   "codemirror_mode": {
    "name": "ipython",
    "version": 2
   },
   "file_extension": ".py",
   "mimetype": "text/x-python",
   "name": "python",
   "nbconvert_exporter": "python",
   "pygments_lexer": "ipython2",
   "version": "2.7.15"
  }
 },
 "nbformat": 4,
 "nbformat_minor": 2
}
