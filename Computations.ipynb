{
 "cells": [
  {
   "cell_type": "markdown",
   "metadata": {
    "heading_collapsed": true
   },
   "source": [
    "## Packages and functions"
   ]
  },
  {
   "cell_type": "code",
   "execution_count": 1,
   "metadata": {
    "hidden": true
   },
   "outputs": [],
   "source": [
    "import pandas as pd\n",
    "import math\n",
    "import random\n",
    "import numpy as np\n",
    "import pylab as pl\n",
    "import scipy.special as ss\n",
    "import matplotlib.pyplot as plt\n",
    "import scipy.stats as st\n",
    "import time\n",
    "import sklearn\n",
    "from scipy.stats import norm\n",
    "from scipy.stats import chi\n",
    "from scipy.stats import chi2\n",
    "from sklearn.linear_model import LinearRegression\n",
    "import seaborn as sns\n",
    "\n",
    "np.random.seed(2035909)"
   ]
  },
  {
   "cell_type": "code",
   "execution_count": 2,
   "metadata": {
    "hidden": true
   },
   "outputs": [],
   "source": [
    "def tau_bounce_sphere(x,v,r,C):\n",
    "    D = (2*(np.dot(v,x-C)))**2 - 4*np.dot(v,v)*(np.dot(x-C,x-C)-r**2)\n",
    "    if (D<0):\n",
    "        tau = np.nan\n",
    "    elif (D==0):\n",
    "        tau = -(np.dot(v,x-C))/(np.dot(v,v))\n",
    "    else:\n",
    "        tau = min((-2*np.dot(v,x-C) + np.sqrt(D))/(2*np.dot(v,v)),(-2*np.dot(v,x-C) - np.sqrt(D))/(2*np.dot(v,v)))\n",
    "    return tau"
   ]
  },
  {
   "cell_type": "code",
   "execution_count": 3,
   "metadata": {
    "hidden": true
   },
   "outputs": [],
   "source": [
    "def random_time(a,b,y):\n",
    "    if b == 0:\n",
    "        if a > 0:\n",
    "            return np.log(y)/(-float(a))\n",
    "        else:\n",
    "            return -1\n",
    "    elif b > 0:\n",
    "        if a >= 0:\n",
    "            return -a/float(b) + np.sqrt(a**2/float(b**2) - 2*np.log(y)/float(b))\n",
    "        else:\n",
    "            return -a/float(b) + random_time(0,b,y)\n",
    "    else:\n",
    "        if a > 0:\n",
    "            if np.log(y) >= a**2/float(2*b):\n",
    "                return -a/float(b) - np.sqrt(a**2/float(b**2) - 2*np.log(y)/float(b))\n",
    "            else:\n",
    "                return -1\n",
    "        else:\n",
    "            return -1"
   ]
  },
  {
   "cell_type": "code",
   "execution_count": 4,
   "metadata": {
    "hidden": true
   },
   "outputs": [],
   "source": [
    "def resample_velocity(dim):\n",
    "    mean = [0]*dim\n",
    "    cov = np.eye(dim)\n",
    "    return np.random.multivariate_normal(mean,cov)"
   ]
  },
  {
   "cell_type": "code",
   "execution_count": 5,
   "metadata": {
    "hidden": true
   },
   "outputs": [],
   "source": [
    "def flip_BPS(x,v,mu,V):\n",
    "    gradient = np.dot(V,(x-mu))\n",
    "    return v-2*((np.dot(v,gradient))/float((np.dot(gradient,gradient))))*gradient"
   ]
  },
  {
   "cell_type": "code",
   "execution_count": 6,
   "metadata": {
    "hidden": true
   },
   "outputs": [],
   "source": [
    "def reflection(v,n):\n",
    "    \"\"\"Return specular reflection\"\"\"\n",
    "    return v-2*(np.dot(v,n)/float((np.dot(n,n))))*n"
   ]
  },
  {
   "cell_type": "code",
   "execution_count": 7,
   "metadata": {
    "hidden": true
   },
   "outputs": [],
   "source": [
    "def normal_sphere(x_hit,C):\n",
    "    \"\"\"Return normal for incoming vector on sphere\"\"\"\n",
    "    return x_hit-C"
   ]
  },
  {
   "cell_type": "code",
   "execution_count": 8,
   "metadata": {
    "hidden": true
   },
   "outputs": [],
   "source": [
    "def Phi_norm(x):\n",
    "    \"\"\" Phi(x): R^d -> R\"\"\"\n",
    "    return np.array([(np.dot(v,v)) for v in x])"
   ]
  },
  {
   "cell_type": "markdown",
   "metadata": {
    "heading_collapsed": true
   },
   "source": [
    "## Bouncy Particle Sampler"
   ]
  },
  {
   "cell_type": "code",
   "execution_count": 9,
   "metadata": {
    "hidden": true
   },
   "outputs": [],
   "source": [
    "class BPS():\n",
    "    def __init__(self,x0,dim,mu,V,final_time,boundary = np.array([[0,0],1])):\n",
    "        self.dim = dim\n",
    "        self.x0 = x0\n",
    "        self.mu = mu\n",
    "        self.V = V\n",
    "        self.final_time = final_time\n",
    "        self.boundary = boundary        \n",
    "        self.simulation = self._simulation()\n",
    "    \n",
    "    def description(self):\n",
    "        print(\"We are trying to sample from a normal distribution in\", self.dim, \"-d, with mean\", self.mu, \"and variance\", self.V)\n",
    "    \n",
    "    def _simulation(self): \n",
    "    \n",
    "        # Control the total time\n",
    "        current_time = 0\n",
    "\n",
    "        # Initialize dataframes\n",
    "        #T = pd.DataFrame(columns = ['T'])\n",
    "        #X = pd.DataFrame(columns = range(dim))\n",
    "        #theta = pd.DataFrame(columns = range(dim))\n",
    "    \n",
    "        dict_T = {'T':[]}\n",
    "        dict_X = {'X':[]}\n",
    "        dict_theta = {'theta':[]}\n",
    "    \n",
    "        dict_T['T'].append(0)\n",
    "        dict_X['X'].append(self.x0)\n",
    "    \n",
    "        initial_theta = resample_velocity(self.dim)\n",
    "        dict_theta['theta'].append(initial_theta.tolist())\n",
    "\n",
    "        # Initial values\n",
    "        #T.loc[1] = 0\n",
    "        #X.loc[1,] = x0#[0]*self.dim\n",
    "        #theta.loc[1,] = resample_velocity(dim)\n",
    "\n",
    "        # Define the refresh rate\n",
    "        #refresh_rate = 0.3/100*(900+60*2**(math.log(self.dim,2)))\n",
    "        bounce = -1\n",
    "        k = 1\n",
    "        bound = np.nan\n",
    "    \n",
    "        current_X = self.x0\n",
    "        current_theta = initial_theta\n",
    "\n",
    "        while (current_time < self.final_time):\n",
    "        \n",
    "            # Draw uniform r.v. for switching time, refresh time and acceptance of new switching time\n",
    "            R = np.random.uniform(0,1,[1,2])\n",
    "            a = np.dot(current_theta,np.dot(self.V,current_X-self.mu))\n",
    "            b = np.dot(current_theta,np.dot(self.V,current_theta))\n",
    "            bounce = random_time(a,b,R[0,0])\n",
    "        \n",
    "            if self.boundary is not None:\n",
    "                #print('x',X.loc[k,:])\n",
    "                #print('v',theta.loc[k,:])\n",
    "                bound = tau_bounce_sphere(np.array(current_X),np.array(current_theta),self.boundary[1],self.boundary[0])\n",
    "                if bound<0:\n",
    "                    bound = np.nan\n",
    "            \n",
    "            #refresh_rate = 1.0/20*(30*self.boundary[1]+70)\n",
    "            #if (refresh_rate < 1 or self.boundary[1] < 1):\n",
    "            #    refresh_rate = 1.5\n",
    "            refresh_rate = 5\n",
    "            if (refresh_rate <= 0):\n",
    "                refresh = -1\n",
    "                print('Infinity')\n",
    "                tau = bounce\n",
    "            else:\n",
    "                refresh = -np.log(R[0,1])/float(refresh_rate)\n",
    "                #print('refresh',refresh)\n",
    "                tau = np.nanmin([bounce,refresh,bound])\n",
    "            \n",
    "            #print(tau)\n",
    "            # Update time and path\n",
    "            #T.loc[k+1] = T.loc[k] + tau\n",
    "            #X.loc[k+1,:] = X.loc[k,:] + theta.loc[k,:]*tau\n",
    "        \n",
    "        \n",
    "            current_X = current_X + current_theta*tau\n",
    "            \n",
    "        \n",
    "            dict_T['T'].append(current_time + tau)\n",
    "            dict_X['X'].append(current_X.tolist())\n",
    "            #theta.loc[k+1,:] = theta.loc[k,:]\n",
    "            #print(X.loc[k+1,:])\n",
    "            \n",
    "            #print('Old v',theta.loc[k,:])\n",
    "            if tau == refresh: # refresh\n",
    "                update_theta = resample_velocity(self.dim)\n",
    "                #theta.loc[k+1,:] = resample_velocity(dim)\n",
    "            elif tau == bound: # bound\n",
    "                n = normal_sphere(current_X,self.boundary[0])\n",
    "                #print('n',n)\n",
    "                update_theta = reflection(current_theta,n)\n",
    "                #theta.loc[k+1,:] = reflection(theta.loc[k,:],n)\n",
    "                #print('New v',theta.loc[k+1,:])\n",
    "            else: # bounce\n",
    "                update_theta = flip_BPS(current_X,current_theta,self.mu,self.V)\n",
    "                #theta.loc[k+1,:] = flip_BPS(current_X.values,theta.loc[k,:].values,mu,V)\n",
    "            \n",
    "            k = k+1\n",
    "            current_theta = update_theta\n",
    "            dict_theta['theta'].append(current_theta.tolist())\n",
    "            #current_time = T.loc[k].item()\n",
    "            current_time = current_time + tau\n",
    "    \n",
    "        T = pd.DataFrame.from_dict(dict_T)\n",
    "        X = pd.DataFrame.from_dict(dict_X)\n",
    "        theta = pd.DataFrame.from_dict(dict_theta)\n",
    "        \n",
    "        return T,pd.DataFrame(X['X'].values.tolist()),pd.DataFrame(theta['theta'].values.tolist())\n",
    "    \n",
    "    def mean_and_covariance(self):\n",
    "        T,X,theta = self.simulation\n",
    "        d = X.shape[1]\n",
    "        n_points = T.shape[0]\n",
    "\n",
    "        k = 1\n",
    "        means = np.zeros(d)\n",
    "        covariance = np.zeros((d,d))\n",
    "        T_max = T.loc[n_points-1,'T']\n",
    "\n",
    "        t_prev= T.loc[k-1,'T']\n",
    "        x_prev= X.loc[k-1,:].values\n",
    "\n",
    "        while k <= n_points-1:\n",
    "            t_now = T.loc[k,'T']\n",
    "            x_now = X.loc[k,:].values\n",
    "\n",
    "            means = means + (t_now-t_prev)*(x_prev+x_now)/(float(2)*T_max)\n",
    "            covariance = covariance + (t_now-t_prev)*((1/(float(6)*T_max))*(2*np.multiply.outer(x_now,x_now) + np.multiply.outer(x_now,x_prev) + np.multiply.outer(x_prev,x_now) + 2*np.multiply.outer(x_prev,x_prev)))\n",
    "            t_prev = t_now\n",
    "            x_prev = x_now\n",
    "            k = k+1\n",
    "\n",
    "            covariance = covariance - np.multiply.outer(means,means)\n",
    "\n",
    "        return means, covariance\n",
    "    \n",
    "    def plot_path(self):\n",
    "        fig, ax = plt.subplots()\n",
    "        T,X,theta = self.simulation\n",
    "        if self.dim == 1:\n",
    "            plt.xlabel('t')\n",
    "            plt.ylabel('X')\n",
    "            plt.plot(T,X)\n",
    "        elif self.dim == 2:\n",
    "            plt.xlabel('X1(t)')\n",
    "            plt.ylabel('X2(t)')\n",
    "            plt.plot(X.loc[:,0], X.loc[:,1])\n",
    "            \n",
    "        circ=plt.Circle(self.boundary[0], radius=self.boundary[1],fill=False)\n",
    "        ax.add_patch(circ)\n",
    "        plt.axis('equal')\n",
    "        \n",
    "        plt.grid(True)\n",
    "        plt.show()\n",
    "    \n",
    "    def sample_traj(self,m):\n",
    "        T,X,theta = self.simulation\n",
    "        n_points = T.shape[0]-1\n",
    "        tau = T.loc[n_points,'T']\n",
    "        dim = X.shape[1]\n",
    "        sample = pd.DataFrame(columns = range(dim))\n",
    "\n",
    "        for i in range(1,m):\n",
    "            t = i*tau/m\n",
    "            index = np.argmax(T.loc[:,'T']>t)-1\n",
    "            traj = X.iloc[index,:].values+(t-(T.loc[index,'T']))*np.int64(theta.iloc[index,:].values)\n",
    "            sample.loc[i,:] = traj\n",
    "        return sample"
   ]
  },
  {
   "cell_type": "markdown",
   "metadata": {
    "heading_collapsed": true
   },
   "source": [
    "## Metropolis-Hastings"
   ]
  },
  {
   "cell_type": "code",
   "execution_count": 10,
   "metadata": {
    "hidden": true
   },
   "outputs": [],
   "source": [
    "def mh_sampler(x0,target_fn,prop_fn,Phi,L,iterations = 100,target_fn_kwargs={},prop_fn_kwargs = {}):\n",
    "    \"\"\"Simple metropolis hastings.\n",
    "    \n",
    "    Arguments:\n",
    "    x0: starting point of the chain\n",
    "    target_fn: target p.d.f.\n",
    "    prop_fn: proposal p.d.f.\n",
    "    target_fn_kwargs: extra arguments for target function\n",
    "    prop_fn_kwargs: extra arguments for proposal function\n",
    "    L: bound to cross \n",
    "    iterations: number of mcmc iterations\n",
    "    \n",
    "    Returns:\n",
    "    A Markov chain on the lowermost sample\n",
    "    \n",
    "    \"\"\"\n",
    "    dim = x0.size\n",
    "    \n",
    "    # Initialize chain, acceptance rate\n",
    "    chain = np.zeros((iterations,dim))\n",
    "    accept_rate = np.zeros(iterations)\n",
    "    target = np.zeros((iterations,dim))\n",
    "    \n",
    "    random_uniform = np.random.uniform(0,1,iterations)\n",
    "    \n",
    "    # First samples\n",
    "    chain[0,:] = x0\n",
    "    target0 = target_fn(x0,**target_fn_kwargs)\n",
    "    target[0,:] = target0\n",
    "    \n",
    "    naccept = 0\n",
    "    for i in range(1,iterations):\n",
    "        \n",
    "        # propose\n",
    "        x_star, factor = prop_fn(x0,**prop_fn_kwargs)\n",
    "        \n",
    "        # hastings-ratio\n",
    "        target_star = target_fn(x_star,**target_fn_kwargs)\n",
    "        H = (target_star/float(target0)) * factor\n",
    "\n",
    "        # accept/reject step\n",
    "        if (random_uniform[i] < H) & (Phi([x_star]) > L):\n",
    "            x0 = x_star\n",
    "            target0 = target_star\n",
    "            naccept += 1\n",
    "            #print(Phi([x_star]),L)\n",
    "        \n",
    "        # update chain\n",
    "        chain[i,:] = x0\n",
    "        target[i,:] = target0\n",
    "        accept_rate[i] = naccept/float(i)\n",
    "    \n",
    "    return chain, accept_rate, target"
   ]
  },
  {
   "cell_type": "code",
   "execution_count": 11,
   "metadata": {
    "hidden": true
   },
   "outputs": [],
   "source": [
    "def gaussian_proposal(x,cov):\n",
    "    # Draw x_star\n",
    "    x_star = np.random.multivariate_normal(x, cov)\n",
    "    # x_star = x + np.random.randn()*sigma\n",
    "    \n",
    "    # proposal ratio factor\n",
    "    factor = 1\n",
    "    return x_star, factor"
   ]
  },
  {
   "cell_type": "code",
   "execution_count": 12,
   "metadata": {
    "hidden": true
   },
   "outputs": [],
   "source": [
    "def normal(x,mu,cov):\n",
    "    return np.exp(-0.5*(np.matmul(np.matmul((x-mu).T,cov),x-mu)))"
   ]
  },
  {
   "cell_type": "markdown",
   "metadata": {},
   "source": [
    "## Estimation probabilities outside n-ball"
   ]
  },
  {
   "cell_type": "markdown",
   "metadata": {
    "heading_collapsed": true
   },
   "source": [
    "### Algorithm BS"
   ]
  },
  {
   "cell_type": "code",
   "execution_count": 13,
   "metadata": {
    "hidden": true
   },
   "outputs": [],
   "source": [
    "def p_estimation_mnorm(N,T,q,mean,cov,Phi):\n",
    "    \n",
    "    st = time.time()\n",
    "    dim = mean.size\n",
    "\n",
    "    m=1\n",
    "    X=np.random.multivariate_normal(mean,cov,N)\n",
    "    phi=Phi(X)\n",
    "    s = np.argsort(phi)\n",
    "    phi,X = phi[s], X[s]\n",
    "    X = np.array(X)\n",
    "    L=phi[0]\n",
    "    L_max = phi[0]\n",
    "    #print(phi)\n",
    "    ed = time.time()\n",
    "    #print(ed-st)\n",
    "    all_L = [L]\n",
    "\n",
    "    while L < q:   # as long as there are particles below q\n",
    "        x0 = X[np.random.randint(2,N)]\n",
    "\n",
    "        # Run a Markov chain on the lowermost sample\n",
    "        st = time.time()\n",
    "        bps = BPS(x0,dim,mean,cov,T,boundary = np.array([[0]*dim,np.sqrt(L)]))\n",
    "        _,process,_ = bps.simulation\n",
    "        ed = time.time()\n",
    "        #print('Markov chain takes',ed-st)\n",
    "        \n",
    "        x_star = [item for sublist in process.tail(1).values for item in sublist]\n",
    "        \n",
    "        #print('L',L)\n",
    "        #print('x_star',x_star,'with',Phi(x_star))\n",
    "\n",
    "        # Update X\n",
    "        X[0] = np.array(x_star)\n",
    "        phi=Phi(X)\n",
    "        s = np.argsort(phi)\n",
    "        phi,X = phi[s], X[s]\n",
    "        X = np.array(X)\n",
    "        \n",
    "        # Set adaptive boundary\n",
    "        L = phi[0]\n",
    "        m = m + 1\n",
    "        L_max = max(L,L_max)\n",
    "        all_L.append(L)\n",
    "\n",
    "    phat = (1.0-1.0/N)**(m-1)\n",
    "    return phat,m,all_L"
   ]
  },
  {
   "cell_type": "markdown",
   "metadata": {
    "heading_collapsed": true
   },
   "source": [
    "### Algorithm MH"
   ]
  },
  {
   "cell_type": "code",
   "execution_count": 14,
   "metadata": {
    "hidden": true
   },
   "outputs": [],
   "source": [
    "def p_estimation(N,T,q,target_fn,prop_fn,Phi,target_fn_kwargs,prop_fn_kwargs):\n",
    "\n",
    "    m=1\n",
    "    mean = target_fn_kwargs['mu']\n",
    "    cov = target_fn_kwargs['cov']\n",
    "    dim = mean.size\n",
    "    X=np.random.multivariate_normal(mean,cov,N)\n",
    "    phi=Phi(X)\n",
    "    s = np.argsort(phi)\n",
    "    phi,X = phi[s], X[s]\n",
    "    X = np.array(X)\n",
    "    L=phi[0]\n",
    "    L_max = phi[0]\n",
    "    all_L = [L]\n",
    "\n",
    "    while L < q:   # as long as there are particles below q\n",
    "        x0 = X[np.random.randint(2,N)]\n",
    "        \n",
    "        # Run a Markov chain on the lowermost sample\n",
    "        process,_,_ = mh_sampler(x0 = x0,\n",
    "               target_fn = target_fn,\n",
    "               prop_fn = prop_fn,\n",
    "               Phi = Phi,\n",
    "               L = L,\n",
    "               iterations = T,\n",
    "               target_fn_kwargs = target_fn_kwargs,\n",
    "               prop_fn_kwargs = prop_fn_kwargs)\n",
    "        \n",
    "        #print(process)\n",
    "        x_star = process[-1]\n",
    "\n",
    "        # Update X\n",
    "        X[0] = np.array(x_star)\n",
    "        phi=Phi(X)\n",
    "        s = np.argsort(phi)\n",
    "        phi,X = phi[s], X[s]\n",
    "        X = np.array(X)\n",
    "        #phi = np.array(phi)\n",
    "        \n",
    "        # Set adaptive boundary\n",
    "        L = phi[0]\n",
    "        m = m + 1\n",
    "        #L_max = max(L,L_max)\n",
    "        all_L.append(L)\n",
    "\n",
    "    phat = (1.0-1.0/N)**(m-1)\n",
    "    return phat,m,all_L"
   ]
  },
  {
   "cell_type": "markdown",
   "metadata": {
    "heading_collapsed": true
   },
   "source": [
    "## Computations"
   ]
  },
  {
   "cell_type": "code",
   "execution_count": 124,
   "metadata": {
    "hidden": true,
    "hide_input": false
   },
   "outputs": [],
   "source": [
    "columns = ['time_bs','time_mh']\n",
    "dimension = range(1,101)\n",
    "\n",
    "df_tc = pd.DataFrame(index = dimension, columns = columns)\n",
    "df_tc = df_tc.fillna(0)\n",
    "\n",
    "N = 100\n",
    "T = 20\n",
    "L = 1\n",
    "\n",
    "for i in range(0,len(dimension)):\n",
    "    dim = dimension[i]\n",
    "    x0 = np.array([2]*dim)\n",
    "    mean = np.array([0]*dim)\n",
    "    cov = np.eye(dim)\n",
    "    cov_prop = 2*np.eye(dim)\n",
    "    \n",
    "    # Time complexity bouncy sampler\n",
    "    start_bs = time.time()\n",
    "    bps = BPS(x0,dim,mean,cov,T,boundary = np.array([[0]*dim,L]))\n",
    "    _,process_bs,_ = bps.simulation\n",
    "    end_bs = time.time()\n",
    "\n",
    "    # Time complexity mh sampler\n",
    "    start_mh = time.time()\n",
    "    process_mh,_,_ = mh_sampler(x0 = x0, target_fn = normal,\n",
    "               prop_fn = gaussian_proposal, Phi = Phi_norm, L = L, iterations = T,\n",
    "               target_fn_kwargs = {'mu':mean,'cov':cov},\n",
    "               prop_fn_kwargs = {'cov':cov_prop})\n",
    "    end_mh = time.time()\n",
    "    \n",
    "    # Update results\n",
    "    df_tc.iloc[i,0] = end_bs-start_bs\n",
    "    df_tc.iloc[i,1] = end_mh-start_mh\n",
    "    "
   ]
  },
  {
   "cell_type": "code",
   "execution_count": 125,
   "metadata": {
    "hidden": true,
    "hide_input": false
   },
   "outputs": [
    {
     "data": {
      "image/png": "[encoded data removed]",
      "text/plain": [
       "<Figure size 432x288 with 1 Axes>"
      ]
     },
     "metadata": {
      "needs_background": "light"
     },
     "output_type": "display_data"
    }
   ],
   "source": [
    "plt.grid(True, which=\"both\")\n",
    "\n",
    "plt.plot(dimension,df_tc['time_bs'],'o',label = 'Bouncy sampler')\n",
    "plt.plot(dimension,df_tc['time_mh'],'o',label = 'MH-sampler')\n",
    "plt.title('Time complexity in [s] per dimension')\n",
    "plt.xlabel('Dimension')\n",
    "plt.ylabel('Runtime [s]')\n",
    "plt.legend(loc='best')\n",
    "#plt.yscale('log')\n",
    "\n",
    "plt.show()"
   ]
  },
  {
   "cell_type": "code",
   "execution_count": 107,
   "metadata": {
    "hidden": true
   },
   "outputs": [],
   "source": [
    "def p_estimates(K,dim):\n",
    "    N = 100\n",
    "    T = 20\n",
    "    q = 6*np.sqrt(2*dim)+dim\n",
    "    \n",
    "    cov_prop = 2*np.eye(dim)\n",
    "    mu_target = np.array([0]*dim)\n",
    "    cov_target = np.eye(dim)\n",
    "\n",
    "    columns = ['p_est_mh','p_est_bs','m_mh','m_bs','time_mh','time_bs']\n",
    "    #columns = ['p_est_bs','m_bs','time_bs']\n",
    "    #columns = ['p_est_mh','m_mh','time_mh']\n",
    "    index = range(1,K)\n",
    "\n",
    "    df_K = pd.DataFrame(index = index, columns = columns)\n",
    "\n",
    "    for k in range(0,K):\n",
    "        print('mh is busy, in cycle:',k)\n",
    "        start_mh = time.time()\n",
    "        p_mh,m_mh,L_mh = p_estimation(N,T,q,normal,gaussian_proposal,Phi = Phi_norm, \n",
    "                                target_fn_kwargs = {'mu':mu_target,'cov':cov_target},\n",
    "                                prop_fn_kwargs = {'cov':cov_prop})\n",
    "        end_mh = time.time()\n",
    "        \n",
    "        print('bs is busy')\n",
    "        start_bs = time.time()\n",
    "        p_bs,m_bs,L_bs = p_estimation_mnorm(N,T,q,mu_target,cov_target,Phi_norm)\n",
    "        end_bs = time.time()\n",
    "        \n",
    "        df_K.loc[k+1,'p_est_mh'] = p_mh\n",
    "        df_K.loc[k+1,'p_est_bs'] = p_bs\n",
    "        df_K.loc[k+1,'m_mh'] = m_mh\n",
    "        df_K.loc[k+1,'m_bs'] = m_bs\n",
    "        df_K.loc[k+1,'time_mh'] = end_mh - start_mh\n",
    "        df_K.loc[k+1,'time_bs'] = end_bs - start_bs\n",
    "    \n",
    "    return df_K"
   ]
  },
  {
   "cell_type": "code",
   "execution_count": 108,
   "metadata": {
    "hidden": true
   },
   "outputs": [],
   "source": [
    "all_estimates = {}"
   ]
  },
  {
   "cell_type": "code",
   "execution_count": 109,
   "metadata": {
    "hidden": true
   },
   "outputs": [
    {
     "name": "stdout",
     "output_type": "stream",
     "text": [
      "(2, 'in progress')\n",
      "('mh is busy, in cycle:', 0)\n",
      "bs is busy\n",
      "('mh is busy, in cycle:', 1)\n",
      "bs is busy\n",
      "('mh is busy, in cycle:', 2)\n",
      "bs is busy\n",
      "('mh is busy, in cycle:', 3)\n",
      "bs is busy\n",
      "('mh is busy, in cycle:', 4)\n",
      "bs is busy\n",
      "('mh is busy, in cycle:', 5)\n",
      "bs is busy\n",
      "('mh is busy, in cycle:', 6)\n",
      "bs is busy\n",
      "('mh is busy, in cycle:', 7)\n",
      "bs is busy\n",
      "('mh is busy, in cycle:', 8)\n",
      "bs is busy\n",
      "('mh is busy, in cycle:', 9)\n",
      "bs is busy\n",
      "(4, 'in progress')\n",
      "('mh is busy, in cycle:', 0)\n",
      "bs is busy\n",
      "('mh is busy, in cycle:', 1)\n",
      "bs is busy\n",
      "('mh is busy, in cycle:', 2)\n",
      "bs is busy\n",
      "('mh is busy, in cycle:', 3)\n",
      "bs is busy\n",
      "('mh is busy, in cycle:', 4)\n",
      "bs is busy\n",
      "('mh is busy, in cycle:', 5)\n",
      "bs is busy\n",
      "('mh is busy, in cycle:', 6)\n",
      "bs is busy\n",
      "('mh is busy, in cycle:', 7)\n",
      "bs is busy\n",
      "('mh is busy, in cycle:', 8)\n",
      "bs is busy\n",
      "('mh is busy, in cycle:', 9)\n",
      "bs is busy\n",
      "(8, 'in progress')\n",
      "('mh is busy, in cycle:', 0)\n",
      "bs is busy\n",
      "('mh is busy, in cycle:', 1)\n",
      "bs is busy\n",
      "('mh is busy, in cycle:', 2)\n",
      "bs is busy\n",
      "('mh is busy, in cycle:', 3)\n",
      "bs is busy\n",
      "('mh is busy, in cycle:', 4)\n",
      "bs is busy\n",
      "('mh is busy, in cycle:', 5)\n",
      "bs is busy\n",
      "('mh is busy, in cycle:', 6)\n",
      "bs is busy\n",
      "('mh is busy, in cycle:', 7)\n",
      "bs is busy\n",
      "('mh is busy, in cycle:', 8)\n",
      "bs is busy\n",
      "('mh is busy, in cycle:', 9)\n",
      "bs is busy\n",
      "(16, 'in progress')\n",
      "('mh is busy, in cycle:', 0)\n",
      "bs is busy\n",
      "('mh is busy, in cycle:', 1)\n",
      "bs is busy\n",
      "('mh is busy, in cycle:', 2)\n",
      "bs is busy\n",
      "('mh is busy, in cycle:', 3)\n",
      "bs is busy\n",
      "('mh is busy, in cycle:', 4)\n",
      "bs is busy\n",
      "('mh is busy, in cycle:', 5)\n",
      "bs is busy\n",
      "('mh is busy, in cycle:', 6)\n",
      "bs is busy\n",
      "('mh is busy, in cycle:', 7)\n",
      "bs is busy\n",
      "('mh is busy, in cycle:', 8)\n",
      "bs is busy\n",
      "('mh is busy, in cycle:', 9)\n",
      "bs is busy\n",
      "(32, 'in progress')\n",
      "('mh is busy, in cycle:', 0)\n",
      "bs is busy\n",
      "('mh is busy, in cycle:', 1)\n",
      "bs is busy\n",
      "('mh is busy, in cycle:', 2)\n",
      "bs is busy\n",
      "('mh is busy, in cycle:', 3)\n",
      "bs is busy\n",
      "('mh is busy, in cycle:', 4)\n",
      "bs is busy\n",
      "('mh is busy, in cycle:', 5)\n",
      "bs is busy\n",
      "('mh is busy, in cycle:', 6)\n",
      "bs is busy\n",
      "('mh is busy, in cycle:', 7)\n",
      "bs is busy\n",
      "('mh is busy, in cycle:', 8)\n",
      "bs is busy\n",
      "('mh is busy, in cycle:', 9)\n",
      "bs is busy\n",
      "(64, 'in progress')\n",
      "('mh is busy, in cycle:', 0)\n",
      "bs is busy\n",
      "('mh is busy, in cycle:', 1)\n",
      "bs is busy\n",
      "('mh is busy, in cycle:', 2)\n",
      "bs is busy\n",
      "('mh is busy, in cycle:', 3)\n",
      "bs is busy\n",
      "('mh is busy, in cycle:', 4)\n",
      "bs is busy\n",
      "('mh is busy, in cycle:', 5)\n",
      "bs is busy\n",
      "('mh is busy, in cycle:', 6)\n",
      "bs is busy\n",
      "('mh is busy, in cycle:', 7)\n",
      "bs is busy\n",
      "('mh is busy, in cycle:', 8)\n",
      "bs is busy\n",
      "('mh is busy, in cycle:', 9)\n",
      "bs is busy\n"
     ]
    }
   ],
   "source": [
    "groups = [2,4,8,16,32,64]#,256,512,1024]\n",
    "K = 10 # number of simulations\n",
    "\n",
    "for grp in groups:\n",
    "    #do some calcs to get a dataframe called 'df'\n",
    "    print(grp,'in progress')\n",
    "    df = p_estimates(K,grp)\n",
    "    all_estimates[grp] = df\n",
    "\n",
    "#all_estimates.to_csv('all_estimates',index = False)"
   ]
  },
  {
   "cell_type": "code",
   "execution_count": 110,
   "metadata": {
    "hidden": true
   },
   "outputs": [
    {
     "data": {
      "text/plain": [
       "{2:        p_est_mh     p_est_bs m_mh m_bs time_mh time_bs\n",
       " 1    0.00101331  0.000742052  687  718    1.75   11.92\n",
       " 2   0.000705684   0.00113177  723  676   1.824  11.371\n",
       " 3    0.00126406   0.00120211  665  670   1.682  11.314\n",
       " 4   0.000749548   0.00121426  717  669   1.793  11.139\n",
       " 5    0.00101331   0.00061306  687  737   1.804  12.263\n",
       " 6    0.00122652  0.000467362  668  764   1.696  12.558\n",
       " 7     0.0013699  0.000812302  657  709   1.646  11.715\n",
       " 8   0.000796138   0.00100318  711  688   1.801  11.297\n",
       " 9   0.000880311  0.000889203  701  700   1.793  11.852\n",
       " 10  0.000677878  0.000993148  727  689   1.839  11.392,\n",
       " 4:        p_est_mh     p_est_bs m_mh m_bs time_mh time_bs\n",
       " 1   0.000279929   0.00060693  815  738     2.1   13.74\n",
       " 2   0.000332086  0.000588903  798  741   2.063  14.214\n",
       " 3   0.000187265  0.000352727  855  792   2.189  15.202\n",
       " 4   0.000367196   0.00060693  788  738   2.002  13.814\n",
       " 5    0.00035629  0.000406019  791  778   2.017  14.803\n",
       " 6   0.000181703  0.000352727  858  792   2.179  14.826\n",
       " 7    0.00025572  0.000414263  824  776   2.152  14.571\n",
       " 8   0.000516775  0.000414263  754  776    1.93  14.436\n",
       " 9   0.000342251  0.000303366  795  807   2.039  15.283\n",
       " 10  0.000406019   0.00031581  778  803   1.974  15.365,\n",
       " 8:        p_est_mh     p_est_bs m_mh m_bs time_mh time_bs\n",
       " 1   0.000183538  0.000260912  857  822   2.255  18.755\n",
       " 2   6.78595e-05   0.00017107  956  864   2.534  19.661\n",
       " 3   7.96981e-05  0.000112163  940  906   2.464  20.631\n",
       " 4   0.000103498  0.000119135  914  900    2.42   20.52\n",
       " 5   4.82178e-05  0.000137135  990  886   2.718  20.039\n",
       " 6   0.000169359  0.000187265  865  855   2.272  19.436\n",
       " 7   8.55069e-05  0.000106666  933  911   2.472  20.638\n",
       " 8   0.000130414  8.46519e-05  891  934    2.43  21.405\n",
       " 9   4.63178e-05  0.000137135  994  886   2.613  20.262\n",
       " 10   0.00014276  0.000204993  882  846   2.324  19.877,\n",
       " 16:        p_est_mh     p_est_bs  m_mh  m_bs time_mh time_bs\n",
       " 1   1.53327e-05  4.23121e-05  1104  1003   3.055  31.576\n",
       " 2   4.87049e-05  3.25822e-05   989  1029   2.769  31.911\n",
       " 3   4.92489e-06  3.71298e-05  1217  1016   3.323  31.656\n",
       " 4   8.73354e-06  2.63827e-05  1160  1050   3.236  32.891\n",
       " 5   7.65576e-05  2.45904e-05   944  1057   2.599  33.361\n",
       " 6   2.11492e-05  3.71298e-05  1072  1016   2.942  32.386\n",
       " 7   1.64503e-05  3.19338e-05  1097  1031    3.04  32.256\n",
       " 8   8.47415e-06  1.66164e-05  1163  1096   3.226  34.074\n",
       " 9   1.61229e-05  5.01957e-05  1099   986   3.107  30.487\n",
       " 10  1.15719e-05  5.17322e-05  1132   983   3.085  30.611,\n",
       " 32:        p_est_mh     p_est_bs  m_mh  m_bs time_mh time_bs\n",
       " 1   1.29794e-09  1.20466e-05  2037  1128   6.276  57.505\n",
       " 2   3.75843e-07  8.64621e-06  1473  1161    4.55  58.337\n",
       " 3   3.13978e-08  8.38941e-06  1720  1164   5.291  58.842\n",
       " 4   1.50038e-13  1.01546e-05  2939  1145    9.08  57.565\n",
       " 5   1.13657e-07  7.66387e-06  1592  1173   4.946  58.677\n",
       " 6   4.12732e-10  6.26833e-06  2151  1193   6.715  59.771\n",
       " 7   4.16901e-10   1.3728e-05  2150  1115   6.833  55.629\n",
       " 8   5.24764e-09  8.64621e-06  1898  1161   5.873  58.099\n",
       " 9   1.48067e-10  9.46475e-06  2253  1152   6.959  57.655\n",
       " 10  1.64242e-13  4.77862e-06  2930  1220   9.017  60.826,\n",
       " 64:         p_est_mh     p_est_bs    m_mh  m_bs  time_mh  time_bs\n",
       " 1              0  2.03373e-06  107112  1305  915.264   233.23\n",
       " 2              0  1.69718e-06   79743  1323   707.26  237.942\n",
       " 3              0  2.16014e-06  205616  1299  1838.98  236.753\n",
       " 4   1.01173e-106  3.57045e-06   24285  1249  221.476  233.374\n",
       " 5   4.75613e-182  8.92031e-07   41543  1387  378.428  256.187\n",
       " 6   1.27693e-307  1.48931e-06   70312  1336  642.815   243.85\n",
       " 7              0  9.86343e-07  234045  1377  2278.91  277.419\n",
       " 8              0  1.15842e-06  115979  1361  1059.02  244.889\n",
       " 9              0  1.29383e-06   75645  1350  671.112  241.858\n",
       " 10   6.54633e-85  1.83927e-06   19288  1315  170.757  236.144}"
      ]
     },
     "execution_count": 110,
     "metadata": {},
     "output_type": "execute_result"
    }
   ],
   "source": [
    "all_estimates"
   ]
  },
  {
   "cell_type": "code",
   "execution_count": 74,
   "metadata": {
    "hidden": true
   },
   "outputs": [
    {
     "data": {
      "text/html": [
       "<div>\n",
       "<style scoped>\n",
       "    .dataframe tbody tr th:only-of-type {\n",
       "        vertical-align: middle;\n",
       "    }\n",
       "\n",
       "    .dataframe tbody tr th {\n",
       "        vertical-align: top;\n",
       "    }\n",
       "\n",
       "    .dataframe thead th {\n",
       "        text-align: right;\n",
       "    }\n",
       "</style>\n",
       "<table border=\"1\" class=\"dataframe\">\n",
       "  <thead>\n",
       "    <tr style=\"text-align: right;\">\n",
       "      <th></th>\n",
       "      <th>p_est_bs</th>\n",
       "      <th>m_bs</th>\n",
       "      <th>time_bs</th>\n",
       "    </tr>\n",
       "  </thead>\n",
       "  <tbody>\n",
       "    <tr>\n",
       "      <th>1</th>\n",
       "      <td>2.72479e-07</td>\n",
       "      <td>1505</td>\n",
       "      <td>1404.72</td>\n",
       "    </tr>\n",
       "    <tr>\n",
       "      <th>2</th>\n",
       "      <td>3.9126e-07</td>\n",
       "      <td>1469</td>\n",
       "      <td>1321.26</td>\n",
       "    </tr>\n",
       "    <tr>\n",
       "      <th>3</th>\n",
       "      <td>8.06736e-07</td>\n",
       "      <td>1397</td>\n",
       "      <td>1221.15</td>\n",
       "    </tr>\n",
       "    <tr>\n",
       "      <th>4</th>\n",
       "      <td>7.74948e-07</td>\n",
       "      <td>1401</td>\n",
       "      <td>1614.84</td>\n",
       "    </tr>\n",
       "    <tr>\n",
       "      <th>5</th>\n",
       "      <td>1.58356e-07</td>\n",
       "      <td>1559</td>\n",
       "      <td>1752.31</td>\n",
       "    </tr>\n",
       "    <tr>\n",
       "      <th>6</th>\n",
       "      <td>4.6416e-07</td>\n",
       "      <td>1452</td>\n",
       "      <td>1600.89</td>\n",
       "    </tr>\n",
       "    <tr>\n",
       "      <th>7</th>\n",
       "      <td>2.59125e-07</td>\n",
       "      <td>1510</td>\n",
       "      <td>1558.03</td>\n",
       "    </tr>\n",
       "    <tr>\n",
       "      <th>8</th>\n",
       "      <td>4.68848e-07</td>\n",
       "      <td>1451</td>\n",
       "      <td>1369.52</td>\n",
       "    </tr>\n",
       "    <tr>\n",
       "      <th>9</th>\n",
       "      <td>1.66516e-07</td>\n",
       "      <td>1554</td>\n",
       "      <td>1443.54</td>\n",
       "    </tr>\n",
       "    <tr>\n",
       "      <th>10</th>\n",
       "      <td>3.33142e-07</td>\n",
       "      <td>1485</td>\n",
       "      <td>1387.7</td>\n",
       "    </tr>\n",
       "  </tbody>\n",
       "</table>\n",
       "</div>"
      ],
      "text/plain": [
       "       p_est_bs  m_bs  time_bs\n",
       "1   2.72479e-07  1505  1404.72\n",
       "2    3.9126e-07  1469  1321.26\n",
       "3   8.06736e-07  1397  1221.15\n",
       "4   7.74948e-07  1401  1614.84\n",
       "5   1.58356e-07  1559  1752.31\n",
       "6    4.6416e-07  1452  1600.89\n",
       "7   2.59125e-07  1510  1558.03\n",
       "8   4.68848e-07  1451  1369.52\n",
       "9   1.66516e-07  1554  1443.54\n",
       "10  3.33142e-07  1485   1387.7"
      ]
     },
     "execution_count": 74,
     "metadata": {},
     "output_type": "execute_result"
    }
   ],
   "source": [
    "all_estimates[132]"
   ]
  },
  {
   "cell_type": "code",
   "execution_count": 111,
   "metadata": {
    "hidden": true
   },
   "outputs": [],
   "source": [
    "df = pd.read_csv ('C:\\Users\\mark\\Documents\\TU Delft\\Master thesis\\mse_refresh_rate.csv')"
   ]
  },
  {
   "cell_type": "code",
   "execution_count": 112,
   "metadata": {
    "hidden": true
   },
   "outputs": [],
   "source": [
    "df['p'] = chi2.sf(df['q'],df['dim'])"
   ]
  },
  {
   "cell_type": "code",
   "execution_count": 116,
   "metadata": {
    "hidden": true
   },
   "outputs": [
    {
     "data": {
      "text/html": [
       "<div>\n",
       "<style scoped>\n",
       "    .dataframe tbody tr th:only-of-type {\n",
       "        vertical-align: middle;\n",
       "    }\n",
       "\n",
       "    .dataframe tbody tr th {\n",
       "        vertical-align: top;\n",
       "    }\n",
       "\n",
       "    .dataframe thead th {\n",
       "        text-align: right;\n",
       "    }\n",
       "</style>\n",
       "<table border=\"1\" class=\"dataframe\">\n",
       "  <thead>\n",
       "    <tr style=\"text-align: right;\">\n",
       "      <th></th>\n",
       "      <th>dim</th>\n",
       "      <th>q</th>\n",
       "      <th>p_est_mh</th>\n",
       "      <th>p_est_bs</th>\n",
       "      <th>m_mh</th>\n",
       "      <th>m_bs</th>\n",
       "      <th>time_mh</th>\n",
       "      <th>time_bs</th>\n",
       "      <th>p</th>\n",
       "    </tr>\n",
       "  </thead>\n",
       "  <tbody>\n",
       "    <tr>\n",
       "      <th>0</th>\n",
       "      <td>2</td>\n",
       "      <td>14.0</td>\n",
       "      <td>0.000898</td>\n",
       "      <td>0.000872</td>\n",
       "      <td>699</td>\n",
       "      <td>702</td>\n",
       "      <td>1.783</td>\n",
       "      <td>11.636</td>\n",
       "      <td>0.000912</td>\n",
       "    </tr>\n",
       "    <tr>\n",
       "      <th>1</th>\n",
       "      <td>2</td>\n",
       "      <td>14.0</td>\n",
       "      <td>0.000846</td>\n",
       "      <td>0.001833</td>\n",
       "      <td>705</td>\n",
       "      <td>628</td>\n",
       "      <td>1.793</td>\n",
       "      <td>10.391</td>\n",
       "      <td>0.000912</td>\n",
       "    </tr>\n",
       "    <tr>\n",
       "      <th>2</th>\n",
       "      <td>2</td>\n",
       "      <td>14.0</td>\n",
       "      <td>0.001227</td>\n",
       "      <td>0.000658</td>\n",
       "      <td>668</td>\n",
       "      <td>730</td>\n",
       "      <td>1.713</td>\n",
       "      <td>12.358</td>\n",
       "      <td>0.000912</td>\n",
       "    </tr>\n",
       "    <tr>\n",
       "      <th>3</th>\n",
       "      <td>2</td>\n",
       "      <td>14.0</td>\n",
       "      <td>0.000522</td>\n",
       "      <td>0.000907</td>\n",
       "      <td>753</td>\n",
       "      <td>698</td>\n",
       "      <td>1.908</td>\n",
       "      <td>11.491</td>\n",
       "      <td>0.000912</td>\n",
       "    </tr>\n",
       "    <tr>\n",
       "      <th>4</th>\n",
       "      <td>2</td>\n",
       "      <td>14.0</td>\n",
       "      <td>0.000658</td>\n",
       "      <td>0.000854</td>\n",
       "      <td>730</td>\n",
       "      <td>704</td>\n",
       "      <td>1.865</td>\n",
       "      <td>11.630</td>\n",
       "      <td>0.000912</td>\n",
       "    </tr>\n",
       "  </tbody>\n",
       "</table>\n",
       "</div>"
      ],
      "text/plain": [
       "   dim     q  p_est_mh  p_est_bs  m_mh  m_bs  time_mh  time_bs         p\n",
       "0    2  14.0  0.000898  0.000872   699   702    1.783   11.636  0.000912\n",
       "1    2  14.0  0.000846  0.001833   705   628    1.793   10.391  0.000912\n",
       "2    2  14.0  0.001227  0.000658   668   730    1.713   12.358  0.000912\n",
       "3    2  14.0  0.000522  0.000907   753   698    1.908   11.491  0.000912\n",
       "4    2  14.0  0.000658  0.000854   730   704    1.865   11.630  0.000912"
      ]
     },
     "execution_count": 116,
     "metadata": {},
     "output_type": "execute_result"
    }
   ],
   "source": [
    "df.head()"
   ]
  },
  {
   "cell_type": "code",
   "execution_count": 115,
   "metadata": {
    "hidden": true
   },
   "outputs": [],
   "source": [
    "special_df = df.head(119)"
   ]
  },
  {
   "cell_type": "code",
   "execution_count": 117,
   "metadata": {
    "hidden": true
   },
   "outputs": [],
   "source": [
    "new_df = df.groupby(['dim']).mean()"
   ]
  },
  {
   "cell_type": "code",
   "execution_count": 118,
   "metadata": {
    "hidden": true,
    "hide_input": false
   },
   "outputs": [
    {
     "data": {
      "image/png": "[encoded data removed]",
      "text/plain": [
       "<Figure size 432x288 with 1 Axes>"
      ]
     },
     "metadata": {
      "needs_background": "light"
     },
     "output_type": "display_data"
    }
   ],
   "source": [
    "dimension = [1,2,4,8,16,32,64]\n",
    "plt.plot(dimension,new_df['p_est_bs'],'o',label = 'Bouncy sampler')\n",
    "plt.plot(dimension,new_df['p_est_mh'],'o',label = 'MH-sampler')\n",
    "plt.plot(dimension,new_df['p'],'x',label = 'True value')\n",
    "plt.legend(loc='best')\n",
    "plt.xscale('log')\n",
    "plt.yscale('log')\n",
    "\n",
    "plt.xlabel('Dimension')\n",
    "plt.ylabel('p')\n",
    "\n",
    "plt.show()"
   ]
  },
  {
   "cell_type": "code",
   "execution_count": 92,
   "metadata": {
    "hidden": true
   },
   "outputs": [
    {
     "data": {
      "image/png": "[encoded data removed]",
      "text/plain": [
       "<Figure size 432x288 with 2 Axes>"
      ]
     },
     "metadata": {
      "needs_background": "light"
     },
     "output_type": "display_data"
    }
   ],
   "source": [
    "df.boxplot(column=['p_est_bs','p_est_mh'], by='dim')\n",
    "plt.title('')\n",
    "plt.yscale('log')\n",
    "plt.show()"
   ]
  },
  {
   "cell_type": "code",
   "execution_count": 93,
   "metadata": {
    "hidden": true
   },
   "outputs": [],
   "source": [
    "df_melt = special_df.melt(id_vars = 'dim',\n",
    "                  value_vars = ['p_est_bs',\n",
    "                                'p_est_mh'],\n",
    "                  var_name = 'columns')"
   ]
  },
  {
   "cell_type": "code",
   "execution_count": 95,
   "metadata": {
    "hidden": true
   },
   "outputs": [
    {
     "data": {
      "image/png": "[encoded data removed]",
      "text/plain": [
       "<Figure size 432x288 with 1 Axes>"
      ]
     },
     "metadata": {
      "needs_background": "light"
     },
     "output_type": "display_data"
    }
   ],
   "source": [
    "g = sns.boxplot(data = df_melt,\n",
    "                hue = 'columns', # different colors for different 'cls'\n",
    "                x = 'dim',\n",
    "                y = 'value'\n",
    "                )\n",
    "#g.figure.get_axes()[0].set_yscale('log')\n",
    "#sns.plt.title('Boxplot grouped by cls') # You can change the title here\n",
    "plt.show()"
   ]
  },
  {
   "cell_type": "code",
   "execution_count": 75,
   "metadata": {
    "hidden": true
   },
   "outputs": [],
   "source": [
    "columns = ['acc_rate']\n",
    "dimension = range(1,101)\n",
    "\n",
    "df_acc = pd.DataFrame(index = dimension, columns = columns)\n",
    "df_acc = df_acc.fillna(0)\n",
    "\n",
    "N = 100\n",
    "T = 20\n",
    "L = 1\n",
    "\n",
    "for i in range(0,len(dimension)):\n",
    "    dim = dimension[i]\n",
    "    x0 = np.array([2]*dim)\n",
    "    mean = np.array([0]*dim)\n",
    "    cov = np.eye(dim)\n",
    "    cov_prop = 2*np.eye(dim)\n",
    "\n",
    "    # Acceptance rate mh sampler\n",
    "    _,accept_rate,_ = mh_sampler(x0 = x0, target_fn = normal,\n",
    "               prop_fn = gaussian_proposal, Phi = Phi_norm, L = L, iterations = T,\n",
    "               target_fn_kwargs = {'mu':mean,'cov':cov},\n",
    "               prop_fn_kwargs = {'cov':cov_prop})\n",
    "    \n",
    "    # Update results\n",
    "    df_acc.iloc[i,0] = accept_rate[-1]"
   ]
  },
  {
   "cell_type": "code",
   "execution_count": 76,
   "metadata": {
    "hidden": true
   },
   "outputs": [
    {
     "data": {
      "image/png": "[encoded data removed]",
      "text/plain": [
       "<Figure size 432x288 with 1 Axes>"
      ]
     },
     "metadata": {
      "needs_background": "light"
     },
     "output_type": "display_data"
    }
   ],
   "source": [
    "dimension = range(1,101)\n",
    "\n",
    "plt.grid(True, which=\"both\")\n",
    "\n",
    "plt.plot(dimension,df_acc['acc_rate'],'o')\n",
    "plt.title('Acceptance rate')\n",
    "plt.xlabel('Dimension')\n",
    "plt.ylabel('Acceptance rate')\n",
    "\n",
    "plt.show()"
   ]
  },
  {
   "cell_type": "code",
   "execution_count": 96,
   "metadata": {
    "hidden": true
   },
   "outputs": [],
   "source": [
    "def VAR(x):\n",
    "    y = np.mean(x)\n",
    "    return np.mean((x-y)**2)"
   ]
  },
  {
   "cell_type": "code",
   "execution_count": 97,
   "metadata": {
    "hidden": true
   },
   "outputs": [],
   "source": [
    "def ESS_per_s(df):\n",
    "    D = df['dim'].drop_duplicates()\n",
    "    p = chi2.sf(6*np.sqrt(2*np.array(D))+np.array(D),df=D)\n",
    "    est = df.groupby(['dim']).mean()[['p_est_mh','p_est_bs']]\n",
    "    var = df.groupby(['dim']).apply(lambda grp: VAR(grp[['p_est_mh','p_est_bs']]))\n",
    "    cpu_time = df.groupby(['dim']).mean()[['time_mh','time_bs']]\n",
    "    n_eff = ((p[:,None]*(1-p[:,None]))/((est.values-p[:,None])**2+var))\n",
    "    print(n_eff)\n",
    "    return n_eff/cpu_time.values"
   ]
  },
  {
   "cell_type": "code",
   "execution_count": 119,
   "metadata": {
    "hidden": true
   },
   "outputs": [
    {
     "name": "stdout",
     "output_type": "stream",
     "text": [
      "         p_est_mh      p_est_bs\n",
      "dim                            \n",
      "2    1.356835e+04  6.748607e+03\n",
      "4    4.814355e+04  1.490576e+04\n",
      "8    5.056607e+04  1.578611e+04\n",
      "16   6.808159e+04  7.427094e+04\n",
      "32   1.884640e+05  1.793927e+05\n",
      "64   7.818797e+05  1.848162e+06\n",
      "128  3.081985e+06  6.006138e+06\n"
     ]
    }
   ],
   "source": [
    "ESS = ESS_per_s(df)"
   ]
  },
  {
   "cell_type": "code",
   "execution_count": 120,
   "metadata": {
    "hidden": true
   },
   "outputs": [],
   "source": [
    "ESS_s_bs = ESS['p_est_bs']\n",
    "ESS_s_mh = ESS['p_est_mh']"
   ]
  },
  {
   "cell_type": "code",
   "execution_count": 138,
   "metadata": {
    "hidden": true,
    "hide_input": false
   },
   "outputs": [
    {
     "data": {
      "image/png": "[encoded data removed]",
      "text/plain": [
       "<Figure size 432x288 with 1 Axes>"
      ]
     },
     "metadata": {
      "needs_background": "light"
     },
     "output_type": "display_data"
    }
   ],
   "source": [
    "plt.plot(ESS_s_bs,'o',label = 'Bouncy sampler')\n",
    "plt.plot(ESS_s_mh,'o',label = 'MH-sampler')\n",
    "plt.legend(loc='upper left', bbox_to_anchor=(1,1), ncol=1)\n",
    "plt.yscale('log')\n",
    "plt.xscale('log')\n",
    "\n",
    "plt.xlabel('Dimension')\n",
    "plt.ylabel('ESS per s')\n",
    "plt.xticks(ESS_s_bs.index,('2', '4','8','16','32','64','132'))\n",
    "\n",
    "\n",
    "plt.show()"
   ]
  },
  {
   "cell_type": "code",
   "execution_count": 19,
   "metadata": {
    "hidden": true
   },
   "outputs": [
    {
     "data": {
      "image/png": "[encoded data removed]",
      "text/plain": [
       "<Figure size 432x288 with 1 Axes>"
      ]
     },
     "metadata": {
      "needs_background": "light"
     },
     "output_type": "display_data"
    }
   ],
   "source": [
    "np.random.seed(134304)\n",
    "%matplotlib inline\n",
    "bps = BPS([1,1],2,np.array([0,0]),np.linalg.inv(np.array([[1,0],[0,1]])),5000,boundary = np.array([[0,0],0]))\n",
    "bps.plot_path()"
   ]
  },
  {
   "cell_type": "code",
   "execution_count": 127,
   "metadata": {
    "hidden": true
   },
   "outputs": [],
   "source": [
    "def influence_of_T(K,dim,T):\n",
    "    N = 100\n",
    "    q = 6*np.sqrt(2*dim)+dim\n",
    "    runtime = T\n",
    "    \n",
    "    mu_target = np.array([0]*dim)\n",
    "    cov_target = np.eye(dim)\n",
    "    cov_prop = 2*np.eye(dim)\n",
    "\n",
    "    columns = ['T','p_est_bs','m_bs','time_bs']\n",
    "    #columns = ['T','p_est_mh','m_mh','time_mh']\n",
    "    index = range(0,K)\n",
    "\n",
    "    df_T = pd.DataFrame(index = index, columns = columns)\n",
    "\n",
    "    for k in range(0,K):\n",
    "        \n",
    "        #print('mh is busy')\n",
    "        #start_mh = time.time()\n",
    "        #p_mh,m_mh = p_estimation(N,T,q,normal,gaussian_proposal,Phi = Phi_norm, \n",
    "        #                        target_fn_kwargs = {'mu':mu_target,'cov':cov_target},\n",
    "        #                        prop_fn_kwargs = {'cov':cov_prop})\n",
    "        #end_mh = time.time()\n",
    "        print('bs is busy')\n",
    "        start_bs = time.time()\n",
    "        p_bs,m_bs,L_bs = p_estimation_mnorm(N,T,q,mu_target,cov_target,Phi_norm)\n",
    "        end_bs = time.time()\n",
    "        \n",
    "        df_T.loc[k,'T'] = runtime\n",
    "        df_T.loc[k,'p_est_bs'] = p_bs\n",
    "        df_T.loc[k,'m_bs'] = m_bs\n",
    "        df_T.loc[k,'time_bs'] = end_bs - start_bs\n",
    "        #df_T.loc[k,'p_est_mh'] = p_mh\n",
    "        #df_T.loc[k,'m_mh'] = m_mh\n",
    "        #df_T.loc[k,'time_mh'] = end_mh - start_mh\n",
    "    \n",
    "    return df_T"
   ]
  },
  {
   "cell_type": "code",
   "execution_count": 248,
   "metadata": {
    "hidden": true
   },
   "outputs": [
    {
     "name": "stdout",
     "output_type": "stream",
     "text": [
      "(1000, 'in progress')\n",
      "bs is busy\n",
      "bs is busy\n",
      "bs is busy\n",
      "bs is busy\n",
      "bs is busy\n",
      "bs is busy\n",
      "bs is busy\n",
      "bs is busy\n",
      "bs is busy\n",
      "bs is busy\n",
      "bs is busy\n",
      "bs is busy\n",
      "bs is busy\n",
      "bs is busy\n",
      "bs is busy\n"
     ]
    }
   ],
   "source": [
    "T = [1000]#,1000]#,5000]\n",
    "K = 15 # number of simulations\n",
    "dim = 4 # dimension\n",
    "columns = ['T','p_est_bs','m_bs','time_bs']\n",
    "#columns = ['T','p_est_mh','m_mh','time_mh']\n",
    "index = range(0)\n",
    "dfT = pd.DataFrame(index = index, columns = columns)\n",
    "\n",
    "for t in T:\n",
    "    #do some calcs to get a dataframe called 'df'\n",
    "    print(t,'in progress')\n",
    "    df_new = influence_of_T(K,dim,t)\n",
    "    dfT = pd.concat([dfT, df_new], ignore_index=True,sort = True)"
   ]
  },
  {
   "cell_type": "code",
   "execution_count": 249,
   "metadata": {
    "hidden": true
   },
   "outputs": [
    {
     "data": {
      "text/html": [
       "<div>\n",
       "<style scoped>\n",
       "    .dataframe tbody tr th:only-of-type {\n",
       "        vertical-align: middle;\n",
       "    }\n",
       "\n",
       "    .dataframe tbody tr th {\n",
       "        vertical-align: top;\n",
       "    }\n",
       "\n",
       "    .dataframe thead th {\n",
       "        text-align: right;\n",
       "    }\n",
       "</style>\n",
       "<table border=\"1\" class=\"dataframe\">\n",
       "  <thead>\n",
       "    <tr style=\"text-align: right;\">\n",
       "      <th></th>\n",
       "      <th>T</th>\n",
       "      <th>m_bs</th>\n",
       "      <th>p_est_bs</th>\n",
       "      <th>time_bs</th>\n",
       "    </tr>\n",
       "  </thead>\n",
       "  <tbody>\n",
       "    <tr>\n",
       "      <th>0</th>\n",
       "      <td>1000</td>\n",
       "      <td>777</td>\n",
       "      <td>0.00041012</td>\n",
       "      <td>1395.18</td>\n",
       "    </tr>\n",
       "    <tr>\n",
       "      <th>1</th>\n",
       "      <td>1000</td>\n",
       "      <td>800</td>\n",
       "      <td>0.000325477</td>\n",
       "      <td>1440.7</td>\n",
       "    </tr>\n",
       "    <tr>\n",
       "      <th>2</th>\n",
       "      <td>1000</td>\n",
       "      <td>743</td>\n",
       "      <td>0.000577184</td>\n",
       "      <td>1334.54</td>\n",
       "    </tr>\n",
       "    <tr>\n",
       "      <th>3</th>\n",
       "      <td>1000</td>\n",
       "      <td>808</td>\n",
       "      <td>0.000300332</td>\n",
       "      <td>1448.11</td>\n",
       "    </tr>\n",
       "    <tr>\n",
       "      <th>4</th>\n",
       "      <td>1000</td>\n",
       "      <td>783</td>\n",
       "      <td>0.00038612</td>\n",
       "      <td>1409.51</td>\n",
       "    </tr>\n",
       "    <tr>\n",
       "      <th>5</th>\n",
       "      <td>1000</td>\n",
       "      <td>756</td>\n",
       "      <td>0.000506491</td>\n",
       "      <td>1348.88</td>\n",
       "    </tr>\n",
       "    <tr>\n",
       "      <th>6</th>\n",
       "      <td>1000</td>\n",
       "      <td>776</td>\n",
       "      <td>0.000414263</td>\n",
       "      <td>1394.13</td>\n",
       "    </tr>\n",
       "    <tr>\n",
       "      <th>7</th>\n",
       "      <td>1000</td>\n",
       "      <td>732</td>\n",
       "      <td>0.000644655</td>\n",
       "      <td>1311.19</td>\n",
       "    </tr>\n",
       "    <tr>\n",
       "      <th>8</th>\n",
       "      <td>1000</td>\n",
       "      <td>789</td>\n",
       "      <td>0.000363524</td>\n",
       "      <td>1398.99</td>\n",
       "    </tr>\n",
       "    <tr>\n",
       "      <th>9</th>\n",
       "      <td>1000</td>\n",
       "      <td>832</td>\n",
       "      <td>0.000235965</td>\n",
       "      <td>1493.73</td>\n",
       "    </tr>\n",
       "    <tr>\n",
       "      <th>10</th>\n",
       "      <td>1000</td>\n",
       "      <td>845</td>\n",
       "      <td>0.000207064</td>\n",
       "      <td>1542.66</td>\n",
       "    </tr>\n",
       "    <tr>\n",
       "      <th>11</th>\n",
       "      <td>1000</td>\n",
       "      <td>785</td>\n",
       "      <td>0.000378436</td>\n",
       "      <td>1401.8</td>\n",
       "    </tr>\n",
       "    <tr>\n",
       "      <th>12</th>\n",
       "      <td>1000</td>\n",
       "      <td>801</td>\n",
       "      <td>0.000322222</td>\n",
       "      <td>1429.57</td>\n",
       "    </tr>\n",
       "    <tr>\n",
       "      <th>13</th>\n",
       "      <td>1000</td>\n",
       "      <td>779</td>\n",
       "      <td>0.000401959</td>\n",
       "      <td>1402.16</td>\n",
       "    </tr>\n",
       "    <tr>\n",
       "      <th>14</th>\n",
       "      <td>1000</td>\n",
       "      <td>809</td>\n",
       "      <td>0.000297329</td>\n",
       "      <td>1442.99</td>\n",
       "    </tr>\n",
       "  </tbody>\n",
       "</table>\n",
       "</div>"
      ],
      "text/plain": [
       "       T m_bs     p_est_bs  time_bs\n",
       "0   1000  777   0.00041012  1395.18\n",
       "1   1000  800  0.000325477   1440.7\n",
       "2   1000  743  0.000577184  1334.54\n",
       "3   1000  808  0.000300332  1448.11\n",
       "4   1000  783   0.00038612  1409.51\n",
       "5   1000  756  0.000506491  1348.88\n",
       "6   1000  776  0.000414263  1394.13\n",
       "7   1000  732  0.000644655  1311.19\n",
       "8   1000  789  0.000363524  1398.99\n",
       "9   1000  832  0.000235965  1493.73\n",
       "10  1000  845  0.000207064  1542.66\n",
       "11  1000  785  0.000378436   1401.8\n",
       "12  1000  801  0.000322222  1429.57\n",
       "13  1000  779  0.000401959  1402.16\n",
       "14  1000  809  0.000297329  1442.99"
      ]
     },
     "execution_count": 249,
     "metadata": {},
     "output_type": "execute_result"
    }
   ],
   "source": [
    "dfT"
   ]
  },
  {
   "cell_type": "code",
   "execution_count": 70,
   "metadata": {
    "hidden": true
   },
   "outputs": [
    {
     "data": {
      "text/plain": [
       "0.00032095326442779283"
      ]
     },
     "execution_count": 70,
     "metadata": {},
     "output_type": "execute_result"
    }
   ],
   "source": [
    "chi2.sf(6*np.sqrt(2*4)+4,4)"
   ]
  },
  {
   "cell_type": "code",
   "execution_count": 250,
   "metadata": {
    "hidden": true
   },
   "outputs": [],
   "source": [
    "dfTime_bs = pd.read_csv ('C:\\Users\\mark\\Documents\\TU Delft\\Master thesis\\Notebooks\\dfTime_bs.csv')"
   ]
  },
  {
   "cell_type": "code",
   "execution_count": 25,
   "metadata": {
    "hidden": true
   },
   "outputs": [
    {
     "data": {
      "text/html": [
       "<div>\n",
       "<style scoped>\n",
       "    .dataframe tbody tr th:only-of-type {\n",
       "        vertical-align: middle;\n",
       "    }\n",
       "\n",
       "    .dataframe tbody tr th {\n",
       "        vertical-align: top;\n",
       "    }\n",
       "\n",
       "    .dataframe thead th {\n",
       "        text-align: right;\n",
       "    }\n",
       "</style>\n",
       "<table border=\"1\" class=\"dataframe\">\n",
       "  <thead>\n",
       "    <tr style=\"text-align: right;\">\n",
       "      <th></th>\n",
       "      <th>T</th>\n",
       "      <th>m_bs</th>\n",
       "      <th>p_est_bs</th>\n",
       "      <th>time_bs</th>\n",
       "    </tr>\n",
       "  </thead>\n",
       "  <tbody>\n",
       "    <tr>\n",
       "      <th>0</th>\n",
       "      <td>20000</td>\n",
       "      <td>685</td>\n",
       "      <td>0.00103389</td>\n",
       "      <td>4783.31</td>\n",
       "    </tr>\n",
       "    <tr>\n",
       "      <th>1</th>\n",
       "      <td>20000</td>\n",
       "      <td>749</td>\n",
       "      <td>0.000543407</td>\n",
       "      <td>5262.59</td>\n",
       "    </tr>\n",
       "    <tr>\n",
       "      <th>2</th>\n",
       "      <td>20000</td>\n",
       "      <td>721</td>\n",
       "      <td>0.000720013</td>\n",
       "      <td>5038.87</td>\n",
       "    </tr>\n",
       "    <tr>\n",
       "      <th>3</th>\n",
       "      <td>20000</td>\n",
       "      <td>701</td>\n",
       "      <td>0.000880311</td>\n",
       "      <td>4882.93</td>\n",
       "    </tr>\n",
       "    <tr>\n",
       "      <th>4</th>\n",
       "      <td>20000</td>\n",
       "      <td>722</td>\n",
       "      <td>0.000712812</td>\n",
       "      <td>5074.32</td>\n",
       "    </tr>\n",
       "  </tbody>\n",
       "</table>\n",
       "</div>"
      ],
      "text/plain": [
       "       T m_bs     p_est_bs  time_bs\n",
       "0  20000  685   0.00103389  4783.31\n",
       "1  20000  749  0.000543407  5262.59\n",
       "2  20000  721  0.000720013  5038.87\n",
       "3  20000  701  0.000880311  4882.93\n",
       "4  20000  722  0.000712812  5074.32"
      ]
     },
     "execution_count": 25,
     "metadata": {},
     "output_type": "execute_result"
    }
   ],
   "source": [
    "dfT"
   ]
  },
  {
   "cell_type": "code",
   "execution_count": 251,
   "metadata": {
    "hidden": true
   },
   "outputs": [
    {
     "data": {
      "image/png": "[encoded data removed]",
      "text/plain": [
       "<Figure size 432x288 with 1 Axes>"
      ]
     },
     "metadata": {
      "needs_background": "light"
     },
     "output_type": "display_data"
    }
   ],
   "source": [
    "dfTime_bs.boxplot(column='p_est_bs', by='T')\n",
    "plt.axhline(y=chi2.sf(6*np.sqrt(2*4)+4,4), color='r', linestyle='-')\n",
    "plt.title('')\n",
    "plt.yscale('log')\n",
    "plt.show()"
   ]
  },
  {
   "cell_type": "code",
   "execution_count": 252,
   "metadata": {
    "hidden": true
   },
   "outputs": [],
   "source": [
    "def influence_of_N(K,dim,N):\n",
    "    q = 6*np.sqrt(2*dim)+dim\n",
    "    T = 20\n",
    "    \n",
    "    mu_target = np.array([0]*dim)\n",
    "    cov_target = np.eye(dim)\n",
    "\n",
    "    columns = ['N','p_est_bs','m_bs','time_bs']\n",
    "    index = range(0,K)\n",
    "\n",
    "    df_N = pd.DataFrame(index = index, columns = columns)\n",
    "\n",
    "    for k in range(0,K):\n",
    "        \n",
    "        print('bs is busy',k)\n",
    "        start_bs = time.time()\n",
    "        p_bs,m_bs,L_bs = p_estimation_mnorm(N,T,q,mu_target,cov_target,Phi_norm)\n",
    "        end_bs = time.time()\n",
    "        \n",
    "        df_N.loc[k,'N'] = N\n",
    "        df_N.loc[k,'p_est_bs'] = p_bs\n",
    "        df_N.loc[k,'m_bs'] = m_bs\n",
    "        df_N.loc[k,'time_bs'] = end_bs - start_bs\n",
    "    return df_N"
   ]
  },
  {
   "cell_type": "code",
   "execution_count": null,
   "metadata": {
    "hidden": true
   },
   "outputs": [
    {
     "name": "stdout",
     "output_type": "stream",
     "text": [
      "(10, 'in progress')\n",
      "('bs is busy', 0)\n",
      "('bs is busy', 1)\n",
      "('bs is busy', 2)\n",
      "('bs is busy', 3)\n",
      "('bs is busy', 4)\n",
      "('bs is busy', 5)\n",
      "('bs is busy', 6)\n",
      "('bs is busy', 7)\n",
      "('bs is busy', 8)\n",
      "('bs is busy', 9)\n",
      "('bs is busy', 10)\n",
      "('bs is busy', 11)\n",
      "('bs is busy', 12)\n",
      "('bs is busy', 13)\n",
      "('bs is busy', 14)\n",
      "('bs is busy', 15)\n",
      "('bs is busy', 16)\n",
      "('bs is busy', 17)\n",
      "('bs is busy', 18)\n",
      "('bs is busy', 19)\n",
      "('bs is busy', 20)\n",
      "('bs is busy', 21)\n",
      "('bs is busy', 22)\n",
      "('bs is busy', 23)\n",
      "('bs is busy', 24)\n",
      "(100, 'in progress')\n",
      "('bs is busy', 0)\n",
      "('bs is busy', 1)\n",
      "('bs is busy', 2)\n",
      "('bs is busy', 3)\n",
      "('bs is busy', 4)\n",
      "('bs is busy', 5)\n",
      "('bs is busy', 6)\n",
      "('bs is busy', 7)\n",
      "('bs is busy', 8)\n",
      "('bs is busy', 9)\n",
      "('bs is busy', 10)\n",
      "('bs is busy', 11)\n",
      "('bs is busy', 12)\n",
      "('bs is busy', 13)\n",
      "('bs is busy', 14)\n",
      "('bs is busy', 15)\n",
      "('bs is busy', 16)\n",
      "('bs is busy', 17)\n",
      "('bs is busy', 18)\n",
      "('bs is busy', 19)\n",
      "('bs is busy', 20)\n",
      "('bs is busy', 21)\n",
      "('bs is busy', 22)\n",
      "('bs is busy', 23)\n",
      "('bs is busy', 24)\n",
      "(200, 'in progress')\n",
      "('bs is busy', 0)\n",
      "('bs is busy', 1)\n",
      "('bs is busy', 2)\n",
      "('bs is busy', 3)\n",
      "('bs is busy', 4)\n",
      "('bs is busy', 5)\n",
      "('bs is busy', 6)\n",
      "('bs is busy', 7)\n",
      "('bs is busy', 8)\n",
      "('bs is busy', 9)\n",
      "('bs is busy', 10)\n",
      "('bs is busy', 11)\n",
      "('bs is busy', 12)\n",
      "('bs is busy', 13)\n",
      "('bs is busy', 14)\n",
      "('bs is busy', 15)\n",
      "('bs is busy', 16)\n",
      "('bs is busy', 17)\n",
      "('bs is busy', 18)\n",
      "('bs is busy', 19)\n",
      "('bs is busy', 20)\n",
      "('bs is busy', 21)\n",
      "('bs is busy', 22)\n",
      "('bs is busy', 23)\n",
      "('bs is busy', 24)\n",
      "(500, 'in progress')\n",
      "('bs is busy', 0)\n",
      "('bs is busy', 1)\n",
      "('bs is busy', 2)\n",
      "('bs is busy', 3)\n",
      "('bs is busy', 4)\n",
      "('bs is busy', 5)\n",
      "('bs is busy', 6)\n",
      "('bs is busy', 7)\n",
      "('bs is busy', 8)\n",
      "('bs is busy', 9)\n",
      "('bs is busy', 10)\n",
      "('bs is busy', 11)\n",
      "('bs is busy', 12)\n",
      "('bs is busy', 13)\n",
      "('bs is busy', 14)\n",
      "('bs is busy', 15)\n",
      "('bs is busy', 16)\n",
      "('bs is busy', 17)\n",
      "('bs is busy', 18)\n",
      "('bs is busy', 19)\n",
      "('bs is busy', 20)\n",
      "('bs is busy', 21)\n",
      "('bs is busy', 22)\n",
      "('bs is busy', 23)\n",
      "('bs is busy', 24)\n",
      "(1000, 'in progress')\n",
      "('bs is busy', 0)\n",
      "('bs is busy', 1)\n",
      "('bs is busy', 2)\n",
      "('bs is busy', 3)\n",
      "('bs is busy', 4)\n",
      "('bs is busy', 5)\n",
      "('bs is busy', 6)\n",
      "('bs is busy', 7)\n",
      "('bs is busy', 8)\n",
      "('bs is busy', 9)\n",
      "('bs is busy', 10)\n",
      "('bs is busy', 11)\n"
     ]
    }
   ],
   "source": [
    "N = [10,100,200,500,1000]\n",
    "K = 25 # number of simulations\n",
    "dim = 4 # dimension\n",
    "columns = ['N','p_est_bs','m_bs','time_bs']\n",
    "index = range(0)\n",
    "dfN = pd.DataFrame(index = index, columns = columns)\n",
    "\n",
    "for n in N:\n",
    "    #do some calcs to get a dataframe called 'df'\n",
    "    print(n,'in progress')\n",
    "    df_new = influence_of_N(K,dim,n)\n",
    "    dfN = pd.concat([dfN, df_new], ignore_index=True,sort = True)"
   ]
  },
  {
   "cell_type": "code",
   "execution_count": 254,
   "metadata": {
    "hidden": true
   },
   "outputs": [
    {
     "data": {
      "image/png": "[encoded data removed]",
      "text/plain": [
       "<Figure size 432x288 with 1 Axes>"
      ]
     },
     "metadata": {
      "needs_background": "light"
     },
     "output_type": "display_data"
    }
   ],
   "source": [
    "dfN.boxplot(column='p_est_bs', by='N')\n",
    "plt.axhline(y=chi2.sf(6*np.sqrt(2*4)+4,4), color='r', linestyle='-')\n",
    "plt.title('')\n",
    "plt.yscale('log')\n",
    "plt.show()"
   ]
  },
  {
   "cell_type": "markdown",
   "metadata": {
    "hidden": true
   },
   "source": [
    "### Conditional distribution and convergence"
   ]
  },
  {
   "cell_type": "code",
   "execution_count": 34,
   "metadata": {
    "hidden": true
   },
   "outputs": [
    {
     "data": {
      "image/png": "[encoded data removed]",
      "text/plain": [
       "<Figure size 432x288 with 1 Axes>"
      ]
     },
     "metadata": {
      "needs_background": "light"
     },
     "output_type": "display_data"
    }
   ],
   "source": [
    "np.random.seed(134304)\n",
    "%matplotlib inline\n",
    "bps = BPS([1,4],2,np.array([0,0]),np.linalg.inv(np.array([[1,0],[0,1]])),5000,boundary = np.array([[0,0],4]))\n",
    "bps.plot_path()\n",
    "\n",
    "#plt.scatter(Y[:,0],Y[:,1],s=0.8)\n",
    "#plt.axis('equal')\n",
    "#plt.grid(True)\n",
    "#plt.show()"
   ]
  },
  {
   "cell_type": "code",
   "execution_count": 16,
   "metadata": {
    "hidden": true
   },
   "outputs": [
    {
     "name": "stderr",
     "output_type": "stream",
     "text": [
      "C:\\Users\\mark\\Anaconda3\\envs\\master_thesis\\lib\\site-packages\\numpy\\core\\fromnumeric.py:973: FutureWarning: 'argmax' is deprecated, use 'idxmax' instead. The behavior of 'argmax'\n",
      "will be corrected to return the positional maximum in the future.\n",
      "Use 'series.values.argmax' to get the position of the maximum now.\n",
      "  return argmax(axis, out)\n"
     ]
    }
   ],
   "source": [
    "S = bps.sample_traj(10000)"
   ]
  },
  {
   "cell_type": "code",
   "execution_count": 17,
   "metadata": {
    "hidden": true
   },
   "outputs": [
    {
     "data": {
      "text/plain": [
       "0   -0.015997\n",
       "1   -0.161699\n",
       "dtype: float64"
      ]
     },
     "execution_count": 17,
     "metadata": {},
     "output_type": "execute_result"
    }
   ],
   "source": [
    "np.mean(S)"
   ]
  },
  {
   "cell_type": "code",
   "execution_count": 18,
   "metadata": {
    "hidden": true
   },
   "outputs": [
    {
     "data": {
      "text/plain": [
       "array([[2.917709657885998, 0.15839570856669605],\n",
       "       [0.15839570856669605, 3.112785567248778]], dtype=object)"
      ]
     },
     "execution_count": 18,
     "metadata": {},
     "output_type": "execute_result"
    }
   ],
   "source": [
    "np.cov(S.loc[:,0],S.loc[:,1])"
   ]
  },
  {
   "cell_type": "markdown",
   "metadata": {
    "hidden": true
   },
   "source": [
    "### Bounces due to density or boundary?"
   ]
  },
  {
   "cell_type": "code",
   "execution_count": 15,
   "metadata": {
    "hidden": true
   },
   "outputs": [],
   "source": [
    "from collections import Counter"
   ]
  },
  {
   "cell_type": "code",
   "execution_count": 16,
   "metadata": {
    "hidden": true
   },
   "outputs": [],
   "source": [
    "def bps_simulation(x0,dim,mu,V,final_time,boundary,refresh_rate): \n",
    "    \n",
    "    # Control the total time\n",
    "    current_time = 0\n",
    "\n",
    "    # Initialize dataframes\n",
    "    #T = pd.DataFrame(columns = ['T'])\n",
    "    #X = pd.DataFrame(columns = range(dim))\n",
    "    #theta = pd.DataFrame(columns = range(dim))\n",
    "    \n",
    "    dict_T = {'T':[]}\n",
    "    dict_X = {'X':[]}\n",
    "    dict_theta = {'theta':[]}\n",
    "    \n",
    "    dict_T['T'].append(0)\n",
    "    dict_X['X'].append(x0)\n",
    "    \n",
    "    initial_theta = resample_velocity(dim)\n",
    "    dict_theta['theta'].append(initial_theta.tolist())\n",
    "\n",
    "    # Initial values\n",
    "    #T.loc[1] = 0\n",
    "    #X.loc[1,] = x0#[0]*self.dim\n",
    "    #theta.loc[1,] = resample_velocity(dim)\n",
    "\n",
    "    # Define the refresh rate\n",
    "    #refresh_rate = 3\n",
    "    bounce = -1\n",
    "    k = 1\n",
    "    bound = np.nan\n",
    "    \n",
    "    current_X = x0\n",
    "    current_theta = initial_theta\n",
    "    \n",
    "    changes = []\n",
    "\n",
    "    while (current_time < final_time):\n",
    "        \n",
    "        # Draw uniform r.v. for switching time, refresh time and acceptance of new switching time\n",
    "        R = np.random.uniform(0,1,[1,2])\n",
    "        a = np.dot(current_theta,np.dot(V,current_X-mu))\n",
    "        b = np.dot(current_theta,np.dot(V,current_theta))\n",
    "        bounce = random_time(a,b,R[0,0])\n",
    "        \n",
    "        if boundary is not None:\n",
    "            #print('x',X.loc[k,:])\n",
    "            #print('v',theta.loc[k,:])\n",
    "            bound = tau_bounce_sphere(np.array(current_X),np.array(current_theta),boundary[1],boundary[0])\n",
    "            if bound<0:\n",
    "                bound = np.nan\n",
    "                    \n",
    "        if (refresh_rate <= 0):\n",
    "            refresh = -1\n",
    "            print('Infinity')\n",
    "            tau = bounce\n",
    "        else:\n",
    "            refresh = -np.log(R[0,1])/float(refresh_rate)\n",
    "            #print('refresh',refresh)\n",
    "            tau = np.nanmin([bounce,refresh,bound])\n",
    "            \n",
    "        #print(tau)\n",
    "        # Update time and path\n",
    "        #T.loc[k+1] = T.loc[k] + tau\n",
    "        #X.loc[k+1,:] = X.loc[k,:] + theta.loc[k,:]*tau\n",
    "        \n",
    "        \n",
    "        current_X = current_X + current_theta*tau\n",
    "        \n",
    "        \n",
    "        dict_T['T'].append(current_time + tau)\n",
    "        dict_X['X'].append(current_X.tolist())\n",
    "        #theta.loc[k+1,:] = theta.loc[k,:]\n",
    "        #print(X.loc[k+1,:])\n",
    "            \n",
    "        #print('Old v',theta.loc[k,:])\n",
    "        if tau == refresh: # refresh\n",
    "            update_theta = resample_velocity(dim)\n",
    "            #theta.loc[k+1,:] = resample_velocity(dim)\n",
    "            changes.append(0)\n",
    "        elif tau == bound: # bound\n",
    "            n = normal_sphere(current_X,boundary[0])\n",
    "            #print('n',n)\n",
    "            update_theta = reflection(current_theta,n)\n",
    "            #theta.loc[k+1,:] = reflection(theta.loc[k,:],n)\n",
    "            #print('New v',theta.loc[k+1,:])\n",
    "            changes.append(1)\n",
    "        else: # bounce\n",
    "            update_theta = flip_BPS(current_X,current_theta,mu,V)\n",
    "            #theta.loc[k+1,:] = flip_BPS(current_X.values,theta.loc[k,:].values,mu,V)\n",
    "            changes.append(2)\n",
    "            \n",
    "        k = k+1\n",
    "        current_theta = update_theta\n",
    "        dict_theta['theta'].append(current_theta.tolist())\n",
    "        #current_time = T.loc[k].item()\n",
    "        current_time = current_time + tau\n",
    "    \n",
    "    T = pd.DataFrame.from_dict(dict_T)\n",
    "    X = pd.DataFrame.from_dict(dict_X)\n",
    "    theta = pd.DataFrame.from_dict(dict_theta)\n",
    "        \n",
    "    return T,pd.DataFrame(X['X'].values.tolist()),pd.DataFrame(theta['theta'].values.tolist()),changes"
   ]
  },
  {
   "cell_type": "code",
   "execution_count": 60,
   "metadata": {
    "hidden": true
   },
   "outputs": [],
   "source": [
    "def percentage_refr(dimensions):\n",
    "    T = 100\n",
    "    \n",
    "    columns = ['refr','boundary','density']\n",
    "    index = range(0,len(dimensions))\n",
    "\n",
    "    df_perc = pd.DataFrame(index = index, columns = columns)\n",
    "\n",
    "    for k in range(len(dimensions)):\n",
    "        dim = dimensions[k]\n",
    "        mu_target = np.array([0]*dim)\n",
    "        cov_target = np.eye(dim)\n",
    "        R = 6*np.sqrt(2*dim)+dim\n",
    "        x0 = np.ones(dim)\n",
    "        x0[0] = R\n",
    "        _,_,_,changes = bps_simulation(x0,dim,mu_target,cov_target,T,boundary = np.array([np.array([0]*dim),R]),refresh_rate = 0.3/100*(900+60*2**(math.log(dim,2))))\n",
    "        z = Counter(changes)\n",
    "        \n",
    "        df_perc.loc[k,:] = z.values()\n",
    "    return df_perc"
   ]
  },
  {
   "cell_type": "code",
   "execution_count": 61,
   "metadata": {
    "hidden": true
   },
   "outputs": [],
   "source": [
    "dimensions = [2,4,8,16,32,64,128,256]\n",
    "df_perc = percentage_refr(dimensions)"
   ]
  },
  {
   "cell_type": "code",
   "execution_count": 62,
   "metadata": {
    "hidden": true
   },
   "outputs": [
    {
     "data": {
      "text/html": [
       "<div>\n",
       "<style scoped>\n",
       "    .dataframe tbody tr th:only-of-type {\n",
       "        vertical-align: middle;\n",
       "    }\n",
       "\n",
       "    .dataframe tbody tr th {\n",
       "        vertical-align: top;\n",
       "    }\n",
       "\n",
       "    .dataframe thead th {\n",
       "        text-align: right;\n",
       "    }\n",
       "</style>\n",
       "<table border=\"1\" class=\"dataframe\">\n",
       "  <thead>\n",
       "    <tr style=\"text-align: right;\">\n",
       "      <th></th>\n",
       "      <th>refr</th>\n",
       "      <th>boundary</th>\n",
       "      <th>density</th>\n",
       "    </tr>\n",
       "  </thead>\n",
       "  <tbody>\n",
       "    <tr>\n",
       "      <th>0</th>\n",
       "      <td>310</td>\n",
       "      <td>623</td>\n",
       "      <td>630</td>\n",
       "    </tr>\n",
       "    <tr>\n",
       "      <th>1</th>\n",
       "      <td>318</td>\n",
       "      <td>815</td>\n",
       "      <td>830</td>\n",
       "    </tr>\n",
       "    <tr>\n",
       "      <th>2</th>\n",
       "      <td>356</td>\n",
       "      <td>1368</td>\n",
       "      <td>1370</td>\n",
       "    </tr>\n",
       "    <tr>\n",
       "      <th>3</th>\n",
       "      <td>554</td>\n",
       "      <td>1897</td>\n",
       "      <td>1928</td>\n",
       "    </tr>\n",
       "    <tr>\n",
       "      <th>4</th>\n",
       "      <td>802</td>\n",
       "      <td>3040</td>\n",
       "      <td>3057</td>\n",
       "    </tr>\n",
       "    <tr>\n",
       "      <th>5</th>\n",
       "      <td>1384</td>\n",
       "      <td>5316</td>\n",
       "      <td>5342</td>\n",
       "    </tr>\n",
       "    <tr>\n",
       "      <th>6</th>\n",
       "      <td>2550</td>\n",
       "      <td>8499</td>\n",
       "      <td>8506</td>\n",
       "    </tr>\n",
       "    <tr>\n",
       "      <th>7</th>\n",
       "      <td>5014</td>\n",
       "      <td>15523</td>\n",
       "      <td>15531</td>\n",
       "    </tr>\n",
       "  </tbody>\n",
       "</table>\n",
       "</div>"
      ],
      "text/plain": [
       "   refr  boundary  density\n",
       "0   310       623      630\n",
       "1   318       815      830\n",
       "2   356      1368     1370\n",
       "3   554      1897     1928\n",
       "4   802      3040     3057\n",
       "5  1384      5316     5342\n",
       "6  2550      8499     8506\n",
       "7  5014     15523    15531"
      ]
     },
     "execution_count": 62,
     "metadata": {},
     "output_type": "execute_result"
    }
   ],
   "source": [
    "df_perc"
   ]
  },
  {
   "cell_type": "code",
   "execution_count": 20,
   "metadata": {
    "hidden": true
   },
   "outputs": [],
   "source": [
    "def perc_plot(df_perc):\n",
    "    # Data\n",
    "    r = df_perc.index\n",
    "\n",
    "    # From raw value to percentage\n",
    "    totals = [i+j+k for i,j,k in zip(df_perc['refr'], df_perc['boundary'], df_perc['density'])]\n",
    "    greenBars = [i / float(j) * 100 for i,j in zip(df_perc['refr'], totals)]\n",
    "    orangeBars = [i / float(j) * 100 for i,j in zip(df_perc['boundary'], totals)]\n",
    "    blueBars = [i / float(j) * 100 for i,j in zip(df_perc['density'], totals)]\n",
    "\n",
    "    # plot\n",
    "    barWidth = 0.85\n",
    "    names = ('2','4','8','16','32','64','128','256')\n",
    "    # Create green Bars\n",
    "    plt.bar(r, greenBars, color='#b5ffb9', edgecolor='white', width=barWidth,label=\"Refreshments\")\n",
    "    # Create orange Bars\n",
    "    plt.bar(r, orangeBars, bottom=greenBars, color='#f9bc86', edgecolor='white', width=barWidth,label=\"Boundary\")\n",
    "    # Create blue Bars\n",
    "    plt.bar(r, blueBars, bottom=[i+j for i,j in zip(greenBars, orangeBars)], color='#a3acff', edgecolor='white', width=barWidth,label=\"Density\")\n",
    "\n",
    "    # Custom x axis\n",
    "    plt.xticks(r, names)\n",
    "    plt.xlabel(\"dimension\")\n",
    "\n",
    "    plt.legend(loc='upper left', bbox_to_anchor=(1,1), ncol=1)\n",
    "\n",
    "    # Show graphic\n",
    "    plt.show()\n"
   ]
  },
  {
   "cell_type": "code",
   "execution_count": 63,
   "metadata": {
    "hidden": true
   },
   "outputs": [
    {
     "data": {
      "image/png": "[encoded data removed]",
      "text/plain": [
       "<Figure size 432x288 with 1 Axes>"
      ]
     },
     "metadata": {
      "needs_background": "light"
     },
     "output_type": "display_data"
    }
   ],
   "source": [
    "perc_plot(df_perc)"
   ]
  },
  {
   "cell_type": "code",
   "execution_count": 64,
   "metadata": {
    "hidden": true
   },
   "outputs": [
    {
     "data": {
      "image/png": "[encoded data removed]",
      "text/plain": [
       "<Figure size 432x288 with 1 Axes>"
      ]
     },
     "metadata": {
      "needs_background": "light"
     },
     "output_type": "display_data"
    }
   ],
   "source": [
    "plt.plot(df_perc)\n",
    "plt.yscale('log')\n",
    "plt.show()"
   ]
  },
  {
   "cell_type": "code",
   "execution_count": 28,
   "metadata": {
    "hidden": true
   },
   "outputs": [
    {
     "data": {
      "text/plain": [
       "LinearRegression(copy_X=True, fit_intercept=True, n_jobs=None,\n",
       "         normalize=False)"
      ]
     },
     "execution_count": 28,
     "metadata": {},
     "output_type": "execute_result"
    }
   ],
   "source": [
    "regressor = LinearRegression()  \n",
    "regressor.fit(np.array(dimensions).reshape(-1,1), df_perc['boundary'].values) #training the algorithm"
   ]
  },
  {
   "cell_type": "code",
   "execution_count": 29,
   "metadata": {
    "hidden": true
   },
   "outputs": [
    {
     "name": "stdout",
     "output_type": "stream",
     "text": [
      "908.548412084\n",
      "[ 58.85022099]\n"
     ]
    }
   ],
   "source": [
    "#To retrieve the intercept:\n",
    "print(regressor.intercept_)\n",
    "\n",
    "#For retrieving the slope:\n",
    "print(regressor.coef_)"
   ]
  },
  {
   "cell_type": "code",
   "execution_count": 227,
   "metadata": {
    "hidden": true
   },
   "outputs": [],
   "source": [
    "def percentage_refr_radius(dim):\n",
    "    T = 100\n",
    "    end_point = 6*np.sqrt(2*dim)+dim\n",
    "    radius = np.linspace(1, end_point, num=10)\n",
    "    \n",
    "    columns = ['refr','boundary','density']\n",
    "    index = range(0,len(radius))\n",
    "\n",
    "    df_perc = pd.DataFrame(index = index, columns = columns)\n",
    "    mu_target = np.array([0]*dim)\n",
    "    cov_target = np.eye(dim)\n",
    "    x0 = np.ones(dim)\n",
    "    \n",
    "\n",
    "    for k in range(len(radius)):\n",
    "        R = radius[k]\n",
    "        x0[0] = R\n",
    "        refresh_rate = 1.0/T*(30*R+70)\n",
    "        if refresh_rate < 0:\n",
    "            refresh_rate = 1.5\n",
    "        _,_,_,changes = bps_simulation(x0,dim,mu_target,cov_target,T,boundary = np.array([np.array([0]*dim),R]),refresh_rate = refresh_rate)\n",
    "        z = Counter(changes)\n",
    "        print(z)\n",
    "        df_perc.loc[k,:] = z.values()\n",
    "    return df_perc"
   ]
  },
  {
   "cell_type": "code",
   "execution_count": 228,
   "metadata": {
    "hidden": true
   },
   "outputs": [
    {
     "name": "stdout",
     "output_type": "stream",
     "text": [
      "Counter({0: 85, 2: 81, 1: 14})\n",
      "Counter({0: 163, 2: 124, 1: 97})\n",
      "Counter({0: 246, 2: 227, 1: 223})\n",
      "Counter({2: 325, 0: 323, 1: 289})\n",
      "Counter({1: 441, 2: 424, 0: 366})\n",
      "Counter({2: 483, 1: 473, 0: 421})\n",
      "Counter({2: 655, 1: 640, 0: 528})\n",
      "Counter({2: 702, 1: 674, 0: 540})\n",
      "Counter({1: 784, 2: 772, 0: 620})\n",
      "Counter({1: 865, 2: 859, 0: 757})\n"
     ]
    }
   ],
   "source": [
    "dim = 4\n",
    "df_perc_radius = percentage_refr_radius(dim)"
   ]
  },
  {
   "cell_type": "code",
   "execution_count": 229,
   "metadata": {
    "hidden": true
   },
   "outputs": [
    {
     "data": {
      "text/html": [
       "<div>\n",
       "<style scoped>\n",
       "    .dataframe tbody tr th:only-of-type {\n",
       "        vertical-align: middle;\n",
       "    }\n",
       "\n",
       "    .dataframe tbody tr th {\n",
       "        vertical-align: top;\n",
       "    }\n",
       "\n",
       "    .dataframe thead th {\n",
       "        text-align: right;\n",
       "    }\n",
       "</style>\n",
       "<table border=\"1\" class=\"dataframe\">\n",
       "  <thead>\n",
       "    <tr style=\"text-align: right;\">\n",
       "      <th></th>\n",
       "      <th>refr</th>\n",
       "      <th>boundary</th>\n",
       "      <th>density</th>\n",
       "    </tr>\n",
       "  </thead>\n",
       "  <tbody>\n",
       "    <tr>\n",
       "      <th>0</th>\n",
       "      <td>85</td>\n",
       "      <td>14</td>\n",
       "      <td>81</td>\n",
       "    </tr>\n",
       "    <tr>\n",
       "      <th>1</th>\n",
       "      <td>163</td>\n",
       "      <td>97</td>\n",
       "      <td>124</td>\n",
       "    </tr>\n",
       "    <tr>\n",
       "      <th>2</th>\n",
       "      <td>246</td>\n",
       "      <td>223</td>\n",
       "      <td>227</td>\n",
       "    </tr>\n",
       "    <tr>\n",
       "      <th>3</th>\n",
       "      <td>323</td>\n",
       "      <td>289</td>\n",
       "      <td>325</td>\n",
       "    </tr>\n",
       "    <tr>\n",
       "      <th>4</th>\n",
       "      <td>366</td>\n",
       "      <td>441</td>\n",
       "      <td>424</td>\n",
       "    </tr>\n",
       "    <tr>\n",
       "      <th>5</th>\n",
       "      <td>421</td>\n",
       "      <td>473</td>\n",
       "      <td>483</td>\n",
       "    </tr>\n",
       "    <tr>\n",
       "      <th>6</th>\n",
       "      <td>528</td>\n",
       "      <td>640</td>\n",
       "      <td>655</td>\n",
       "    </tr>\n",
       "    <tr>\n",
       "      <th>7</th>\n",
       "      <td>540</td>\n",
       "      <td>674</td>\n",
       "      <td>702</td>\n",
       "    </tr>\n",
       "    <tr>\n",
       "      <th>8</th>\n",
       "      <td>620</td>\n",
       "      <td>784</td>\n",
       "      <td>772</td>\n",
       "    </tr>\n",
       "    <tr>\n",
       "      <th>9</th>\n",
       "      <td>757</td>\n",
       "      <td>865</td>\n",
       "      <td>859</td>\n",
       "    </tr>\n",
       "  </tbody>\n",
       "</table>\n",
       "</div>"
      ],
      "text/plain": [
       "   refr  boundary  density\n",
       "0    85        14       81\n",
       "1   163        97      124\n",
       "2   246       223      227\n",
       "3   323       289      325\n",
       "4   366       441      424\n",
       "5   421       473      483\n",
       "6   528       640      655\n",
       "7   540       674      702\n",
       "8   620       784      772\n",
       "9   757       865      859"
      ]
     },
     "execution_count": 229,
     "metadata": {},
     "output_type": "execute_result"
    }
   ],
   "source": [
    "df_perc_radius"
   ]
  },
  {
   "cell_type": "code",
   "execution_count": 230,
   "metadata": {
    "hidden": true
   },
   "outputs": [
    {
     "data": {
      "image/png": "[encoded data removed]",
      "text/plain": [
       "<Figure size 432x288 with 1 Axes>"
      ]
     },
     "metadata": {
      "needs_background": "light"
     },
     "output_type": "display_data"
    }
   ],
   "source": [
    "perc_plot(df_perc_radius)"
   ]
  },
  {
   "cell_type": "code",
   "execution_count": 194,
   "metadata": {
    "hidden": true
   },
   "outputs": [
    {
     "data": {
      "image/png": "[encoded data removed]",
      "text/plain": [
       "<Figure size 432x288 with 1 Axes>"
      ]
     },
     "metadata": {
      "needs_background": "light"
     },
     "output_type": "display_data"
    }
   ],
   "source": [
    "plt.plot(df_perc_radius)\n",
    "#plt.yscale('log')\n",
    "plt.xticks(df_perc_radius.index,np.round(np.linspace(1,6*np.sqrt(2*dim)+dim,10)))\n",
    "plt.show()"
   ]
  },
  {
   "cell_type": "code",
   "execution_count": 34,
   "metadata": {
    "hidden": true
   },
   "outputs": [],
   "source": [
    "T,X,theta,changes = bps_simulation([16,1],2,np.array([0,0]),np.linalg.inv(np.array([[1,0],[0,1]])),5000,boundary = np.array([[0,0],16]))"
   ]
  },
  {
   "cell_type": "code",
   "execution_count": 17,
   "metadata": {
    "hidden": true
   },
   "outputs": [
    {
     "data": {
      "image/png": "[encoded data removed]",
      "text/plain": [
       "<Figure size 432x288 with 1 Axes>"
      ]
     },
     "metadata": {
      "needs_background": "light"
     },
     "output_type": "display_data"
    }
   ],
   "source": [
    "fig, ax = plt.subplots()\n",
    "plt.xlabel('X1(t)')\n",
    "plt.ylabel('X2(t)')\n",
    "plt.plot(X.loc[:,0], X.loc[:,1])\n",
    "            \n",
    "circ=plt.Circle([0,0], radius=16,fill=False)\n",
    "ax.add_patch(circ)\n",
    "plt.axis('equal')\n",
    "        \n",
    "plt.grid(True)\n",
    "plt.show()"
   ]
  },
  {
   "cell_type": "code",
   "execution_count": 18,
   "metadata": {
    "hidden": true
   },
   "outputs": [
    {
     "data": {
      "text/plain": [
       "[150526, 319745, 320790]"
      ]
     },
     "execution_count": 18,
     "metadata": {},
     "output_type": "execute_result"
    }
   ],
   "source": [
    "z = Counter(changes)\n",
    "z.values()"
   ]
  },
  {
   "cell_type": "code",
   "execution_count": 19,
   "metadata": {
    "hidden": true
   },
   "outputs": [
    {
     "data": {
      "image/png": "[encoded data removed]",
      "text/plain": [
       "<Figure size 432x288 with 1 Axes>"
      ]
     },
     "metadata": {},
     "output_type": "display_data"
    }
   ],
   "source": [
    "# Data to plot\n",
    "labels = 'Refreshments', 'Boundary', 'Density'\n",
    "sizes = z.values()\n",
    "colors = ['gold', 'yellowgreen', 'lightskyblue']\n",
    "explode = (0.1, 0, 0)  # explode 1st slice\n",
    "\n",
    "# Plot\n",
    "plt.pie(sizes, explode=explode, labels=labels, colors=colors,\n",
    "autopct='%1.1f%%', shadow=True, startangle=140)\n",
    "\n",
    "plt.title('Changes of direction,\\n R = 16')\n",
    "plt.axis('equal')\n",
    "plt.show()"
   ]
  },
  {
   "cell_type": "markdown",
   "metadata": {
    "hidden": true
   },
   "source": [
    "### Distribution of thresholds"
   ]
  },
  {
   "cell_type": "code",
   "execution_count": 32,
   "metadata": {
    "hidden": true
   },
   "outputs": [],
   "source": [
    "def p_estimation_mnorm_threshold(N,M,T,mean,cov,Phi):\n",
    "    \n",
    "    st = time.time()\n",
    "    dim = mean.size\n",
    "\n",
    "    #m=1\n",
    "    X=np.random.multivariate_normal(mean,cov,N)\n",
    "    phi=Phi(X)\n",
    "    s = np.argsort(phi)\n",
    "    phi,X = phi[s], X[s]\n",
    "    X = np.array(X)\n",
    "    L=phi[0]\n",
    "    L_max = phi[0]\n",
    "    #print(phi)\n",
    "    ed = time.time()\n",
    "    #print(ed-st)\n",
    "    all_L = [L]\n",
    "\n",
    "    for m in range(1,M):   # as long as there are particles below q\n",
    "        x0 = X[np.random.randint(2,N)]\n",
    "\n",
    "        # Run a Markov chain on the lowermost sample\n",
    "        st = time.time()\n",
    "        bps = BPS(x0,dim,mean,cov,T,boundary = np.array([[0]*dim,np.sqrt(L)]))\n",
    "        _,process,_ = bps.simulation\n",
    "        ed = time.time()\n",
    "        #print('Markov chain takes',ed-st)\n",
    "        \n",
    "        x_star = [item for sublist in process.tail(1).values for item in sublist]\n",
    "        \n",
    "        #print('L',L)\n",
    "        #print('x_star',x_star,'with',Phi(x_star))\n",
    "\n",
    "        # Update X\n",
    "        X[0] = np.array(x_star)\n",
    "        phi=Phi(X)\n",
    "        s = np.argsort(phi)\n",
    "        phi,X = phi[s], X[s]\n",
    "        X = np.array(X)\n",
    "        \n",
    "        # Set adaptive boundary\n",
    "        L = phi[0]\n",
    "        m = m + 1\n",
    "        L_max = max(L,L_max)\n",
    "        all_L.append(L)\n",
    "\n",
    "    phat = (1.0-1.0/N)**(m-1)\n",
    "    return phat,m,all_L"
   ]
  },
  {
   "cell_type": "code",
   "execution_count": 38,
   "metadata": {
    "hidden": true
   },
   "outputs": [],
   "source": [
    "def p_estimation_threshold(N,M,T,target_fn,prop_fn,Phi,target_fn_kwargs,prop_fn_kwargs):\n",
    "\n",
    "    #m=1\n",
    "    mean = target_fn_kwargs['mu']\n",
    "    cov = target_fn_kwargs['cov']\n",
    "    dim = mean.size\n",
    "    X=np.random.multivariate_normal(mean,cov,N)\n",
    "    phi=Phi(X)\n",
    "    s = np.argsort(phi)\n",
    "    phi,X = phi[s], X[s]\n",
    "    X = np.array(X)\n",
    "    L=phi[0]\n",
    "    L_max = phi[0]\n",
    "    all_L = [L]\n",
    "\n",
    "    for m in range(1,M):   # as long as there are particles below q\n",
    "        x0 = X[np.random.randint(2,N)]\n",
    "        \n",
    "        # Run a Markov chain on the lowermost sample\n",
    "        process,_,_ = mh_sampler(x0 = x0,\n",
    "               target_fn = target_fn,\n",
    "               prop_fn = prop_fn,\n",
    "               Phi = Phi,\n",
    "               L = L,\n",
    "               iterations = T,\n",
    "               target_fn_kwargs = target_fn_kwargs,\n",
    "               prop_fn_kwargs = prop_fn_kwargs)\n",
    "        \n",
    "        #print(process)\n",
    "        x_star = process[-1]\n",
    "\n",
    "        # Update X\n",
    "        X[0] = np.array(x_star)\n",
    "        phi=Phi(X)\n",
    "        s = np.argsort(phi)\n",
    "        phi,X = phi[s], X[s]\n",
    "        X = np.array(X)\n",
    "        #phi = np.array(phi)\n",
    "        \n",
    "        # Set adaptive boundary\n",
    "        L = phi[0]\n",
    "        m = m + 1\n",
    "        #L_max = max(L,L_max)\n",
    "        all_L.append(L)\n",
    "\n",
    "    phat = (1.0-1.0/N)**(m-1)\n",
    "    return phat,m,all_L"
   ]
  },
  {
   "cell_type": "code",
   "execution_count": 40,
   "metadata": {
    "hidden": true
   },
   "outputs": [],
   "source": [
    "np.random.seed(23948)\n",
    "\n",
    "N = 100\n",
    "M = 300\n",
    "T = 20\n",
    "dim = 16\n",
    "q = 6*np.sqrt(2*dim)+dim\n",
    "    \n",
    "cov_prop = 2*np.eye(dim)\n",
    "mu_target = np.array([0]*dim)\n",
    "cov_target = np.eye(dim)\n",
    "\n",
    "p_mh,m_mh,L_mh = p_estimation_threshold(N,M,T,normal,gaussian_proposal,Phi = Phi_norm, \n",
    "                                target_fn_kwargs = {'mu':mu_target,'cov':cov_target},\n",
    "                                prop_fn_kwargs = {'cov':cov_prop})\n",
    "\n",
    "p_bs,m_bs,L_bs = p_estimation_mnorm_threshold(N,M,T,mu_target,cov_target,Phi_norm)"
   ]
  },
  {
   "cell_type": "code",
   "execution_count": 57,
   "metadata": {
    "hidden": true,
    "hide_input": false
   },
   "outputs": [
    {
     "data": {
      "image/png": "[encoded data removed]",
      "text/plain": [
       "<Figure size 432x288 with 1 Axes>"
      ]
     },
     "metadata": {
      "needs_background": "light"
     },
     "output_type": "display_data"
    }
   ],
   "source": [
    "q = 6*np.sqrt(2*dim)+dim\n",
    "m = np.log(chi2.sf(q,dim))/(np.log(1-1/float(N)))\n",
    "\n",
    "plt.plot(L_mh, label = 'MH-algorithm')\n",
    "plt.plot(L_bs, label = 'Bouncy Particle Sampler')\n",
    "plt.axhline(y=q, color='r', linestyle='-')\n",
    "plt.axvline(x=m, color='r',linestyle='-')\n",
    "plt.xlabel('m')\n",
    "plt.ylabel('L')\n",
    "plt.legend(loc='best')\n",
    "plt.show()"
   ]
  },
  {
   "cell_type": "code",
   "execution_count": 61,
   "metadata": {
    "hidden": true
   },
   "outputs": [
    {
     "name": "stdout",
     "output_type": "stream",
     "text": [
      "2.34251766623e-05\n",
      "3.39187054019e-05\n",
      "3.42613185878e-05\n"
     ]
    }
   ],
   "source": [
    "print chi2.sf(q,dim)\n",
    "print p_bs\n",
    "print p_mh"
   ]
  },
  {
   "cell_type": "code",
   "execution_count": 147,
   "metadata": {
    "hidden": true
   },
   "outputs": [
    {
     "data": {
      "text/plain": [
       "9.7435103831273686"
      ]
     },
     "execution_count": 147,
     "metadata": {},
     "output_type": "execute_result"
    }
   ],
   "source": [
    "L_bs[300]"
   ]
  },
  {
   "cell_type": "markdown",
   "metadata": {
    "hidden": true
   },
   "source": [
    "Fix the situation for now. We work with $N=100, T=20$ and the dimension is 16. We run the algorithm to find the rare probability $M = 1000$ times and have a look at the level after iteration $m=300$. "
   ]
  },
  {
   "cell_type": "code",
   "execution_count": 61,
   "metadata": {
    "hidden": true
   },
   "outputs": [
    {
     "name": "stdout",
     "output_type": "stream",
     "text": [
      "Iteration 0\n",
      "Iteration 1\n",
      "Iteration 2\n",
      "Iteration 3\n",
      "Iteration 4\n",
      "Iteration 5\n",
      "Iteration 6\n",
      "Iteration 7\n",
      "Iteration 8\n",
      "Iteration 9\n",
      "Iteration 10\n",
      "Iteration 11\n",
      "Iteration 12\n",
      "Iteration 13\n",
      "Iteration 14\n",
      "Iteration 15\n",
      "Iteration 16\n",
      "Iteration 17\n",
      "Iteration 18\n",
      "Iteration 19\n",
      "Iteration 20\n",
      "Iteration 21\n",
      "Iteration 22\n",
      "Iteration 23\n",
      "Iteration 24\n",
      "Iteration 25\n",
      "Iteration 26\n",
      "Iteration 27\n",
      "Iteration 28\n",
      "Iteration 29\n",
      "Iteration 30\n",
      "Iteration 31\n",
      "Iteration 32\n",
      "Iteration 33\n",
      "Iteration 34\n",
      "Iteration 35\n",
      "Iteration 36\n",
      "Iteration 37\n",
      "Iteration 38\n",
      "Iteration 39\n",
      "Iteration 40\n",
      "Iteration 41\n",
      "Iteration 42\n",
      "Iteration 43\n",
      "Iteration 44\n",
      "Iteration 45\n",
      "Iteration 46\n",
      "Iteration 47\n",
      "Iteration 48\n",
      "Iteration 49\n",
      "Iteration 50\n",
      "Iteration 51\n",
      "Iteration 52\n",
      "Iteration 53\n",
      "Iteration 54\n",
      "Iteration 55\n",
      "Iteration 56\n",
      "Iteration 57\n",
      "Iteration 58\n",
      "Iteration 59\n",
      "Iteration 60\n",
      "Iteration 61\n",
      "Iteration 62\n",
      "Iteration 63\n",
      "Iteration 64\n",
      "Iteration 65\n",
      "Iteration 66\n",
      "Iteration 67\n",
      "Iteration 68\n",
      "Iteration 69\n",
      "Iteration 70\n",
      "Iteration 71\n",
      "Iteration 72\n",
      "Iteration 73\n",
      "Iteration 74\n",
      "Iteration 75\n",
      "Iteration 76\n",
      "Iteration 77\n",
      "Iteration 78\n",
      "Iteration 79\n",
      "Iteration 80\n",
      "Iteration 81\n",
      "Iteration 82\n",
      "Iteration 83\n",
      "Iteration 84\n",
      "Iteration 85\n",
      "Iteration 86\n",
      "Iteration 87\n",
      "Iteration 88\n",
      "Iteration 89\n",
      "Iteration 90\n",
      "Iteration 91\n",
      "Iteration 92\n",
      "Iteration 93\n",
      "Iteration 94\n",
      "Iteration 95\n",
      "Iteration 96\n",
      "Iteration 97\n",
      "Iteration 98\n",
      "Iteration 99\n",
      "Iteration 100\n",
      "Iteration 101\n",
      "Iteration 102\n",
      "Iteration 103\n",
      "Iteration 104\n",
      "Iteration 105\n",
      "Iteration 106\n",
      "Iteration 107\n",
      "Iteration 108\n",
      "Iteration 109\n",
      "Iteration 110\n",
      "Iteration 111\n",
      "Iteration 112\n",
      "Iteration 113\n",
      "Iteration 114\n",
      "Iteration 115\n",
      "Iteration 116\n",
      "Iteration 117\n",
      "Iteration 118\n",
      "Iteration 119\n",
      "Iteration 120\n",
      "Iteration 121\n",
      "Iteration 122\n",
      "Iteration 123\n",
      "Iteration 124\n",
      "Iteration 125\n",
      "Iteration 126\n",
      "Iteration 127\n",
      "Iteration 128\n",
      "Iteration 129\n",
      "Iteration 130\n",
      "Iteration 131\n",
      "Iteration 132\n",
      "Iteration 133\n",
      "Iteration 134\n",
      "Iteration 135\n",
      "Iteration 136\n",
      "Iteration 137\n",
      "Iteration 138\n",
      "Iteration 139\n",
      "Iteration 140\n",
      "Iteration 141\n",
      "Iteration 142\n",
      "Iteration 143\n",
      "Iteration 144\n",
      "Iteration 145\n",
      "Iteration 146\n",
      "Iteration 147\n",
      "Iteration 148\n",
      "Iteration 149\n",
      "Iteration 150\n",
      "Iteration 151\n",
      "Iteration 152\n",
      "Iteration 153\n",
      "Iteration 154\n",
      "Iteration 155\n",
      "Iteration 156\n",
      "Iteration 157\n",
      "Iteration 158\n",
      "Iteration 159\n",
      "Iteration 160\n",
      "Iteration 161\n",
      "Iteration 162\n",
      "Iteration 163\n",
      "Iteration 164\n",
      "Iteration 165\n",
      "Iteration 166\n",
      "Iteration 167\n",
      "Iteration 168\n",
      "Iteration 169\n",
      "Iteration 170\n",
      "Iteration 171\n",
      "Iteration 172\n",
      "Iteration 173\n",
      "Iteration 174\n",
      "Iteration 175\n",
      "Iteration 176\n",
      "Iteration 177\n",
      "Iteration 178\n",
      "Iteration 179\n",
      "Iteration 180\n",
      "Iteration 181\n",
      "Iteration 182\n",
      "Iteration 183\n",
      "Iteration 184\n",
      "Iteration 185\n",
      "Iteration 186\n",
      "Iteration 187\n",
      "Iteration 188\n",
      "Iteration 189\n",
      "Iteration 190\n",
      "Iteration 191\n",
      "Iteration 192\n",
      "Iteration 193\n",
      "Iteration 194\n",
      "Iteration 195\n",
      "Iteration 196\n",
      "Iteration 197\n",
      "Iteration 198\n",
      "Iteration 199\n",
      "Iteration 200\n",
      "Iteration 201\n",
      "Iteration 202\n",
      "Iteration 203\n",
      "Iteration 204\n",
      "Iteration 205\n",
      "Iteration 206\n",
      "Iteration 207\n",
      "Iteration 208\n",
      "Iteration 209\n",
      "Iteration 210\n",
      "Iteration 211\n",
      "Iteration 212\n",
      "Iteration 213\n",
      "Iteration 214\n",
      "Iteration 215\n",
      "Iteration 216\n",
      "Iteration 217\n",
      "Iteration 218\n",
      "Iteration 219\n",
      "Iteration 220\n",
      "Iteration 221\n",
      "Iteration 222\n",
      "Iteration 223\n",
      "Iteration 224\n",
      "Iteration 225\n",
      "Iteration 226\n",
      "Iteration 227\n",
      "Iteration 228\n",
      "Iteration 229\n",
      "Iteration 230\n",
      "Iteration 231\n",
      "Iteration 232\n",
      "Iteration 233\n",
      "Iteration 234\n",
      "Iteration 235\n",
      "Iteration 236\n",
      "Iteration 237\n",
      "Iteration 238\n",
      "Iteration 239\n",
      "Iteration 240\n",
      "Iteration 241\n",
      "Iteration 242\n",
      "Iteration 243\n",
      "Iteration 244\n",
      "Iteration 245\n",
      "Iteration 246\n",
      "Iteration 247\n",
      "Iteration 248\n",
      "Iteration 249\n",
      "Iteration 250\n",
      "Iteration 251\n",
      "Iteration 252\n",
      "Iteration 253\n",
      "Iteration 254\n",
      "Iteration 255\n",
      "Iteration 256\n",
      "Iteration 257\n",
      "Iteration 258\n",
      "Iteration 259\n",
      "Iteration 260\n",
      "Iteration 261\n",
      "Iteration 262\n",
      "Iteration 263\n",
      "Iteration 264\n",
      "Iteration 265\n",
      "Iteration 266\n",
      "Iteration 267\n",
      "Iteration 268\n",
      "Iteration 269\n",
      "Iteration 270\n",
      "Iteration 271\n",
      "Iteration 272\n",
      "Iteration 273\n",
      "Iteration 274\n",
      "Iteration 275\n",
      "Iteration 276\n",
      "Iteration 277\n",
      "Iteration 278\n",
      "Iteration 279\n",
      "Iteration 280\n",
      "Iteration 281\n",
      "Iteration 282\n",
      "Iteration 283\n",
      "Iteration 284\n",
      "Iteration 285\n",
      "Iteration 286\n",
      "Iteration 287\n",
      "Iteration 288\n",
      "Iteration 289\n",
      "Iteration 290\n",
      "Iteration 291\n",
      "Iteration 292\n",
      "Iteration 293\n",
      "Iteration 294\n",
      "Iteration 295\n",
      "Iteration 296\n",
      "Iteration 297\n",
      "Iteration 298\n",
      "Iteration 299\n",
      "Iteration 300\n",
      "Iteration 301\n",
      "Iteration 302\n",
      "Iteration 303\n",
      "Iteration 304\n",
      "Iteration 305\n",
      "Iteration 306\n",
      "Iteration 307\n",
      "Iteration 308\n",
      "Iteration 309\n",
      "Iteration 310\n",
      "Iteration 311\n",
      "Iteration 312\n",
      "Iteration 313\n",
      "Iteration 314\n",
      "Iteration 315\n",
      "Iteration 316\n",
      "Iteration 317\n",
      "Iteration 318\n",
      "Iteration 319\n",
      "Iteration 320\n",
      "Iteration 321\n",
      "Iteration 322\n",
      "Iteration 323\n",
      "Iteration 324\n",
      "Iteration 325\n",
      "Iteration 326\n",
      "Iteration 327\n",
      "Iteration 328\n",
      "Iteration 329\n",
      "Iteration 330\n",
      "Iteration 331\n",
      "Iteration 332\n",
      "Iteration 333\n",
      "Iteration 334\n",
      "Iteration 335\n",
      "Iteration 336\n",
      "Iteration 337\n",
      "Iteration 338\n",
      "Iteration 339\n",
      "Iteration 340\n",
      "Iteration 341\n",
      "Iteration 342\n",
      "Iteration 343\n",
      "Iteration 344\n",
      "Iteration 345\n",
      "Iteration 346\n",
      "Iteration 347\n",
      "Iteration 348\n",
      "Iteration 349\n",
      "Iteration 350\n",
      "Iteration 351\n",
      "Iteration 352\n",
      "Iteration 353\n",
      "Iteration 354\n",
      "Iteration 355\n",
      "Iteration 356\n",
      "Iteration 357\n",
      "Iteration 358\n",
      "Iteration 359\n",
      "Iteration 360\n",
      "Iteration 361\n",
      "Iteration 362\n",
      "Iteration 363\n",
      "Iteration 364\n",
      "Iteration 365\n",
      "Iteration 366\n",
      "Iteration 367\n",
      "Iteration 368\n",
      "Iteration 369\n",
      "Iteration 370\n",
      "Iteration 371\n",
      "Iteration 372\n",
      "Iteration 373\n",
      "Iteration 374\n",
      "Iteration 375\n",
      "Iteration 376\n",
      "Iteration 377\n",
      "Iteration 378\n",
      "Iteration 379\n",
      "Iteration 380\n",
      "Iteration 381\n",
      "Iteration 382\n",
      "Iteration 383\n",
      "Iteration 384\n",
      "Iteration 385\n",
      "Iteration 386\n",
      "Iteration 387\n",
      "Iteration 388\n",
      "Iteration 389\n",
      "Iteration 390\n",
      "Iteration 391\n",
      "Iteration 392\n",
      "Iteration 393\n",
      "Iteration 394\n",
      "Iteration 395\n",
      "Iteration 396\n",
      "Iteration 397\n",
      "Iteration 398\n",
      "Iteration 399\n",
      "Iteration 400\n",
      "Iteration 401\n",
      "Iteration 402\n",
      "Iteration 403\n",
      "Iteration 404\n",
      "Iteration 405\n",
      "Iteration 406\n",
      "Iteration 407\n",
      "Iteration 408\n",
      "Iteration 409\n",
      "Iteration 410\n",
      "Iteration 411\n",
      "Iteration 412\n",
      "Iteration 413\n",
      "Iteration 414\n",
      "Iteration 415\n",
      "Iteration 416\n",
      "Iteration 417\n",
      "Iteration 418\n",
      "Iteration 419\n",
      "Iteration 420\n",
      "Iteration 421\n",
      "Iteration 422\n",
      "Iteration 423\n",
      "Iteration 424\n",
      "Iteration 425\n",
      "Iteration 426\n",
      "Iteration 427\n",
      "Iteration 428\n",
      "Iteration 429\n",
      "Iteration 430\n",
      "Iteration 431\n",
      "Iteration 432\n",
      "Iteration 433\n",
      "Iteration 434\n",
      "Iteration 435\n",
      "Iteration 436\n",
      "Iteration 437\n",
      "Iteration 438\n",
      "Iteration 439\n",
      "Iteration 440\n",
      "Iteration 441\n",
      "Iteration 442\n",
      "Iteration 443\n",
      "Iteration 444\n",
      "Iteration 445\n",
      "Iteration 446\n",
      "Iteration 447\n",
      "Iteration 448\n",
      "Iteration 449\n",
      "Iteration 450\n",
      "Iteration 451\n",
      "Iteration 452\n",
      "Iteration 453\n",
      "Iteration 454\n",
      "Iteration 455\n",
      "Iteration 456\n",
      "Iteration 457\n",
      "Iteration 458\n",
      "Iteration 459\n",
      "Iteration 460\n",
      "Iteration 461\n",
      "Iteration 462\n",
      "Iteration 463\n",
      "Iteration 464\n",
      "Iteration 465\n",
      "Iteration 466\n",
      "Iteration 467\n",
      "Iteration 468\n",
      "Iteration 469\n",
      "Iteration 470\n",
      "Iteration 471\n",
      "Iteration 472\n",
      "Iteration 473\n",
      "Iteration 474\n",
      "Iteration 475\n",
      "Iteration 476\n",
      "Iteration 477\n",
      "Iteration 478\n",
      "Iteration 479\n",
      "Iteration 480\n",
      "Iteration 481\n",
      "Iteration 482\n",
      "Iteration 483\n",
      "Iteration 484\n",
      "Iteration 485\n",
      "Iteration 486\n",
      "Iteration 487\n",
      "Iteration 488\n",
      "Iteration 489\n",
      "Iteration 490\n",
      "Iteration 491\n",
      "Iteration 492\n",
      "Iteration 493\n",
      "Iteration 494\n",
      "Iteration 495\n",
      "Iteration 496\n",
      "Iteration 497\n",
      "Iteration 498\n",
      "Iteration 499\n",
      "Iteration 500\n",
      "Iteration 501\n",
      "Iteration 502\n",
      "Iteration 503\n",
      "Iteration 504\n",
      "Iteration 505\n",
      "Iteration 506\n",
      "Iteration 507\n",
      "Iteration 508\n",
      "Iteration 509\n",
      "Iteration 510\n",
      "Iteration 511\n",
      "Iteration 512\n",
      "Iteration 513\n",
      "Iteration 514\n",
      "Iteration 515\n",
      "Iteration 516\n",
      "Iteration 517\n",
      "Iteration 518\n",
      "Iteration 519\n",
      "Iteration 520\n",
      "Iteration 521\n",
      "Iteration 522\n",
      "Iteration 523\n",
      "Iteration 524\n",
      "Iteration 525\n",
      "Iteration 526\n",
      "Iteration 527\n",
      "Iteration 528\n",
      "Iteration 529\n",
      "Iteration 530\n",
      "Iteration 531\n",
      "Iteration 532\n",
      "Iteration 533\n",
      "Iteration 534\n",
      "Iteration 535\n",
      "Iteration 536\n",
      "Iteration 537\n",
      "Iteration 538\n",
      "Iteration 539\n",
      "Iteration 540\n",
      "Iteration 541\n",
      "Iteration 542\n",
      "Iteration 543\n",
      "Iteration 544\n",
      "Iteration 545\n",
      "Iteration 546\n",
      "Iteration 547\n",
      "Iteration 548\n",
      "Iteration 549\n",
      "Iteration 550\n",
      "Iteration 551\n",
      "Iteration 552\n",
      "Iteration 553\n",
      "Iteration 554\n",
      "Iteration 555\n",
      "Iteration 556\n",
      "Iteration 557\n",
      "Iteration 558\n",
      "Iteration 559\n",
      "Iteration 560\n",
      "Iteration 561\n",
      "Iteration 562\n",
      "Iteration 563\n",
      "Iteration 564\n",
      "Iteration 565\n",
      "Iteration 566\n",
      "Iteration 567\n",
      "Iteration 568\n",
      "Iteration 569\n",
      "Iteration 570\n",
      "Iteration 571\n",
      "Iteration 572\n",
      "Iteration 573\n",
      "Iteration 574\n",
      "Iteration 575\n",
      "Iteration 576\n",
      "Iteration 577\n",
      "Iteration 578\n",
      "Iteration 579\n",
      "Iteration 580\n",
      "Iteration 581\n",
      "Iteration 582\n",
      "Iteration 583\n",
      "Iteration 584\n",
      "Iteration 585\n",
      "Iteration 586\n",
      "Iteration 587\n",
      "Iteration 588\n",
      "Iteration 589\n",
      "Iteration 590\n",
      "Iteration 591\n",
      "Iteration 592\n",
      "Iteration 593\n"
     ]
    },
    {
     "name": "stdout",
     "output_type": "stream",
     "text": [
      "Iteration 594\n",
      "Iteration 595\n",
      "Iteration 596\n",
      "Iteration 597\n",
      "Iteration 598\n",
      "Iteration 599\n",
      "Iteration 600\n",
      "Iteration 601\n",
      "Iteration 602\n",
      "Iteration 603\n",
      "Iteration 604\n",
      "Iteration 605\n",
      "Iteration 606\n",
      "Iteration 607\n",
      "Iteration 608\n",
      "Iteration 609\n",
      "Iteration 610\n",
      "Iteration 611\n",
      "Iteration 612\n",
      "Iteration 613\n",
      "Iteration 614\n",
      "Iteration 615\n",
      "Iteration 616\n",
      "Iteration 617\n",
      "Iteration 618\n",
      "Iteration 619\n",
      "Iteration 620\n",
      "Iteration 621\n",
      "Iteration 622\n",
      "Iteration 623\n",
      "Iteration 624\n",
      "Iteration 625\n",
      "Iteration 626\n",
      "Iteration 627\n",
      "Iteration 628\n",
      "Iteration 629\n",
      "Iteration 630\n",
      "Iteration 631\n",
      "Iteration 632\n",
      "Iteration 633\n",
      "Iteration 634\n",
      "Iteration 635\n",
      "Iteration 636\n",
      "Iteration 637\n",
      "Iteration 638\n",
      "Iteration 639\n",
      "Iteration 640\n",
      "Iteration 641\n",
      "Iteration 642\n",
      "Iteration 643\n",
      "Iteration 644\n",
      "Iteration 645\n",
      "Iteration 646\n",
      "Iteration 647\n",
      "Iteration 648\n",
      "Iteration 649\n",
      "Iteration 650\n",
      "Iteration 651\n",
      "Iteration 652\n",
      "Iteration 653\n",
      "Iteration 654\n",
      "Iteration 655\n",
      "Iteration 656\n",
      "Iteration 657\n",
      "Iteration 658\n",
      "Iteration 659\n",
      "Iteration 660\n",
      "Iteration 661\n",
      "Iteration 662\n",
      "Iteration 663\n",
      "Iteration 664\n",
      "Iteration 665\n",
      "Iteration 666\n",
      "Iteration 667\n",
      "Iteration 668\n",
      "Iteration 669\n",
      "Iteration 670\n",
      "Iteration 671\n",
      "Iteration 672\n",
      "Iteration 673\n",
      "Iteration 674\n",
      "Iteration 675\n",
      "Iteration 676\n",
      "Iteration 677\n",
      "Iteration 678\n",
      "Iteration 679\n",
      "Iteration 680\n",
      "Iteration 681\n",
      "Iteration 682\n",
      "Iteration 683\n",
      "Iteration 684\n",
      "Iteration 685\n",
      "Iteration 686\n",
      "Iteration 687\n",
      "Iteration 688\n",
      "Iteration 689\n",
      "Iteration 690\n",
      "Iteration 691\n",
      "Iteration 692\n",
      "Iteration 693\n",
      "Iteration 694\n",
      "Iteration 695\n",
      "Iteration 696\n",
      "Iteration 697\n",
      "Iteration 698\n",
      "Iteration 699\n",
      "Iteration 700\n",
      "Iteration 701\n",
      "Iteration 702\n",
      "Iteration 703\n",
      "Iteration 704\n",
      "Iteration 705\n",
      "Iteration 706\n",
      "Iteration 707\n",
      "Iteration 708\n",
      "Iteration 709\n",
      "Iteration 710\n",
      "Iteration 711\n",
      "Iteration 712\n",
      "Iteration 713\n",
      "Iteration 714\n",
      "Iteration 715\n",
      "Iteration 716\n",
      "Iteration 717\n",
      "Iteration 718\n",
      "Iteration 719\n",
      "Iteration 720\n",
      "Iteration 721\n",
      "Iteration 722\n",
      "Iteration 723\n",
      "Iteration 724\n",
      "Iteration 725\n",
      "Iteration 726\n",
      "Iteration 727\n",
      "Iteration 728\n",
      "Iteration 729\n",
      "Iteration 730\n",
      "Iteration 731\n",
      "Iteration 732\n",
      "Iteration 733\n",
      "Iteration 734\n",
      "Iteration 735\n",
      "Iteration 736\n",
      "Iteration 737\n",
      "Iteration 738\n",
      "Iteration 739\n",
      "Iteration 740\n",
      "Iteration 741\n",
      "Iteration 742\n",
      "Iteration 743\n",
      "Iteration 744\n",
      "Iteration 745\n",
      "Iteration 746\n",
      "Iteration 747\n",
      "Iteration 748\n",
      "Iteration 749\n",
      "Iteration 750\n",
      "Iteration 751\n",
      "Iteration 752\n",
      "Iteration 753\n",
      "Iteration 754\n",
      "Iteration 755\n",
      "Iteration 756\n",
      "Iteration 757\n",
      "Iteration 758\n",
      "Iteration 759\n",
      "Iteration 760\n",
      "Iteration 761\n",
      "Iteration 762\n",
      "Iteration 763\n",
      "Iteration 764\n",
      "Iteration 765\n",
      "Iteration 766\n",
      "Iteration 767\n",
      "Iteration 768\n",
      "Iteration 769\n",
      "Iteration 770\n",
      "Iteration 771\n",
      "Iteration 772\n",
      "Iteration 773\n",
      "Iteration 774\n",
      "Iteration 775\n",
      "Iteration 776\n",
      "Iteration 777\n",
      "Iteration 778\n",
      "Iteration 779\n",
      "Iteration 780\n",
      "Iteration 781\n",
      "Iteration 782\n",
      "Iteration 783\n",
      "Iteration 784\n",
      "Iteration 785\n",
      "Iteration 786\n",
      "Iteration 787\n",
      "Iteration 788\n",
      "Iteration 789\n",
      "Iteration 790\n",
      "Iteration 791\n",
      "Iteration 792\n",
      "Iteration 793\n",
      "Iteration 794\n",
      "Iteration 795\n",
      "Iteration 796\n",
      "Iteration 797\n",
      "Iteration 798\n",
      "Iteration 799\n",
      "Iteration 800\n",
      "Iteration 801\n",
      "Iteration 802\n",
      "Iteration 803\n",
      "Iteration 804\n",
      "Iteration 805\n",
      "Iteration 806\n",
      "Iteration 807\n",
      "Iteration 808\n",
      "Iteration 809\n",
      "Iteration 810\n",
      "Iteration 811\n",
      "Iteration 812\n",
      "Iteration 813\n",
      "Iteration 814\n",
      "Iteration 815\n",
      "Iteration 816\n",
      "Iteration 817\n",
      "Iteration 818\n",
      "Iteration 819\n",
      "Iteration 820\n",
      "Iteration 821\n",
      "Iteration 822\n",
      "Iteration 823\n",
      "Iteration 824\n",
      "Iteration 825\n",
      "Iteration 826\n",
      "Iteration 827\n",
      "Iteration 828\n",
      "Iteration 829\n",
      "Iteration 830\n",
      "Iteration 831\n",
      "Iteration 832\n",
      "Iteration 833\n",
      "Iteration 834\n",
      "Iteration 835\n",
      "Iteration 836\n",
      "Iteration 837\n",
      "Iteration 838\n",
      "Iteration 839\n",
      "Iteration 840\n",
      "Iteration 841\n",
      "Iteration 842\n",
      "Iteration 843\n",
      "Iteration 844\n",
      "Iteration 845\n",
      "Iteration 846\n",
      "Iteration 847\n",
      "Iteration 848\n",
      "Iteration 849\n",
      "Iteration 850\n",
      "Iteration 851\n",
      "Iteration 852\n",
      "Iteration 853\n",
      "Iteration 854\n",
      "Iteration 855\n",
      "Iteration 856\n",
      "Iteration 857\n",
      "Iteration 858\n",
      "Iteration 859\n",
      "Iteration 860\n",
      "Iteration 861\n",
      "Iteration 862\n",
      "Iteration 863\n",
      "Iteration 864\n",
      "Iteration 865\n",
      "Iteration 866\n",
      "Iteration 867\n",
      "Iteration 868\n",
      "Iteration 869\n",
      "Iteration 870\n",
      "Iteration 871\n",
      "Iteration 872\n",
      "Iteration 873\n",
      "Iteration 874\n",
      "Iteration 875\n",
      "Iteration 876\n",
      "Iteration 877\n",
      "Iteration 878\n",
      "Iteration 879\n",
      "Iteration 880\n",
      "Iteration 881\n",
      "Iteration 882\n",
      "Iteration 883\n",
      "Iteration 884\n",
      "Iteration 885\n",
      "Iteration 886\n",
      "Iteration 887\n",
      "Iteration 888\n",
      "Iteration 889\n",
      "Iteration 890\n",
      "Iteration 891\n",
      "Iteration 892\n",
      "Iteration 893\n",
      "Iteration 894\n",
      "Iteration 895\n",
      "Iteration 896\n",
      "Iteration 897\n",
      "Iteration 898\n",
      "Iteration 899\n",
      "Iteration 900\n",
      "Iteration 901\n",
      "Iteration 902\n",
      "Iteration 903\n",
      "Iteration 904\n",
      "Iteration 905\n",
      "Iteration 906\n",
      "Iteration 907\n",
      "Iteration 908\n",
      "Iteration 909\n",
      "Iteration 910\n",
      "Iteration 911\n",
      "Iteration 912\n",
      "Iteration 913\n",
      "Iteration 914\n",
      "Iteration 915\n",
      "Iteration 916\n",
      "Iteration 917\n",
      "Iteration 918\n",
      "Iteration 919\n",
      "Iteration 920\n",
      "Iteration 921\n",
      "Iteration 922\n",
      "Iteration 923\n",
      "Iteration 924\n",
      "Iteration 925\n",
      "Iteration 926\n",
      "Iteration 927\n",
      "Iteration 928\n",
      "Iteration 929\n",
      "Iteration 930\n",
      "Iteration 931\n",
      "Iteration 932\n",
      "Iteration 933\n",
      "Iteration 934\n",
      "Iteration 935\n",
      "Iteration 936\n",
      "Iteration 937\n",
      "Iteration 938\n",
      "Iteration 939\n",
      "Iteration 940\n",
      "Iteration 941\n",
      "Iteration 942\n",
      "Iteration 943\n",
      "Iteration 944\n",
      "Iteration 945\n",
      "Iteration 946\n",
      "Iteration 947\n",
      "Iteration 948\n",
      "Iteration 949\n",
      "Iteration 950\n",
      "Iteration 951\n",
      "Iteration 952\n",
      "Iteration 953\n",
      "Iteration 954\n",
      "Iteration 955\n",
      "Iteration 956\n",
      "Iteration 957\n",
      "Iteration 958\n",
      "Iteration 959\n",
      "Iteration 960\n",
      "Iteration 961\n",
      "Iteration 962\n",
      "Iteration 963\n",
      "Iteration 964\n",
      "Iteration 965\n",
      "Iteration 966\n",
      "Iteration 967\n",
      "Iteration 968\n",
      "Iteration 969\n",
      "Iteration 970\n",
      "Iteration 971\n",
      "Iteration 972\n",
      "Iteration 973\n",
      "Iteration 974\n",
      "Iteration 975\n",
      "Iteration 976\n",
      "Iteration 977\n",
      "Iteration 978\n",
      "Iteration 979\n",
      "Iteration 980\n",
      "Iteration 981\n",
      "Iteration 982\n",
      "Iteration 983\n",
      "Iteration 984\n",
      "Iteration 985\n",
      "Iteration 986\n",
      "Iteration 987\n",
      "Iteration 988\n",
      "Iteration 989\n",
      "Iteration 990\n",
      "Iteration 991\n",
      "Iteration 992\n",
      "Iteration 993\n",
      "Iteration 994\n",
      "Iteration 995\n",
      "Iteration 996\n",
      "Iteration 997\n",
      "Iteration 998\n",
      "Iteration 999\n"
     ]
    }
   ],
   "source": [
    "N = 10\n",
    "T = 20\n",
    "dim = 16\n",
    "q = 6*np.sqrt(2*dim)+dim\n",
    "    \n",
    "cov_prop = 2*np.eye(dim)\n",
    "mu_target = np.array([0]*dim)\n",
    "cov_target = np.eye(dim)\n",
    "\n",
    "n_sim = 1000\n",
    "m = 100\n",
    "dist_L_bs = []\n",
    "\n",
    "for j in range(0,n_sim):\n",
    "    print \"Iteration\",j\n",
    "    p_bs,m_bs,L_bs = p_estimation_mnorm_threshold(N,m,T,mu_target,cov_target,Phi_norm)\n",
    "    dist_L_bs.append(L_bs[m-1])"
   ]
  },
  {
   "cell_type": "code",
   "execution_count": 62,
   "metadata": {
    "hidden": true
   },
   "outputs": [],
   "source": [
    "x1 = -np.log(chi2.sf(dist_L_bs,df = 16))"
   ]
  },
  {
   "cell_type": "code",
   "execution_count": 63,
   "metadata": {
    "hidden": true
   },
   "outputs": [
    {
     "data": {
      "text/plain": [
       "(array([   6.,   39.,  132.,  274.,  278.,  191.,   60.,   16.,    3.,    1.]),\n",
       " array([  7.14989459,   7.9626264 ,   8.7753582 ,   9.58809001,\n",
       "         10.40082181,  11.21355362,  12.02628543,  12.83901723,\n",
       "         13.65174904,  14.46448084,  15.27721265]),\n",
       " <a list of 10 Patch objects>)"
      ]
     },
     "execution_count": 63,
     "metadata": {},
     "output_type": "execute_result"
    },
    {
     "data": {
      "image/png": "[encoded data removed]",
      "text/plain": [
       "<Figure size 432x288 with 1 Axes>"
      ]
     },
     "metadata": {
      "needs_background": "light"
     },
     "output_type": "display_data"
    }
   ],
   "source": [
    "plt.hist(x1)"
   ]
  },
  {
   "cell_type": "code",
   "execution_count": 64,
   "metadata": {
    "hidden": true
   },
   "outputs": [
    {
     "data": {
      "image/png": "[encoded data removed]",
      "text/plain": [
       "<Figure size 432x288 with 1 Axes>"
      ]
     },
     "metadata": {
      "needs_background": "light"
     },
     "output_type": "display_data"
    }
   ],
   "source": [
    "# Generate data from gamma distribution\n",
    "y = st.gamma.rvs(m,loc=0,scale=1/float(N), size=len(x1))  # Sample 2: Y ~ t(5)\n",
    "\n",
    "# Quantile-quantile plot\n",
    "fig, ax = plt.subplots()\n",
    "#plt.figure()\n",
    "ax.scatter(np.sort(y), np.sort(x1))\n",
    "plt.xlabel('Theoretical quantiles')\n",
    "plt.ylabel('Sample quantiles')\n",
    "lims = [\n",
    "    np.min([ax.get_xlim(), ax.get_ylim()]),  # min of both axes\n",
    "    np.max([ax.get_xlim(), ax.get_ylim()]),  # max of both axes\n",
    "]\n",
    "\n",
    "# now plot both limits against eachother\n",
    "ax.plot(lims, lims, 'k-', alpha=0.75, zorder=0,color='red')\n",
    "#ax.set_aspect('equal')\n",
    "#ax.set_xlim(lims)\n",
    "#ax.set_ylim(lims)\n",
    "plt.show()\n",
    "plt.close()"
   ]
  },
  {
   "cell_type": "code",
   "execution_count": 18,
   "metadata": {
    "hidden": true
   },
   "outputs": [],
   "source": [
    "from scipy.stats import gamma"
   ]
  },
  {
   "cell_type": "code",
   "execution_count": 54,
   "metadata": {
    "hidden": true
   },
   "outputs": [
    {
     "name": "stdout",
     "output_type": "stream",
     "text": [
      "Iteration 0\n",
      "Iteration 10\n",
      "Iteration 20\n",
      "Iteration 30\n",
      "Iteration 40\n",
      "Iteration 50\n",
      "Iteration 60\n",
      "Iteration 70\n",
      "Iteration 80\n",
      "Iteration 90\n",
      "Iteration 100\n",
      "Iteration 110\n",
      "Iteration 120\n",
      "Iteration 130\n",
      "Iteration 140\n",
      "Iteration 150\n",
      "Iteration 160\n",
      "Iteration 170\n",
      "Iteration 180\n",
      "Iteration 190\n",
      "Iteration 200\n",
      "Iteration 210\n",
      "Iteration 220\n",
      "Iteration 230\n",
      "Iteration 240\n",
      "Iteration 250\n",
      "Iteration 260\n",
      "Iteration 270\n",
      "Iteration 280\n",
      "Iteration 290\n",
      "Iteration 300\n",
      "Iteration 310\n",
      "Iteration 320\n",
      "Iteration 330\n",
      "Iteration 340\n",
      "Iteration 350\n",
      "Iteration 360\n",
      "Iteration 370\n",
      "Iteration 380\n",
      "Iteration 390\n",
      "Iteration 400\n",
      "Iteration 410\n",
      "Iteration 420\n",
      "Iteration 430\n",
      "Iteration 440\n",
      "Iteration 450\n",
      "Iteration 460\n",
      "Iteration 470\n",
      "Iteration 480\n",
      "Iteration 490\n",
      "Iteration 500\n",
      "Iteration 510\n",
      "Iteration 520\n",
      "Iteration 530\n",
      "Iteration 540\n",
      "Iteration 550\n",
      "Iteration 560\n",
      "Iteration 570\n",
      "Iteration 580\n",
      "Iteration 590\n",
      "Iteration 600\n",
      "Iteration 610\n",
      "Iteration 620\n",
      "Iteration 630\n",
      "Iteration 640\n",
      "Iteration 650\n",
      "Iteration 660\n",
      "Iteration 670\n",
      "Iteration 680\n",
      "Iteration 690\n",
      "Iteration 700\n",
      "Iteration 710\n",
      "Iteration 720\n",
      "Iteration 730\n",
      "Iteration 740\n",
      "Iteration 750\n",
      "Iteration 760\n",
      "Iteration 770\n",
      "Iteration 780\n",
      "Iteration 790\n",
      "Iteration 800\n",
      "Iteration 810\n",
      "Iteration 820\n",
      "Iteration 830\n",
      "Iteration 840\n",
      "Iteration 850\n",
      "Iteration 860\n",
      "Iteration 870\n",
      "Iteration 880\n",
      "Iteration 890\n",
      "Iteration 900\n",
      "Iteration 910\n",
      "Iteration 920\n",
      "Iteration 930\n",
      "Iteration 940\n",
      "Iteration 950\n",
      "Iteration 960\n",
      "Iteration 970\n",
      "Iteration 980\n",
      "Iteration 990\n"
     ]
    }
   ],
   "source": [
    "n_sim = 1000\n",
    "m = 100\n",
    "dist_L_mh = []\n",
    "T = 20\n",
    "dim = 16\n",
    "q = 6*np.sqrt(2*dim)+dim\n",
    "N = 10\n",
    "\n",
    "for j in range(0,n_sim):\n",
    "    if j%10 == 0:\n",
    "        print \"Iteration\",j\n",
    "        \n",
    "    cov_prop = 2*np.eye(dim)\n",
    "    mu_target = np.array([0]*dim)\n",
    "    cov_target = np.eye(dim)\n",
    "\n",
    "    p_mh,m_mh,L_mh = p_estimation_threshold(N,m,T,normal,gaussian_proposal,Phi = Phi_norm, \n",
    "                                target_fn_kwargs = {'mu':mu_target,'cov':cov_target},\n",
    "                                prop_fn_kwargs = {'cov':cov_prop})\n",
    "    dist_L_mh.append(L_mh[m-1])"
   ]
  },
  {
   "cell_type": "code",
   "execution_count": 56,
   "metadata": {
    "hidden": true
   },
   "outputs": [],
   "source": [
    "x2 = -np.log(chi2.sf(dist_L_mh,df = 16))"
   ]
  },
  {
   "cell_type": "code",
   "execution_count": 68,
   "metadata": {
    "hidden": true
   },
   "outputs": [
    {
     "data": {
      "text/plain": [
       "(array([  26.,   85.,  160.,  238.,  227.,  158.,   72.,   21.,    9.,    4.]),\n",
       " array([  7.60969444,   8.20468705,   8.79967967,   9.39467228,\n",
       "          9.98966489,  10.5846575 ,  11.17965011,  11.77464272,\n",
       "         12.36963534,  12.96462795,  13.55962056]),\n",
       " <a list of 10 Patch objects>)"
      ]
     },
     "execution_count": 68,
     "metadata": {},
     "output_type": "execute_result"
    },
    {
     "data": {
      "image/png": "[encoded data removed]",
      "text/plain": [
       "<Figure size 432x288 with 1 Axes>"
      ]
     },
     "metadata": {
      "needs_background": "light"
     },
     "output_type": "display_data"
    }
   ],
   "source": [
    "plt.hist(y)"
   ]
  },
  {
   "cell_type": "code",
   "execution_count": 67,
   "metadata": {
    "hidden": true
   },
   "outputs": [
    {
     "data": {
      "image/png": "[encoded data removed]",
      "text/plain": [
       "<Figure size 432x288 with 1 Axes>"
      ]
     },
     "metadata": {
      "needs_background": "light"
     },
     "output_type": "display_data"
    }
   ],
   "source": [
    "# Generate data from gamma distribution\n",
    "y = st.gamma.rvs(m,loc=0,scale=1/float(N), size=len(x2))  # Sample 2: Y ~ t(5)\n",
    "\n",
    "# Quantile-quantile plot\n",
    "fig, ax = plt.subplots()\n",
    "#plt.figure()\n",
    "ax.scatter(np.sort(y), np.sort(x2))\n",
    "plt.xlabel('Theoretical quantiles')\n",
    "plt.ylabel('Sample quantiles')\n",
    "lims = [\n",
    "    np.min([ax.get_xlim(), ax.get_ylim()]),  # min of both axes\n",
    "    np.max([ax.get_xlim(), ax.get_ylim()]),  # max of both axes\n",
    "]\n",
    "\n",
    "# now plot both limits against eachother\n",
    "ax.plot(lims, lims, 'k-', alpha=0.75, zorder=0,color='red')\n",
    "#ax.set_aspect('equal')\n",
    "#ax.set_xlim(lims)\n",
    "#ax.set_ylim(lims)\n",
    "plt.show()\n",
    "plt.close()"
   ]
  },
  {
   "cell_type": "code",
   "execution_count": 28,
   "metadata": {
    "hidden": true
   },
   "outputs": [
    {
     "data": {
      "text/plain": [
       "<matplotlib.axes._subplots.AxesSubplot at 0xe2f99e8>"
      ]
     },
     "execution_count": 28,
     "metadata": {},
     "output_type": "execute_result"
    },
    {
     "data": {
      "image/png": "[encoded data removed]",
      "text/plain": [
       "<Figure size 432x288 with 1 Axes>"
      ]
     },
     "metadata": {
      "needs_background": "light"
     },
     "output_type": "display_data"
    }
   ],
   "source": [
    "# Density Plot and Histogram of dist_L_bs\n",
    "sns.distplot(dist_L_bs, hist=True, kde=True, \n",
    "             bins=int(180/5), \n",
    "             hist_kws={'edgecolor':'black'},\n",
    "             kde_kws={'shade': True,'linewidth': 4})"
   ]
  },
  {
   "cell_type": "code",
   "execution_count": 29,
   "metadata": {
    "hidden": true
   },
   "outputs": [
    {
     "data": {
      "text/plain": [
       "<matplotlib.axes._subplots.AxesSubplot at 0xe32edd8>"
      ]
     },
     "execution_count": 29,
     "metadata": {},
     "output_type": "execute_result"
    },
    {
     "data": {
      "image/png": "[encoded data removed]",
      "text/plain": [
       "<Figure size 432x288 with 1 Axes>"
      ]
     },
     "metadata": {
      "needs_background": "light"
     },
     "output_type": "display_data"
    }
   ],
   "source": [
    "# Density Plot and Histogram of dist_L_mh\n",
    "sns.distplot(dist_L_mh, hist=True, kde=True, \n",
    "             bins=int(180/5), \n",
    "             hist_kws={'edgecolor':'black'},\n",
    "             kde_kws={'shade': True,'linewidth': 4})"
   ]
  },
  {
   "cell_type": "markdown",
   "metadata": {
    "hidden": true
   },
   "source": [
    "### Exact distribution"
   ]
  },
  {
   "cell_type": "code",
   "execution_count": 93,
   "metadata": {
    "hidden": true
   },
   "outputs": [],
   "source": [
    "def p_estimation_exact(N,M,Phi,dim):\n",
    "\n",
    "    #m=1\n",
    "    mean = np.array([0]*dim)\n",
    "    cov = np.eye(dim)\n",
    "    X=np.random.multivariate_normal(mean,cov,N)\n",
    "    phi=Phi(X)\n",
    "    s = np.argsort(phi)\n",
    "    phi,X = phi[s], X[s]\n",
    "    X = np.array(X)\n",
    "    L=phi[0]\n",
    "    all_L = [L]\n",
    "\n",
    "    for m in range(1,M):   # as long as there are particles below q\n",
    "        \n",
    "        #t = np.random.exponential(1,1)\n",
    "        #U = np.random.uniform(low=0,high=2*np.pi,size=1)\n",
    "        #x_star = np.sqrt(2*t+L)*np.array([np.cos(U),np.sin(U)])\n",
    "        \n",
    "        z = np.random.multivariate_normal(mean,cov,1)\n",
    "        u = np.random.uniform(low=0,high=1,size=1)\n",
    "        R = np.sqrt(chi2.ppf(u+chi2.cdf(L,dim)*(1-u), dim, loc=0, scale=1))\n",
    "        x_star = R*z/np.linalg.norm(z)\n",
    "        \n",
    "        x_star = [item for sublist in x_star for item in sublist]\n",
    "\n",
    "        # Update X\n",
    "        X[0] = np.array(x_star)\n",
    "        phi=Phi(X)\n",
    "        s = np.argsort(phi)\n",
    "        phi,X = phi[s], X[s]\n",
    "        X = np.array(X)\n",
    "        \n",
    "        # Set adaptive boundary\n",
    "        L = phi[0]\n",
    "        m = m + 1\n",
    "        all_L.append(L)\n",
    "\n",
    "    phat = (1.0-1.0/N)**(m-1)\n",
    "    return phat,m,all_L"
   ]
  },
  {
   "cell_type": "code",
   "execution_count": 76,
   "metadata": {
    "hidden": true
   },
   "outputs": [],
   "source": [
    "dim = 2\n",
    "N = 10\n",
    "M = 100\n",
    "\n",
    "p,m,L = p_estimation_exact(N,M,Phi_norm,dim)"
   ]
  },
  {
   "cell_type": "code",
   "execution_count": 124,
   "metadata": {
    "hidden": true
   },
   "outputs": [
    {
     "data": {
      "text/plain": [
       "0.00091188196555451635"
      ]
     },
     "execution_count": 124,
     "metadata": {},
     "output_type": "execute_result"
    }
   ],
   "source": [
    "chi2.sf(6*np.sqrt(2*2)+2,2)"
   ]
  },
  {
   "cell_type": "code",
   "execution_count": 94,
   "metadata": {
    "hidden": true
   },
   "outputs": [
    {
     "name": "stdout",
     "output_type": "stream",
     "text": [
      "Iteration 0\n",
      "Iteration 10\n",
      "Iteration 20\n",
      "Iteration 30\n",
      "Iteration 40\n",
      "Iteration 50\n",
      "Iteration 60\n",
      "Iteration 70\n",
      "Iteration 80\n",
      "Iteration 90\n",
      "Iteration 100\n",
      "Iteration 110\n",
      "Iteration 120\n",
      "Iteration 130\n",
      "Iteration 140\n",
      "Iteration 150\n",
      "Iteration 160\n",
      "Iteration 170\n",
      "Iteration 180\n",
      "Iteration 190\n",
      "Iteration 200\n",
      "Iteration 210\n",
      "Iteration 220\n",
      "Iteration 230\n",
      "Iteration 240\n",
      "Iteration 250\n",
      "Iteration 260\n",
      "Iteration 270\n",
      "Iteration 280\n",
      "Iteration 290\n",
      "Iteration 300\n",
      "Iteration 310\n",
      "Iteration 320\n",
      "Iteration 330\n",
      "Iteration 340\n",
      "Iteration 350\n",
      "Iteration 360\n",
      "Iteration 370\n",
      "Iteration 380\n",
      "Iteration 390\n",
      "Iteration 400\n",
      "Iteration 410\n",
      "Iteration 420\n",
      "Iteration 430\n",
      "Iteration 440\n",
      "Iteration 450\n",
      "Iteration 460\n",
      "Iteration 470\n",
      "Iteration 480\n",
      "Iteration 490\n",
      "Iteration 500\n",
      "Iteration 510\n",
      "Iteration 520\n",
      "Iteration 530\n",
      "Iteration 540\n",
      "Iteration 550\n",
      "Iteration 560\n",
      "Iteration 570\n",
      "Iteration 580\n",
      "Iteration 590\n",
      "Iteration 600\n",
      "Iteration 610\n",
      "Iteration 620\n",
      "Iteration 630\n",
      "Iteration 640\n",
      "Iteration 650\n",
      "Iteration 660\n",
      "Iteration 670\n",
      "Iteration 680\n",
      "Iteration 690\n",
      "Iteration 700\n",
      "Iteration 710\n",
      "Iteration 720\n",
      "Iteration 730\n",
      "Iteration 740\n",
      "Iteration 750\n",
      "Iteration 760\n",
      "Iteration 770\n",
      "Iteration 780\n",
      "Iteration 790\n",
      "Iteration 800\n",
      "Iteration 810\n",
      "Iteration 820\n",
      "Iteration 830\n",
      "Iteration 840\n",
      "Iteration 850\n",
      "Iteration 860\n",
      "Iteration 870\n",
      "Iteration 880\n",
      "Iteration 890\n",
      "Iteration 900\n",
      "Iteration 910\n",
      "Iteration 920\n",
      "Iteration 930\n",
      "Iteration 940\n",
      "Iteration 950\n",
      "Iteration 960\n",
      "Iteration 970\n",
      "Iteration 980\n",
      "Iteration 990\n"
     ]
    }
   ],
   "source": [
    "N = 10\n",
    "dim = 16\n",
    "\n",
    "M = 1000\n",
    "m = 100\n",
    "dist_L_exact = []\n",
    "\n",
    "for j in range(0,M):\n",
    "    if j%10 == 0:\n",
    "        print \"Iteration\",j\n",
    "    p_exact,m_exact,L_exact = p_estimation_exact(N,m,Phi_norm,dim)\n",
    "    #print((L_exact[m-1]))\n",
    "    dist_L_exact.append(L_exact[m-1])"
   ]
  },
  {
   "cell_type": "code",
   "execution_count": 17,
   "metadata": {
    "hidden": true
   },
   "outputs": [
    {
     "data": {
      "text/plain": [
       "(array([  13.,   37.,  112.,  189.,  260.,  193.,  114.,   51.,   24.,    7.]),\n",
       " array([  7.19918631,   7.79516764,   8.39114898,   8.98713032,\n",
       "          9.58311166,  10.17909299,  10.77507433,  11.37105567,\n",
       "         11.96703701,  12.56301834,  13.15899968]),\n",
       " <a list of 10 Patch objects>)"
      ]
     },
     "execution_count": 17,
     "metadata": {},
     "output_type": "execute_result"
    },
    {
     "data": {
      "image/png": "[encoded data removed]",
      "text/plain": [
       "<Figure size 432x288 with 1 Axes>"
      ]
     },
     "metadata": {
      "needs_background": "light"
     },
     "output_type": "display_data"
    }
   ],
   "source": [
    "plt.hist(-np.log(chi2.sf(dist_L_exact,df = 16)))"
   ]
  },
  {
   "cell_type": "code",
   "execution_count": 95,
   "metadata": {
    "hidden": true
   },
   "outputs": [
    {
     "data": {
      "image/png": "[encoded data removed]",
      "text/plain": [
       "<Figure size 432x288 with 1 Axes>"
      ]
     },
     "metadata": {
      "needs_background": "light"
     },
     "output_type": "display_data"
    }
   ],
   "source": [
    "# Generate data from gamma distribution\n",
    "y = st.gamma.rvs(m,loc=0,scale=1/float(N), size=len(x3))  # Sample 2: Y ~ t(5)\n",
    "\n",
    "# Quantile-quantile plot\n",
    "\n",
    "plt.figure()\n",
    "plt.scatter(np.sort(y), np.sort(x3))\n",
    "plt.xlabel('Theoretical quantiles')\n",
    "plt.ylabel('Sample quantiles')\n",
    "lims = [\n",
    "    np.min([ax.get_xlim(), ax.get_ylim()]),  # min of both axes\n",
    "    np.max([ax.get_xlim(), ax.get_ylim()]),  # max of both axes\n",
    "]\n",
    "\n",
    "# now plot both limits against eachother\n",
    "plt.plot(lims, lims, 'k-', alpha=0.75, zorder=0,color='red')\n",
    "#ax.set_aspect('equal')\n",
    "#ax.set_xlim(lims)\n",
    "#ax.set_ylim(lims)\n",
    "plt.show()\n",
    "plt.close()"
   ]
  },
  {
   "cell_type": "code",
   "execution_count": 66,
   "metadata": {
    "hidden": true
   },
   "outputs": [
    {
     "data": {
      "text/plain": [
       "(array([  17.,   57.,  156.,  240.,  248.,  186.,   66.,   19.,    9.,    2.]),\n",
       " array([  7.22384141,   7.89557804,   8.56731468,   9.23905131,\n",
       "          9.91078794,  10.58252458,  11.25426121,  11.92599784,\n",
       "         12.59773448,  13.26947111,  13.94120775]),\n",
       " <a list of 10 Patch objects>)"
      ]
     },
     "execution_count": 66,
     "metadata": {},
     "output_type": "execute_result"
    },
    {
     "data": {
      "image/png": "[encoded data removed]",
      "text/plain": [
       "<Figure size 432x288 with 1 Axes>"
      ]
     },
     "metadata": {
      "needs_background": "light"
     },
     "output_type": "display_data"
    }
   ],
   "source": [
    "plt.hist(y)"
   ]
  },
  {
   "cell_type": "code",
   "execution_count": 113,
   "metadata": {
    "hidden": true
   },
   "outputs": [
    {
     "data": {
      "text/plain": [
       "<matplotlib.axes._subplots.AxesSubplot at 0xfbdf208>"
      ]
     },
     "execution_count": 113,
     "metadata": {},
     "output_type": "execute_result"
    },
    {
     "data": {
      "image/png": "[encoded data removed]",
      "text/plain": [
       "<Figure size 432x288 with 1 Axes>"
      ]
     },
     "metadata": {
      "needs_background": "light"
     },
     "output_type": "display_data"
    }
   ],
   "source": [
    "# Density Plot and Histogram of dist_L_mh\n",
    "sns.distplot(dist_L_exact, hist=True, kde=True, \n",
    "             bins=int(180/5), \n",
    "             hist_kws={'edgecolor':'black'},\n",
    "             kde_kws={'shade': True,'linewidth': 4})"
   ]
  }
 ],
 "metadata": {
  "kernelspec": {
   "display_name": "Python 2",
   "language": "python",
   "name": "python2"
  },
  "language_info": {
   "codemirror_mode": {
    "name": "ipython",
    "version": 2
   },
   "file_extension": ".py",
   "mimetype": "text/x-python",
   "name": "python",
   "nbconvert_exporter": "python",
   "pygments_lexer": "ipython2",
   "version": "2.7.15"
  }
 },
 "nbformat": 4,
 "nbformat_minor": 2
}
